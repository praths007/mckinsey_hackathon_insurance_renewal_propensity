{
 "cells": [
  {
   "cell_type": "code",
   "execution_count": 201,
   "metadata": {},
   "outputs": [],
   "source": [
    "import pandas as pd\n",
    "import numpy as np\n",
    "import matplotlib.pyplot as plt"
   ]
  },
  {
   "cell_type": "code",
   "execution_count": 202,
   "metadata": {},
   "outputs": [],
   "source": [
    "from sklearn.preprocessing import LabelEncoder"
   ]
  },
  {
   "cell_type": "code",
   "execution_count": 477,
   "metadata": {},
   "outputs": [],
   "source": [
    "from sklearn import preprocessing"
   ]
  },
  {
   "cell_type": "code",
   "execution_count": 526,
   "metadata": {},
   "outputs": [],
   "source": [
    "# read train and test files\n",
    "train_df = pd.read_csv(\"train_ZoGVYWq.csv\")\n",
    "test_df = pd.read_csv(\"test_66516Ee.csv\")"
   ]
  },
  {
   "cell_type": "code",
   "execution_count": 527,
   "metadata": {},
   "outputs": [],
   "source": [
    "test_df_orig = test_df.copy()"
   ]
  },
  {
   "cell_type": "code",
   "execution_count": 417,
   "metadata": {},
   "outputs": [
    {
     "data": {
      "text/html": [
       "<div>\n",
       "<style scoped>\n",
       "    .dataframe tbody tr th:only-of-type {\n",
       "        vertical-align: middle;\n",
       "    }\n",
       "\n",
       "    .dataframe tbody tr th {\n",
       "        vertical-align: top;\n",
       "    }\n",
       "\n",
       "    .dataframe thead th {\n",
       "        text-align: right;\n",
       "    }\n",
       "</style>\n",
       "<table border=\"1\" class=\"dataframe\">\n",
       "  <thead>\n",
       "    <tr style=\"text-align: right;\">\n",
       "      <th></th>\n",
       "      <th>id</th>\n",
       "      <th>perc_premium_paid_by_cash_credit</th>\n",
       "      <th>age_in_days</th>\n",
       "      <th>Income</th>\n",
       "      <th>Count_3-6_months_late</th>\n",
       "      <th>Count_6-12_months_late</th>\n",
       "      <th>Count_more_than_12_months_late</th>\n",
       "      <th>application_underwriting_score</th>\n",
       "      <th>no_of_premiums_paid</th>\n",
       "      <th>sourcing_channel</th>\n",
       "      <th>residence_area_type</th>\n",
       "      <th>premium</th>\n",
       "      <th>renewal</th>\n",
       "    </tr>\n",
       "  </thead>\n",
       "  <tbody>\n",
       "    <tr>\n",
       "      <th>0</th>\n",
       "      <td>110936</td>\n",
       "      <td>0.429</td>\n",
       "      <td>12058</td>\n",
       "      <td>355060</td>\n",
       "      <td>0.0</td>\n",
       "      <td>0.0</td>\n",
       "      <td>0.0</td>\n",
       "      <td>99.02</td>\n",
       "      <td>13</td>\n",
       "      <td>C</td>\n",
       "      <td>Urban</td>\n",
       "      <td>3300</td>\n",
       "      <td>1</td>\n",
       "    </tr>\n",
       "    <tr>\n",
       "      <th>1</th>\n",
       "      <td>41492</td>\n",
       "      <td>0.010</td>\n",
       "      <td>21546</td>\n",
       "      <td>315150</td>\n",
       "      <td>0.0</td>\n",
       "      <td>0.0</td>\n",
       "      <td>0.0</td>\n",
       "      <td>99.89</td>\n",
       "      <td>21</td>\n",
       "      <td>A</td>\n",
       "      <td>Urban</td>\n",
       "      <td>18000</td>\n",
       "      <td>1</td>\n",
       "    </tr>\n",
       "    <tr>\n",
       "      <th>2</th>\n",
       "      <td>31300</td>\n",
       "      <td>0.917</td>\n",
       "      <td>17531</td>\n",
       "      <td>84140</td>\n",
       "      <td>2.0</td>\n",
       "      <td>3.0</td>\n",
       "      <td>1.0</td>\n",
       "      <td>98.69</td>\n",
       "      <td>7</td>\n",
       "      <td>C</td>\n",
       "      <td>Rural</td>\n",
       "      <td>3300</td>\n",
       "      <td>0</td>\n",
       "    </tr>\n",
       "    <tr>\n",
       "      <th>3</th>\n",
       "      <td>19415</td>\n",
       "      <td>0.049</td>\n",
       "      <td>15341</td>\n",
       "      <td>250510</td>\n",
       "      <td>0.0</td>\n",
       "      <td>0.0</td>\n",
       "      <td>0.0</td>\n",
       "      <td>99.57</td>\n",
       "      <td>9</td>\n",
       "      <td>A</td>\n",
       "      <td>Urban</td>\n",
       "      <td>9600</td>\n",
       "      <td>1</td>\n",
       "    </tr>\n",
       "    <tr>\n",
       "      <th>4</th>\n",
       "      <td>99379</td>\n",
       "      <td>0.052</td>\n",
       "      <td>31400</td>\n",
       "      <td>198680</td>\n",
       "      <td>0.0</td>\n",
       "      <td>0.0</td>\n",
       "      <td>0.0</td>\n",
       "      <td>99.87</td>\n",
       "      <td>12</td>\n",
       "      <td>B</td>\n",
       "      <td>Urban</td>\n",
       "      <td>9600</td>\n",
       "      <td>1</td>\n",
       "    </tr>\n",
       "  </tbody>\n",
       "</table>\n",
       "</div>"
      ],
      "text/plain": [
       "       id  perc_premium_paid_by_cash_credit  age_in_days  Income  \\\n",
       "0  110936                             0.429        12058  355060   \n",
       "1   41492                             0.010        21546  315150   \n",
       "2   31300                             0.917        17531   84140   \n",
       "3   19415                             0.049        15341  250510   \n",
       "4   99379                             0.052        31400  198680   \n",
       "\n",
       "   Count_3-6_months_late  Count_6-12_months_late  \\\n",
       "0                    0.0                     0.0   \n",
       "1                    0.0                     0.0   \n",
       "2                    2.0                     3.0   \n",
       "3                    0.0                     0.0   \n",
       "4                    0.0                     0.0   \n",
       "\n",
       "   Count_more_than_12_months_late  application_underwriting_score  \\\n",
       "0                             0.0                           99.02   \n",
       "1                             0.0                           99.89   \n",
       "2                             1.0                           98.69   \n",
       "3                             0.0                           99.57   \n",
       "4                             0.0                           99.87   \n",
       "\n",
       "   no_of_premiums_paid sourcing_channel residence_area_type  premium  renewal  \n",
       "0                   13                C               Urban     3300        1  \n",
       "1                   21                A               Urban    18000        1  \n",
       "2                    7                C               Rural     3300        0  \n",
       "3                    9                A               Urban     9600        1  \n",
       "4                   12                B               Urban     9600        1  "
      ]
     },
     "execution_count": 417,
     "metadata": {},
     "output_type": "execute_result"
    }
   ],
   "source": [
    "train_df.head()"
   ]
  },
  {
   "cell_type": "code",
   "execution_count": 418,
   "metadata": {},
   "outputs": [
    {
     "data": {
      "text/plain": [
       "Index(['id', 'perc_premium_paid_by_cash_credit', 'age_in_days', 'Income',\n",
       "       'Count_3-6_months_late', 'Count_6-12_months_late',\n",
       "       'Count_more_than_12_months_late', 'application_underwriting_score',\n",
       "       'no_of_premiums_paid', 'sourcing_channel', 'residence_area_type',\n",
       "       'premium', 'renewal'],\n",
       "      dtype='object')"
      ]
     },
     "execution_count": 418,
     "metadata": {},
     "output_type": "execute_result"
    }
   ],
   "source": [
    "train_df.columns"
   ]
  },
  {
   "cell_type": "code",
   "execution_count": 419,
   "metadata": {},
   "outputs": [],
   "source": [
    "continuous_vars = ['perc_premium_paid_by_cash_credit', 'age_in_days', 'Income',\n",
    "       'Count_3-6_months_late', 'Count_6-12_months_late',\n",
    "       'Count_more_than_12_months_late', 'application_underwriting_score',\n",
    "       'no_of_premiums_paid',\n",
    "       'premium']"
   ]
  },
  {
   "cell_type": "code",
   "execution_count": 420,
   "metadata": {},
   "outputs": [],
   "source": [
    "catagorical_vars = ['sourcing_channel', 'residence_area_type']"
   ]
  },
  {
   "cell_type": "code",
   "execution_count": 421,
   "metadata": {},
   "outputs": [
    {
     "data": {
      "text/plain": [
       "A    43134\n",
       "B    16512\n",
       "C    12039\n",
       "D     7559\n",
       "E      609\n",
       "Name: sourcing_channel, dtype: int64"
      ]
     },
     "execution_count": 421,
     "metadata": {},
     "output_type": "execute_result"
    }
   ],
   "source": [
    "train_df['sourcing_channel'].value_counts()"
   ]
  },
  {
   "cell_type": "code",
   "execution_count": 422,
   "metadata": {},
   "outputs": [
    {
     "data": {
      "text/plain": [
       "Urban    48183\n",
       "Rural    31670\n",
       "Name: residence_area_type, dtype: int64"
      ]
     },
     "execution_count": 422,
     "metadata": {},
     "output_type": "execute_result"
    }
   ],
   "source": [
    "train_df['residence_area_type'].value_counts()"
   ]
  },
  {
   "cell_type": "code",
   "execution_count": 423,
   "metadata": {},
   "outputs": [],
   "source": [
    "# labelling catagorical variables"
   ]
  },
  {
   "cell_type": "code",
   "execution_count": 424,
   "metadata": {},
   "outputs": [],
   "source": [
    "train_df['sourcing_channel'] = train_df[['sourcing_channel']].apply(LabelEncoder().fit_transform)"
   ]
  },
  {
   "cell_type": "code",
   "execution_count": 425,
   "metadata": {},
   "outputs": [],
   "source": [
    "train_df['residence_area_type'] = train_df[['residence_area_type']].apply(LabelEncoder().fit_transform)"
   ]
  },
  {
   "cell_type": "code",
   "execution_count": 426,
   "metadata": {},
   "outputs": [
    {
     "data": {
      "text/html": [
       "<div>\n",
       "<style scoped>\n",
       "    .dataframe tbody tr th:only-of-type {\n",
       "        vertical-align: middle;\n",
       "    }\n",
       "\n",
       "    .dataframe tbody tr th {\n",
       "        vertical-align: top;\n",
       "    }\n",
       "\n",
       "    .dataframe thead th {\n",
       "        text-align: right;\n",
       "    }\n",
       "</style>\n",
       "<table border=\"1\" class=\"dataframe\">\n",
       "  <thead>\n",
       "    <tr style=\"text-align: right;\">\n",
       "      <th></th>\n",
       "      <th>id</th>\n",
       "      <th>perc_premium_paid_by_cash_credit</th>\n",
       "      <th>age_in_days</th>\n",
       "      <th>Income</th>\n",
       "      <th>Count_3-6_months_late</th>\n",
       "      <th>Count_6-12_months_late</th>\n",
       "      <th>Count_more_than_12_months_late</th>\n",
       "      <th>application_underwriting_score</th>\n",
       "      <th>no_of_premiums_paid</th>\n",
       "      <th>sourcing_channel</th>\n",
       "      <th>residence_area_type</th>\n",
       "      <th>premium</th>\n",
       "      <th>renewal</th>\n",
       "    </tr>\n",
       "  </thead>\n",
       "  <tbody>\n",
       "    <tr>\n",
       "      <th>0</th>\n",
       "      <td>110936</td>\n",
       "      <td>0.429</td>\n",
       "      <td>12058</td>\n",
       "      <td>355060</td>\n",
       "      <td>0.0</td>\n",
       "      <td>0.0</td>\n",
       "      <td>0.0</td>\n",
       "      <td>99.02</td>\n",
       "      <td>13</td>\n",
       "      <td>2</td>\n",
       "      <td>1</td>\n",
       "      <td>3300</td>\n",
       "      <td>1</td>\n",
       "    </tr>\n",
       "    <tr>\n",
       "      <th>1</th>\n",
       "      <td>41492</td>\n",
       "      <td>0.010</td>\n",
       "      <td>21546</td>\n",
       "      <td>315150</td>\n",
       "      <td>0.0</td>\n",
       "      <td>0.0</td>\n",
       "      <td>0.0</td>\n",
       "      <td>99.89</td>\n",
       "      <td>21</td>\n",
       "      <td>0</td>\n",
       "      <td>1</td>\n",
       "      <td>18000</td>\n",
       "      <td>1</td>\n",
       "    </tr>\n",
       "    <tr>\n",
       "      <th>2</th>\n",
       "      <td>31300</td>\n",
       "      <td>0.917</td>\n",
       "      <td>17531</td>\n",
       "      <td>84140</td>\n",
       "      <td>2.0</td>\n",
       "      <td>3.0</td>\n",
       "      <td>1.0</td>\n",
       "      <td>98.69</td>\n",
       "      <td>7</td>\n",
       "      <td>2</td>\n",
       "      <td>0</td>\n",
       "      <td>3300</td>\n",
       "      <td>0</td>\n",
       "    </tr>\n",
       "    <tr>\n",
       "      <th>3</th>\n",
       "      <td>19415</td>\n",
       "      <td>0.049</td>\n",
       "      <td>15341</td>\n",
       "      <td>250510</td>\n",
       "      <td>0.0</td>\n",
       "      <td>0.0</td>\n",
       "      <td>0.0</td>\n",
       "      <td>99.57</td>\n",
       "      <td>9</td>\n",
       "      <td>0</td>\n",
       "      <td>1</td>\n",
       "      <td>9600</td>\n",
       "      <td>1</td>\n",
       "    </tr>\n",
       "    <tr>\n",
       "      <th>4</th>\n",
       "      <td>99379</td>\n",
       "      <td>0.052</td>\n",
       "      <td>31400</td>\n",
       "      <td>198680</td>\n",
       "      <td>0.0</td>\n",
       "      <td>0.0</td>\n",
       "      <td>0.0</td>\n",
       "      <td>99.87</td>\n",
       "      <td>12</td>\n",
       "      <td>1</td>\n",
       "      <td>1</td>\n",
       "      <td>9600</td>\n",
       "      <td>1</td>\n",
       "    </tr>\n",
       "  </tbody>\n",
       "</table>\n",
       "</div>"
      ],
      "text/plain": [
       "       id  perc_premium_paid_by_cash_credit  age_in_days  Income  \\\n",
       "0  110936                             0.429        12058  355060   \n",
       "1   41492                             0.010        21546  315150   \n",
       "2   31300                             0.917        17531   84140   \n",
       "3   19415                             0.049        15341  250510   \n",
       "4   99379                             0.052        31400  198680   \n",
       "\n",
       "   Count_3-6_months_late  Count_6-12_months_late  \\\n",
       "0                    0.0                     0.0   \n",
       "1                    0.0                     0.0   \n",
       "2                    2.0                     3.0   \n",
       "3                    0.0                     0.0   \n",
       "4                    0.0                     0.0   \n",
       "\n",
       "   Count_more_than_12_months_late  application_underwriting_score  \\\n",
       "0                             0.0                           99.02   \n",
       "1                             0.0                           99.89   \n",
       "2                             1.0                           98.69   \n",
       "3                             0.0                           99.57   \n",
       "4                             0.0                           99.87   \n",
       "\n",
       "   no_of_premiums_paid  sourcing_channel  residence_area_type  premium  \\\n",
       "0                   13                 2                    1     3300   \n",
       "1                   21                 0                    1    18000   \n",
       "2                    7                 2                    0     3300   \n",
       "3                    9                 0                    1     9600   \n",
       "4                   12                 1                    1     9600   \n",
       "\n",
       "   renewal  \n",
       "0        1  \n",
       "1        1  \n",
       "2        0  \n",
       "3        1  \n",
       "4        1  "
      ]
     },
     "execution_count": 426,
     "metadata": {},
     "output_type": "execute_result"
    }
   ],
   "source": [
    "train_df.head()"
   ]
  },
  {
   "cell_type": "markdown",
   "metadata": {},
   "source": [
    "## data sanctity checks"
   ]
  },
  {
   "cell_type": "code",
   "execution_count": 427,
   "metadata": {},
   "outputs": [
    {
     "data": {
      "text/html": [
       "<div>\n",
       "<style scoped>\n",
       "    .dataframe tbody tr th:only-of-type {\n",
       "        vertical-align: middle;\n",
       "    }\n",
       "\n",
       "    .dataframe tbody tr th {\n",
       "        vertical-align: top;\n",
       "    }\n",
       "\n",
       "    .dataframe thead th {\n",
       "        text-align: right;\n",
       "    }\n",
       "</style>\n",
       "<table border=\"1\" class=\"dataframe\">\n",
       "  <thead>\n",
       "    <tr style=\"text-align: right;\">\n",
       "      <th></th>\n",
       "      <th>missing</th>\n",
       "      <th>missing_percent</th>\n",
       "    </tr>\n",
       "  </thead>\n",
       "  <tbody>\n",
       "    <tr>\n",
       "      <th>id</th>\n",
       "      <td>0</td>\n",
       "      <td>0.000000</td>\n",
       "    </tr>\n",
       "    <tr>\n",
       "      <th>perc_premium_paid_by_cash_credit</th>\n",
       "      <td>0</td>\n",
       "      <td>0.000000</td>\n",
       "    </tr>\n",
       "    <tr>\n",
       "      <th>age_in_days</th>\n",
       "      <td>0</td>\n",
       "      <td>0.000000</td>\n",
       "    </tr>\n",
       "    <tr>\n",
       "      <th>Income</th>\n",
       "      <td>0</td>\n",
       "      <td>0.000000</td>\n",
       "    </tr>\n",
       "    <tr>\n",
       "      <th>Count_3-6_months_late</th>\n",
       "      <td>97</td>\n",
       "      <td>0.121473</td>\n",
       "    </tr>\n",
       "    <tr>\n",
       "      <th>Count_6-12_months_late</th>\n",
       "      <td>97</td>\n",
       "      <td>0.121473</td>\n",
       "    </tr>\n",
       "    <tr>\n",
       "      <th>Count_more_than_12_months_late</th>\n",
       "      <td>97</td>\n",
       "      <td>0.121473</td>\n",
       "    </tr>\n",
       "    <tr>\n",
       "      <th>application_underwriting_score</th>\n",
       "      <td>2974</td>\n",
       "      <td>3.724343</td>\n",
       "    </tr>\n",
       "    <tr>\n",
       "      <th>no_of_premiums_paid</th>\n",
       "      <td>0</td>\n",
       "      <td>0.000000</td>\n",
       "    </tr>\n",
       "    <tr>\n",
       "      <th>sourcing_channel</th>\n",
       "      <td>0</td>\n",
       "      <td>0.000000</td>\n",
       "    </tr>\n",
       "    <tr>\n",
       "      <th>residence_area_type</th>\n",
       "      <td>0</td>\n",
       "      <td>0.000000</td>\n",
       "    </tr>\n",
       "    <tr>\n",
       "      <th>premium</th>\n",
       "      <td>0</td>\n",
       "      <td>0.000000</td>\n",
       "    </tr>\n",
       "    <tr>\n",
       "      <th>renewal</th>\n",
       "      <td>0</td>\n",
       "      <td>0.000000</td>\n",
       "    </tr>\n",
       "  </tbody>\n",
       "</table>\n",
       "</div>"
      ],
      "text/plain": [
       "                                  missing  missing_percent\n",
       "id                                      0         0.000000\n",
       "perc_premium_paid_by_cash_credit        0         0.000000\n",
       "age_in_days                             0         0.000000\n",
       "Income                                  0         0.000000\n",
       "Count_3-6_months_late                  97         0.121473\n",
       "Count_6-12_months_late                 97         0.121473\n",
       "Count_more_than_12_months_late         97         0.121473\n",
       "application_underwriting_score       2974         3.724343\n",
       "no_of_premiums_paid                     0         0.000000\n",
       "sourcing_channel                        0         0.000000\n",
       "residence_area_type                     0         0.000000\n",
       "premium                                 0         0.000000\n",
       "renewal                                 0         0.000000"
      ]
     },
     "execution_count": 427,
     "metadata": {},
     "output_type": "execute_result"
    }
   ],
   "source": [
    "missing_val_checks = pd.DataFrame({'missing' : train_df.isnull().sum(), 'missing_percent' : (train_df.isnull().sum()/len(train_df))*100})\n",
    "missing_val_checks"
   ]
  },
  {
   "cell_type": "code",
   "execution_count": 428,
   "metadata": {},
   "outputs": [],
   "source": [
    "# treating missing values"
   ]
  },
  {
   "cell_type": "code",
   "execution_count": 429,
   "metadata": {},
   "outputs": [],
   "source": [
    "from fancyimpute import MICE"
   ]
  },
  {
   "cell_type": "code",
   "execution_count": 24,
   "metadata": {},
   "outputs": [],
   "source": [
    "# df_numeric"
   ]
  },
  {
   "cell_type": "code",
   "execution_count": 481,
   "metadata": {},
   "outputs": [
    {
     "name": "stdout",
     "output_type": "stream",
     "text": [
      "[MICE] Completing matrix with shape (79853, 9)\n",
      "[MICE] Starting imputation round 1/110, elapsed time 0.006\n",
      "[MICE] Starting imputation round 2/110, elapsed time 0.063\n",
      "[MICE] Starting imputation round 3/110, elapsed time 0.119\n",
      "[MICE] Starting imputation round 4/110, elapsed time 0.171\n",
      "[MICE] Starting imputation round 5/110, elapsed time 0.232\n",
      "[MICE] Starting imputation round 6/110, elapsed time 0.286\n",
      "[MICE] Starting imputation round 7/110, elapsed time 0.340\n",
      "[MICE] Starting imputation round 8/110, elapsed time 0.393\n",
      "[MICE] Starting imputation round 9/110, elapsed time 0.450\n",
      "[MICE] Starting imputation round 10/110, elapsed time 0.509\n",
      "[MICE] Starting imputation round 11/110, elapsed time 0.570\n",
      "[MICE] Starting imputation round 12/110, elapsed time 0.626\n",
      "[MICE] Starting imputation round 13/110, elapsed time 0.691\n",
      "[MICE] Starting imputation round 14/110, elapsed time 0.760\n",
      "[MICE] Starting imputation round 15/110, elapsed time 0.818\n",
      "[MICE] Starting imputation round 16/110, elapsed time 0.873\n",
      "[MICE] Starting imputation round 17/110, elapsed time 0.942\n",
      "[MICE] Starting imputation round 18/110, elapsed time 1.002\n",
      "[MICE] Starting imputation round 19/110, elapsed time 1.061\n",
      "[MICE] Starting imputation round 20/110, elapsed time 1.121\n",
      "[MICE] Starting imputation round 21/110, elapsed time 1.192\n",
      "[MICE] Starting imputation round 22/110, elapsed time 1.249\n",
      "[MICE] Starting imputation round 23/110, elapsed time 1.305\n",
      "[MICE] Starting imputation round 24/110, elapsed time 1.361\n",
      "[MICE] Starting imputation round 25/110, elapsed time 1.424\n",
      "[MICE] Starting imputation round 26/110, elapsed time 1.483\n",
      "[MICE] Starting imputation round 27/110, elapsed time 1.546\n",
      "[MICE] Starting imputation round 28/110, elapsed time 1.631\n",
      "[MICE] Starting imputation round 29/110, elapsed time 1.712\n",
      "[MICE] Starting imputation round 30/110, elapsed time 1.806\n",
      "[MICE] Starting imputation round 31/110, elapsed time 1.888\n",
      "[MICE] Starting imputation round 32/110, elapsed time 1.945\n",
      "[MICE] Starting imputation round 33/110, elapsed time 1.999\n",
      "[MICE] Starting imputation round 34/110, elapsed time 2.056\n",
      "[MICE] Starting imputation round 35/110, elapsed time 2.115\n",
      "[MICE] Starting imputation round 36/110, elapsed time 2.177\n",
      "[MICE] Starting imputation round 37/110, elapsed time 2.233\n",
      "[MICE] Starting imputation round 38/110, elapsed time 2.289\n",
      "[MICE] Starting imputation round 39/110, elapsed time 2.348\n",
      "[MICE] Starting imputation round 40/110, elapsed time 2.414\n",
      "[MICE] Starting imputation round 41/110, elapsed time 2.470\n",
      "[MICE] Starting imputation round 42/110, elapsed time 2.531\n",
      "[MICE] Starting imputation round 43/110, elapsed time 2.595\n",
      "[MICE] Starting imputation round 44/110, elapsed time 2.669\n",
      "[MICE] Starting imputation round 45/110, elapsed time 2.725\n",
      "[MICE] Starting imputation round 46/110, elapsed time 2.779\n",
      "[MICE] Starting imputation round 47/110, elapsed time 2.841\n",
      "[MICE] Starting imputation round 48/110, elapsed time 2.898\n",
      "[MICE] Starting imputation round 49/110, elapsed time 2.951\n",
      "[MICE] Starting imputation round 50/110, elapsed time 3.011\n",
      "[MICE] Starting imputation round 51/110, elapsed time 3.069\n",
      "[MICE] Starting imputation round 52/110, elapsed time 3.124\n",
      "[MICE] Starting imputation round 53/110, elapsed time 3.185\n",
      "[MICE] Starting imputation round 54/110, elapsed time 3.250\n",
      "[MICE] Starting imputation round 55/110, elapsed time 3.312\n",
      "[MICE] Starting imputation round 56/110, elapsed time 3.380\n",
      "[MICE] Starting imputation round 57/110, elapsed time 3.456\n",
      "[MICE] Starting imputation round 58/110, elapsed time 3.538\n",
      "[MICE] Starting imputation round 59/110, elapsed time 3.599\n",
      "[MICE] Starting imputation round 60/110, elapsed time 3.671\n",
      "[MICE] Starting imputation round 61/110, elapsed time 3.751\n",
      "[MICE] Starting imputation round 62/110, elapsed time 3.828\n",
      "[MICE] Starting imputation round 63/110, elapsed time 3.892\n",
      "[MICE] Starting imputation round 64/110, elapsed time 3.960\n",
      "[MICE] Starting imputation round 65/110, elapsed time 4.059\n",
      "[MICE] Starting imputation round 66/110, elapsed time 4.138\n",
      "[MICE] Starting imputation round 67/110, elapsed time 4.238\n",
      "[MICE] Starting imputation round 68/110, elapsed time 4.325\n",
      "[MICE] Starting imputation round 69/110, elapsed time 4.414\n",
      "[MICE] Starting imputation round 70/110, elapsed time 4.512\n",
      "[MICE] Starting imputation round 71/110, elapsed time 4.598\n",
      "[MICE] Starting imputation round 72/110, elapsed time 4.687\n",
      "[MICE] Starting imputation round 73/110, elapsed time 4.782\n",
      "[MICE] Starting imputation round 74/110, elapsed time 4.872\n",
      "[MICE] Starting imputation round 75/110, elapsed time 4.937\n",
      "[MICE] Starting imputation round 76/110, elapsed time 5.002\n",
      "[MICE] Starting imputation round 77/110, elapsed time 5.089\n",
      "[MICE] Starting imputation round 78/110, elapsed time 5.180\n",
      "[MICE] Starting imputation round 79/110, elapsed time 5.239\n",
      "[MICE] Starting imputation round 80/110, elapsed time 5.298\n",
      "[MICE] Starting imputation round 81/110, elapsed time 5.354\n",
      "[MICE] Starting imputation round 82/110, elapsed time 5.414\n",
      "[MICE] Starting imputation round 83/110, elapsed time 5.488\n",
      "[MICE] Starting imputation round 84/110, elapsed time 5.553\n",
      "[MICE] Starting imputation round 85/110, elapsed time 5.620\n",
      "[MICE] Starting imputation round 86/110, elapsed time 5.683\n",
      "[MICE] Starting imputation round 87/110, elapsed time 5.746\n",
      "[MICE] Starting imputation round 88/110, elapsed time 5.828\n",
      "[MICE] Starting imputation round 89/110, elapsed time 5.917\n",
      "[MICE] Starting imputation round 90/110, elapsed time 6.020\n",
      "[MICE] Starting imputation round 91/110, elapsed time 6.097\n",
      "[MICE] Starting imputation round 92/110, elapsed time 6.196\n",
      "[MICE] Starting imputation round 93/110, elapsed time 6.274\n",
      "[MICE] Starting imputation round 94/110, elapsed time 6.369\n",
      "[MICE] Starting imputation round 95/110, elapsed time 6.447\n",
      "[MICE] Starting imputation round 96/110, elapsed time 6.524\n",
      "[MICE] Starting imputation round 97/110, elapsed time 6.611\n",
      "[MICE] Starting imputation round 98/110, elapsed time 6.708\n",
      "[MICE] Starting imputation round 99/110, elapsed time 6.793\n",
      "[MICE] Starting imputation round 100/110, elapsed time 6.889\n",
      "[MICE] Starting imputation round 101/110, elapsed time 6.976\n",
      "[MICE] Starting imputation round 102/110, elapsed time 7.104\n",
      "[MICE] Starting imputation round 103/110, elapsed time 7.209\n",
      "[MICE] Starting imputation round 104/110, elapsed time 7.314\n",
      "[MICE] Starting imputation round 105/110, elapsed time 7.482\n",
      "[MICE] Starting imputation round 106/110, elapsed time 7.621\n",
      "[MICE] Starting imputation round 107/110, elapsed time 7.722\n",
      "[MICE] Starting imputation round 108/110, elapsed time 7.828\n",
      "[MICE] Starting imputation round 109/110, elapsed time 7.945\n",
      "[MICE] Starting imputation round 110/110, elapsed time 8.053\n"
     ]
    }
   ],
   "source": [
    "# df is my data frame with the missings. I keep only floats\n",
    "df_numeric = train_df[continuous_vars].as_matrix()\n",
    " \n",
    "# it returns a np.array which I store as a pandas dataframe\n",
    "imputed_array = MICE().complete(df_numeric)\n"
   ]
  },
  {
   "cell_type": "code",
   "execution_count": 482,
   "metadata": {},
   "outputs": [],
   "source": [
    "df_filled_standardized = preprocessing.scale(imputed_array)"
   ]
  },
  {
   "cell_type": "code",
   "execution_count": 483,
   "metadata": {},
   "outputs": [],
   "source": [
    "df_filled = pd.DataFrame(df_filled_standardized)"
   ]
  },
  {
   "cell_type": "code",
   "execution_count": 484,
   "metadata": {},
   "outputs": [],
   "source": [
    "df_filled.columns = train_df[continuous_vars].columns\n",
    "df_filled.index = train_df[continuous_vars].index"
   ]
  },
  {
   "cell_type": "code",
   "execution_count": 431,
   "metadata": {},
   "outputs": [],
   "source": [
    "# np.isnan(df_numeric).any()"
   ]
  },
  {
   "cell_type": "code",
   "execution_count": 432,
   "metadata": {},
   "outputs": [],
   "source": [
    "# np.isnan(filled).any()"
   ]
  },
  {
   "cell_type": "code",
   "execution_count": 485,
   "metadata": {},
   "outputs": [],
   "source": [
    "train_df_treated = df_filled.copy()"
   ]
  },
  {
   "cell_type": "code",
   "execution_count": 486,
   "metadata": {},
   "outputs": [],
   "source": [
    "train_df_treated['renewal'] = train_df['renewal']\n",
    "train_df_treated['id'] = train_df['id']\n",
    "train_df_treated['sourcing_channel'] = train_df['sourcing_channel']\n",
    "train_df_treated['residence_area_type'] = train_df['residence_area_type']"
   ]
  },
  {
   "cell_type": "code",
   "execution_count": 487,
   "metadata": {},
   "outputs": [
    {
     "data": {
      "text/html": [
       "<div>\n",
       "<style scoped>\n",
       "    .dataframe tbody tr th:only-of-type {\n",
       "        vertical-align: middle;\n",
       "    }\n",
       "\n",
       "    .dataframe tbody tr th {\n",
       "        vertical-align: top;\n",
       "    }\n",
       "\n",
       "    .dataframe thead th {\n",
       "        text-align: right;\n",
       "    }\n",
       "</style>\n",
       "<table border=\"1\" class=\"dataframe\">\n",
       "  <thead>\n",
       "    <tr style=\"text-align: right;\">\n",
       "      <th></th>\n",
       "      <th>missing</th>\n",
       "      <th>missing_percent</th>\n",
       "    </tr>\n",
       "  </thead>\n",
       "  <tbody>\n",
       "    <tr>\n",
       "      <th>perc_premium_paid_by_cash_credit</th>\n",
       "      <td>0</td>\n",
       "      <td>0.0</td>\n",
       "    </tr>\n",
       "    <tr>\n",
       "      <th>age_in_days</th>\n",
       "      <td>0</td>\n",
       "      <td>0.0</td>\n",
       "    </tr>\n",
       "    <tr>\n",
       "      <th>Income</th>\n",
       "      <td>0</td>\n",
       "      <td>0.0</td>\n",
       "    </tr>\n",
       "    <tr>\n",
       "      <th>Count_3-6_months_late</th>\n",
       "      <td>0</td>\n",
       "      <td>0.0</td>\n",
       "    </tr>\n",
       "    <tr>\n",
       "      <th>Count_6-12_months_late</th>\n",
       "      <td>0</td>\n",
       "      <td>0.0</td>\n",
       "    </tr>\n",
       "    <tr>\n",
       "      <th>Count_more_than_12_months_late</th>\n",
       "      <td>0</td>\n",
       "      <td>0.0</td>\n",
       "    </tr>\n",
       "    <tr>\n",
       "      <th>application_underwriting_score</th>\n",
       "      <td>0</td>\n",
       "      <td>0.0</td>\n",
       "    </tr>\n",
       "    <tr>\n",
       "      <th>no_of_premiums_paid</th>\n",
       "      <td>0</td>\n",
       "      <td>0.0</td>\n",
       "    </tr>\n",
       "    <tr>\n",
       "      <th>premium</th>\n",
       "      <td>0</td>\n",
       "      <td>0.0</td>\n",
       "    </tr>\n",
       "    <tr>\n",
       "      <th>renewal</th>\n",
       "      <td>0</td>\n",
       "      <td>0.0</td>\n",
       "    </tr>\n",
       "    <tr>\n",
       "      <th>id</th>\n",
       "      <td>0</td>\n",
       "      <td>0.0</td>\n",
       "    </tr>\n",
       "    <tr>\n",
       "      <th>sourcing_channel</th>\n",
       "      <td>0</td>\n",
       "      <td>0.0</td>\n",
       "    </tr>\n",
       "    <tr>\n",
       "      <th>residence_area_type</th>\n",
       "      <td>0</td>\n",
       "      <td>0.0</td>\n",
       "    </tr>\n",
       "  </tbody>\n",
       "</table>\n",
       "</div>"
      ],
      "text/plain": [
       "                                  missing  missing_percent\n",
       "perc_premium_paid_by_cash_credit        0              0.0\n",
       "age_in_days                             0              0.0\n",
       "Income                                  0              0.0\n",
       "Count_3-6_months_late                   0              0.0\n",
       "Count_6-12_months_late                  0              0.0\n",
       "Count_more_than_12_months_late          0              0.0\n",
       "application_underwriting_score          0              0.0\n",
       "no_of_premiums_paid                     0              0.0\n",
       "premium                                 0              0.0\n",
       "renewal                                 0              0.0\n",
       "id                                      0              0.0\n",
       "sourcing_channel                        0              0.0\n",
       "residence_area_type                     0              0.0"
      ]
     },
     "execution_count": 487,
     "metadata": {},
     "output_type": "execute_result"
    }
   ],
   "source": [
    "missing_val_checks = pd.DataFrame({'missing' : train_df_treated.isnull().sum(), 'missing_percent' : (train_df_treated.isnull().sum()/len(train_df_treated))*100})\n",
    "missing_val_checks"
   ]
  },
  {
   "cell_type": "code",
   "execution_count": 488,
   "metadata": {},
   "outputs": [],
   "source": [
    "# considering training set after removing null values\n",
    "train_na_removed_df = train_df_treated.copy()"
   ]
  },
  {
   "cell_type": "code",
   "execution_count": 489,
   "metadata": {},
   "outputs": [
    {
     "data": {
      "text/plain": [
       "79853"
      ]
     },
     "execution_count": 489,
     "metadata": {},
     "output_type": "execute_result"
    }
   ],
   "source": [
    "len(train_df)"
   ]
  },
  {
   "cell_type": "code",
   "execution_count": 490,
   "metadata": {},
   "outputs": [
    {
     "data": {
      "text/plain": [
       "79853"
      ]
     },
     "execution_count": 490,
     "metadata": {},
     "output_type": "execute_result"
    }
   ],
   "source": [
    "len(train_na_removed_df)"
   ]
  },
  {
   "cell_type": "markdown",
   "metadata": {},
   "source": [
    "## Univariate EDA"
   ]
  },
  {
   "cell_type": "code",
   "execution_count": 491,
   "metadata": {},
   "outputs": [
    {
     "data": {
      "text/html": [
       "<div>\n",
       "<style scoped>\n",
       "    .dataframe tbody tr th:only-of-type {\n",
       "        vertical-align: middle;\n",
       "    }\n",
       "\n",
       "    .dataframe tbody tr th {\n",
       "        vertical-align: top;\n",
       "    }\n",
       "\n",
       "    .dataframe thead th {\n",
       "        text-align: right;\n",
       "    }\n",
       "</style>\n",
       "<table border=\"1\" class=\"dataframe\">\n",
       "  <thead>\n",
       "    <tr style=\"text-align: right;\">\n",
       "      <th></th>\n",
       "      <th>age_in_days</th>\n",
       "      <th>Income</th>\n",
       "      <th>Count_3-6_months_late</th>\n",
       "      <th>Count_6-12_months_late</th>\n",
       "      <th>Count_more_than_12_months_late</th>\n",
       "      <th>application_underwriting_score</th>\n",
       "      <th>no_of_premiums_paid</th>\n",
       "      <th>premium</th>\n",
       "      <th>renewal</th>\n",
       "      <th>id</th>\n",
       "      <th>sourcing_channel</th>\n",
       "      <th>residence_area_type</th>\n",
       "    </tr>\n",
       "  </thead>\n",
       "  <tbody>\n",
       "    <tr>\n",
       "      <th>count</th>\n",
       "      <td>7.985300e+04</td>\n",
       "      <td>7.985300e+04</td>\n",
       "      <td>7.985300e+04</td>\n",
       "      <td>7.985300e+04</td>\n",
       "      <td>7.985300e+04</td>\n",
       "      <td>7.985300e+04</td>\n",
       "      <td>7.985300e+04</td>\n",
       "      <td>7.985300e+04</td>\n",
       "      <td>79853.000000</td>\n",
       "      <td>79853.000000</td>\n",
       "      <td>79853.000000</td>\n",
       "      <td>79853.000000</td>\n",
       "    </tr>\n",
       "    <tr>\n",
       "      <th>mean</th>\n",
       "      <td>-1.783186e-16</td>\n",
       "      <td>-1.957590e-17</td>\n",
       "      <td>4.475762e-17</td>\n",
       "      <td>2.749524e-17</td>\n",
       "      <td>-6.584620e-17</td>\n",
       "      <td>7.637477e-12</td>\n",
       "      <td>5.694806e-18</td>\n",
       "      <td>-3.790605e-17</td>\n",
       "      <td>0.937410</td>\n",
       "      <td>57167.166368</td>\n",
       "      <td>0.822799</td>\n",
       "      <td>0.603396</td>\n",
       "    </tr>\n",
       "    <tr>\n",
       "      <th>std</th>\n",
       "      <td>1.000006e+00</td>\n",
       "      <td>1.000006e+00</td>\n",
       "      <td>1.000006e+00</td>\n",
       "      <td>1.000006e+00</td>\n",
       "      <td>1.000006e+00</td>\n",
       "      <td>1.000006e+00</td>\n",
       "      <td>1.000006e+00</td>\n",
       "      <td>1.000006e+00</td>\n",
       "      <td>0.242226</td>\n",
       "      <td>32928.970160</td>\n",
       "      <td>1.052060</td>\n",
       "      <td>0.489195</td>\n",
       "    </tr>\n",
       "    <tr>\n",
       "      <th>min</th>\n",
       "      <td>-2.145780e+00</td>\n",
       "      <td>-3.721804e-01</td>\n",
       "      <td>-3.598549e-01</td>\n",
       "      <td>-3.074715e-01</td>\n",
       "      <td>-1.986242e-01</td>\n",
       "      <td>-9.847844e+00</td>\n",
       "      <td>-1.714268e+00</td>\n",
       "      <td>-1.034344e+00</td>\n",
       "      <td>0.000000</td>\n",
       "      <td>2.000000</td>\n",
       "      <td>0.000000</td>\n",
       "      <td>0.000000</td>\n",
       "    </tr>\n",
       "    <tr>\n",
       "      <th>25%</th>\n",
       "      <td>-7.435074e-01</td>\n",
       "      <td>-2.030635e-01</td>\n",
       "      <td>-3.598549e-01</td>\n",
       "      <td>-1.792703e-01</td>\n",
       "      <td>-1.924318e-01</td>\n",
       "      <td>-3.258175e-01</td>\n",
       "      <td>-7.472723e-01</td>\n",
       "      <td>-5.876124e-01</td>\n",
       "      <td>1.000000</td>\n",
       "      <td>28640.000000</td>\n",
       "      <td>0.000000</td>\n",
       "      <td>0.000000</td>\n",
       "    </tr>\n",
       "    <tr>\n",
       "      <th>50%</th>\n",
       "      <td>-4.256292e-02</td>\n",
       "      <td>-8.515690e-02</td>\n",
       "      <td>-3.598549e-01</td>\n",
       "      <td>-1.792703e-01</td>\n",
       "      <td>-1.924318e-01</td>\n",
       "      <td>1.688332e-01</td>\n",
       "      <td>-1.670750e-01</td>\n",
       "      <td>-3.642466e-01</td>\n",
       "      <td>1.000000</td>\n",
       "      <td>57262.000000</td>\n",
       "      <td>0.000000</td>\n",
       "      <td>1.000000</td>\n",
       "    </tr>\n",
       "    <tr>\n",
       "      <th>75%</th>\n",
       "      <td>7.274969e-01</td>\n",
       "      <td>8.708138e-02</td>\n",
       "      <td>-3.598549e-01</td>\n",
       "      <td>-1.792703e-01</td>\n",
       "      <td>-1.924318e-01</td>\n",
       "      <td>6.222630e-01</td>\n",
       "      <td>6.065214e-01</td>\n",
       "      <td>3.058508e-01</td>\n",
       "      <td>1.000000</td>\n",
       "      <td>85632.000000</td>\n",
       "      <td>2.000000</td>\n",
       "      <td>1.000000</td>\n",
       "    </tr>\n",
       "    <tr>\n",
       "      <th>max</th>\n",
       "      <td>3.600774e+00</td>\n",
       "      <td>1.813481e+02</td>\n",
       "      <td>1.845215e+01</td>\n",
       "      <td>3.878977e+01</td>\n",
       "      <td>3.508291e+01</td>\n",
       "      <td>1.813310e+01</td>\n",
       "      <td>9.502880e+00</td>\n",
       "      <td>5.219899e+00</td>\n",
       "      <td>1.000000</td>\n",
       "      <td>114076.000000</td>\n",
       "      <td>4.000000</td>\n",
       "      <td>1.000000</td>\n",
       "    </tr>\n",
       "  </tbody>\n",
       "</table>\n",
       "</div>"
      ],
      "text/plain": [
       "        age_in_days        Income  Count_3-6_months_late  \\\n",
       "count  7.985300e+04  7.985300e+04           7.985300e+04   \n",
       "mean  -1.783186e-16 -1.957590e-17           4.475762e-17   \n",
       "std    1.000006e+00  1.000006e+00           1.000006e+00   \n",
       "min   -2.145780e+00 -3.721804e-01          -3.598549e-01   \n",
       "25%   -7.435074e-01 -2.030635e-01          -3.598549e-01   \n",
       "50%   -4.256292e-02 -8.515690e-02          -3.598549e-01   \n",
       "75%    7.274969e-01  8.708138e-02          -3.598549e-01   \n",
       "max    3.600774e+00  1.813481e+02           1.845215e+01   \n",
       "\n",
       "       Count_6-12_months_late  Count_more_than_12_months_late  \\\n",
       "count            7.985300e+04                    7.985300e+04   \n",
       "mean             2.749524e-17                   -6.584620e-17   \n",
       "std              1.000006e+00                    1.000006e+00   \n",
       "min             -3.074715e-01                   -1.986242e-01   \n",
       "25%             -1.792703e-01                   -1.924318e-01   \n",
       "50%             -1.792703e-01                   -1.924318e-01   \n",
       "75%             -1.792703e-01                   -1.924318e-01   \n",
       "max              3.878977e+01                    3.508291e+01   \n",
       "\n",
       "       application_underwriting_score  no_of_premiums_paid       premium  \\\n",
       "count                    7.985300e+04         7.985300e+04  7.985300e+04   \n",
       "mean                     7.637477e-12         5.694806e-18 -3.790605e-17   \n",
       "std                      1.000006e+00         1.000006e+00  1.000006e+00   \n",
       "min                     -9.847844e+00        -1.714268e+00 -1.034344e+00   \n",
       "25%                     -3.258175e-01        -7.472723e-01 -5.876124e-01   \n",
       "50%                      1.688332e-01        -1.670750e-01 -3.642466e-01   \n",
       "75%                      6.222630e-01         6.065214e-01  3.058508e-01   \n",
       "max                      1.813310e+01         9.502880e+00  5.219899e+00   \n",
       "\n",
       "            renewal             id  sourcing_channel  residence_area_type  \n",
       "count  79853.000000   79853.000000      79853.000000         79853.000000  \n",
       "mean       0.937410   57167.166368          0.822799             0.603396  \n",
       "std        0.242226   32928.970160          1.052060             0.489195  \n",
       "min        0.000000       2.000000          0.000000             0.000000  \n",
       "25%        1.000000   28640.000000          0.000000             0.000000  \n",
       "50%        1.000000   57262.000000          0.000000             1.000000  \n",
       "75%        1.000000   85632.000000          2.000000             1.000000  \n",
       "max        1.000000  114076.000000          4.000000             1.000000  "
      ]
     },
     "execution_count": 491,
     "metadata": {},
     "output_type": "execute_result"
    }
   ],
   "source": [
    "# univariate analysis for continuous variables\n",
    "train_na_removed_df.iloc[:,1:].describe()"
   ]
  },
  {
   "cell_type": "markdown",
   "metadata": {},
   "source": [
    "## bivariate with response variable"
   ]
  },
  {
   "cell_type": "code",
   "execution_count": 492,
   "metadata": {},
   "outputs": [
    {
     "data": {
      "text/plain": [
       "Index(['age_in_days', 'Income', 'Count_3-6_months_late',\n",
       "       'Count_6-12_months_late', 'Count_more_than_12_months_late',\n",
       "       'application_underwriting_score', 'no_of_premiums_paid', 'premium',\n",
       "       'renewal', 'id', 'sourcing_channel', 'residence_area_type'],\n",
       "      dtype='object')"
      ]
     },
     "execution_count": 492,
     "metadata": {},
     "output_type": "execute_result"
    }
   ],
   "source": [
    "pd.DataFrame(train_na_removed_df.iloc[:,1:].describe()).columns"
   ]
  },
  {
   "cell_type": "code",
   "execution_count": 493,
   "metadata": {},
   "outputs": [],
   "source": [
    "#this function calculates the renewal rate\n",
    "def renewal_rate_continous_var_calc(row):\n",
    "    renewal_rate = float(row['residence_area_type'][1] / float(row['residence_area_type'][0] + row['residence_area_type'][1]))\n",
    "    return renewal_rate"
   ]
  },
  {
   "cell_type": "code",
   "execution_count": 494,
   "metadata": {
    "scrolled": false
   },
   "outputs": [
    {
     "name": "stderr",
     "output_type": "stream",
     "text": [
      "C:\\Users\\prathmesh\\Miniconda3\\envs\\py35tfgpu\\lib\\site-packages\\matplotlib\\figure.py:459: UserWarning: matplotlib is currently using a non-GUI backend, so cannot show the figure\n",
      "  \"matplotlib is currently using a non-GUI backend, \"\n"
     ]
    },
    {
     "data": {
      "image/png": "[encoded data removed]",
      "text/plain": [
       "<Figure size 576x288 with 1 Axes>"
      ]
     },
     "metadata": {},
     "output_type": "display_data"
    },
    {
     "data": {
      "image/png": "[encoded data removed]",
      "text/plain": [
       "<Figure size 576x288 with 1 Axes>"
      ]
     },
     "metadata": {},
     "output_type": "display_data"
    },
    {
     "data": {
      "image/png": "[encoded data removed]",
      "text/plain": [
       "<Figure size 576x288 with 1 Axes>"
      ]
     },
     "metadata": {},
     "output_type": "display_data"
    },
    {
     "data": {
      "image/png": "[encoded data removed]",
      "text/plain": [
       "<Figure size 576x288 with 1 Axes>"
      ]
     },
     "metadata": {},
     "output_type": "display_data"
    },
    {
     "data": {
      "image/png": "[encoded data removed]",
      "text/plain": [
       "<Figure size 576x288 with 1 Axes>"
      ]
     },
     "metadata": {},
     "output_type": "display_data"
    },
    {
     "data": {
      "image/png": "[encoded data removed]",
      "text/plain": [
       "<Figure size 576x288 with 1 Axes>"
      ]
     },
     "metadata": {},
     "output_type": "display_data"
    },
    {
     "data": {
      "image/png": "[encoded data removed]",
      "text/plain": [
       "<Figure size 576x288 with 1 Axes>"
      ]
     },
     "metadata": {},
     "output_type": "display_data"
    },
    {
     "data": {
      "image/png": "[encoded data removed]",
      "text/plain": [
       "<Figure size 576x288 with 1 Axes>"
      ]
     },
     "metadata": {},
     "output_type": "display_data"
    },
    {
     "data": {
      "image/png": "[encoded data removed]",
      "text/plain": [
       "<Figure size 576x288 with 1 Axes>"
      ]
     },
     "metadata": {},
     "output_type": "display_data"
    }
   ],
   "source": [
    "#here we do a bivariate for column vs renewal rate for continuous variables\n",
    "\n",
    "for cols in continuous_vars:\n",
    "    \n",
    "    fig,(ax) = plt.subplots(figsize=(8,4), ncols=1)\n",
    "    \n",
    "    pivot_test = pd.pivot_table(train_na_removed_df,index=(str(cols), 'renewal'), values=('residence_area_type'), aggfunc=len)\n",
    "\n",
    "    pivot_test = pivot_test.unstack()\n",
    "    pivot_test = pivot_test.reset_index()\n",
    "\n",
    "    pivot_test['renewal_rate'] = pivot_test.apply(renewal_rate_continous_var_calc, axis=1)\n",
    "    \n",
    "    x_axis = pivot_test[cols][pivot_test['renewal_rate'].notnull()]\n",
    "    \n",
    "    #plotting line\n",
    "    failure_rate, = ax.plot(x_axis,pivot_test['renewal_rate'][pivot_test['renewal_rate'].notnull()],linewidth = 1, label = 'renewal_rate')\n",
    "\n",
    "    #processing for trendline\n",
    "    z = np.polyfit(x_axis, pivot_test['renewal_rate'][pivot_test['renewal_rate'].notnull()],1)\n",
    "    p = np.poly1d(z)\n",
    "\n",
    "    #plotting trendline\n",
    "    trend_line, = ax.plot(pivot_test[cols][(pivot_test['residence_area_type'][1].notnull()) & (pivot_test['residence_area_type'][0].notnull())],p(pivot_test[cols][(pivot_test['residence_area_type'][1].notnull()) & (pivot_test['residence_area_type'][0].notnull())]),\"r-\", label = 'trend_line')\n",
    "\n",
    "\n",
    "    plt.xlabel(cols)\n",
    "    plt.ylabel('renewal_rate')\n",
    "\n",
    "    plt.xlim(xmin = 0)\n",
    "    \n",
    "    ax.legend([failure_rate, trend_line], ['renewal_rate', 'trend_line'])\n",
    "    fig.tight_layout()\n",
    "    fig.show()"
   ]
  },
  {
   "cell_type": "markdown",
   "metadata": {},
   "source": [
    "*** Considerable variation in renewal rate is observed across continuous variables ***"
   ]
  },
  {
   "cell_type": "code",
   "execution_count": 495,
   "metadata": {},
   "outputs": [],
   "source": [
    "#this function calculates the renewal rate\n",
    "def renewal_rate_categorical_var_calc(row):\n",
    "    renewal_rate = float(row['id'][1] / float(row['id'][0] + row['id'][1]))\n",
    "    return renewal_rate"
   ]
  },
  {
   "cell_type": "code",
   "execution_count": 496,
   "metadata": {},
   "outputs": [
    {
     "data": {
      "image/png": "[encoded data removed]",
      "text/plain": [
       "<Figure size 864x288 with 1 Axes>"
      ]
     },
     "metadata": {},
     "output_type": "display_data"
    },
    {
     "data": {
      "image/png": "[encoded data removed]",
      "text/plain": [
       "<Figure size 864x288 with 1 Axes>"
      ]
     },
     "metadata": {},
     "output_type": "display_data"
    }
   ],
   "source": [
    "#here we do a bivariate for column vs renewal rate for catagorical variables\n",
    "for cols in catagorical_vars:\n",
    "    fig,(ax) = plt.subplots(figsize=(12,4), ncols=1)\n",
    "    \n",
    "    pivot_test = pd.pivot_table(train_na_removed_df,index=(str(cols), 'renewal'), values=('id'), aggfunc=len)\n",
    "\n",
    "    pivot_test = pivot_test.unstack()\n",
    "    pivot_test = pivot_test.reset_index()\n",
    "\n",
    "    pivot_test['renewal_rate'] = pivot_test.apply(renewal_rate_categorical_var_calc, axis=1)\n",
    "    pivot_test['renewal_rate'].plot(kind='bar')\n",
    "    plt.legend([failure_rate], ['renewal_rate'])\n",
    "    plt.xlabel(str(cols) + ' categories')\n",
    "    plt.ylabel('renewal_rate')\n",
    "    plt.xticks(np.array(pivot_test.index),pivot_test[str(cols)])"
   ]
  },
  {
   "cell_type": "markdown",
   "metadata": {},
   "source": [
    "*** Not much variation in renewal rate is observed across catagorical variables ***"
   ]
  },
  {
   "cell_type": "markdown",
   "metadata": {},
   "source": [
    "*** From the bivariate analysis we can assume that the catagorical variables do not contribute to much variation in the response variable (renewal) ***"
   ]
  },
  {
   "cell_type": "markdown",
   "metadata": {},
   "source": [
    "## Building model with only continuous variable"
   ]
  },
  {
   "cell_type": "code",
   "execution_count": 497,
   "metadata": {},
   "outputs": [
    {
     "data": {
      "text/plain": [
       "1    74855\n",
       "0     4998\n",
       "Name: renewal, dtype: int64"
      ]
     },
     "execution_count": 497,
     "metadata": {},
     "output_type": "execute_result"
    }
   ],
   "source": [
    "# checking for balance in class\n",
    "train_na_removed_df['renewal'].value_counts()"
   ]
  },
  {
   "cell_type": "code",
   "execution_count": 498,
   "metadata": {},
   "outputs": [
    {
     "data": {
      "text/plain": [
       "0.937409990858202"
      ]
     },
     "execution_count": 498,
     "metadata": {},
     "output_type": "execute_result"
    }
   ],
   "source": [
    "# calculating class weight\n",
    "weight_for_0 = train_na_removed_df['renewal'].sum() / len(train_na_removed_df['renewal'])\n",
    "weight_for_0"
   ]
  },
  {
   "cell_type": "markdown",
   "metadata": {},
   "source": [
    "## Logistic clf"
   ]
  },
  {
   "cell_type": "code",
   "execution_count": 447,
   "metadata": {},
   "outputs": [],
   "source": [
    "from sklearn.linear_model import LogisticRegression\n",
    "clf = LogisticRegression(class_weight='balanced')"
   ]
  },
  {
   "cell_type": "code",
   "execution_count": 448,
   "metadata": {},
   "outputs": [],
   "source": [
    "model = clf.fit(train_df_treated[continuous_vars], train_df_treated['renewal'])"
   ]
  },
  {
   "cell_type": "code",
   "execution_count": 449,
   "metadata": {},
   "outputs": [
    {
     "data": {
      "text/plain": [
       "LogisticRegression(C=1.0, class_weight='balanced', dual=False,\n",
       "          fit_intercept=True, intercept_scaling=1, max_iter=100,\n",
       "          multi_class='ovr', n_jobs=1, penalty='l2', random_state=None,\n",
       "          solver='liblinear', tol=0.0001, verbose=0, warm_start=False)"
      ]
     },
     "execution_count": 449,
     "metadata": {},
     "output_type": "execute_result"
    }
   ],
   "source": [
    "model"
   ]
  },
  {
   "cell_type": "markdown",
   "metadata": {},
   "source": [
    "## XGB clf"
   ]
  },
  {
   "cell_type": "code",
   "execution_count": 499,
   "metadata": {},
   "outputs": [],
   "source": [
    "import xgboost as xgb\n",
    "from xgboost import XGBClassifier\n",
    "from sklearn import metrics   \n",
    "from sklearn.grid_search import GridSearchCV"
   ]
  },
  {
   "cell_type": "code",
   "execution_count": 500,
   "metadata": {},
   "outputs": [],
   "source": [
    "def modelfit(alg, dtrain, predictors, useTrainCV=True, cv_folds=5, early_stopping_rounds=50):\n",
    "    \n",
    "    if useTrainCV:\n",
    "        xgb_param = alg.get_xgb_params()\n",
    "        xgtrain = xgb.DMatrix(dtrain[predictors].values, label=dtrain[\"renewal\"].values)\n",
    "        cvresult = xgb.cv(xgb_param, xgtrain, num_boost_round=alg.get_params()['n_estimators'], nfold=cv_folds,\n",
    "            metrics='auc', early_stopping_rounds=early_stopping_rounds)\n",
    "        alg.set_params(n_estimators=cvresult.shape[0])\n",
    "    \n",
    "    #Fit the algorithm on the data\n",
    "    alg.fit(dtrain[predictors], dtrain[\"renewal\"],eval_metric='auc')\n",
    "        \n",
    "    #Predict training set:\n",
    "    dtrain_predictions = alg.predict(dtrain[predictors])\n",
    "    dtrain_predprob = alg.predict_proba(dtrain[predictors])[:,1]\n",
    "        \n",
    "    #Print model report:\n",
    "    print (\"\\Report\")\n",
    "    print (\"AUC Score (Train): %f\" % metrics.roc_auc_score(dtrain[\"renewal\"], dtrain_predprob))\n",
    "                    \n",
    "    feat_imp = pd.Series(alg.booster().get_fscore()).sort_values(ascending=False)\n",
    "    feat_imp.plot(kind='bar', title='Feature Importances')\n",
    "    plt.ylabel('Feature Importance Score')"
   ]
  },
  {
   "cell_type": "code",
   "execution_count": 501,
   "metadata": {},
   "outputs": [
    {
     "name": "stderr",
     "output_type": "stream",
     "text": [
      "C:\\Users\\prathmesh\\Miniconda3\\envs\\py35tfgpu\\lib\\site-packages\\sklearn\\preprocessing\\label.py:151: DeprecationWarning: The truth value of an empty array is ambiguous. Returning False, but in future this will result in an error. Use `array.size > 0` to check that an array is not empty.\n",
      "  if diff:\n"
     ]
    },
    {
     "name": "stdout",
     "output_type": "stream",
     "text": [
      "\\Report\n",
      "AUC Score (Train): 0.858942\n"
     ]
    },
    {
     "data": {
      "image/png": "[encoded data removed]",
      "text/plain": [
       "<Figure size 432x288 with 1 Axes>"
      ]
     },
     "metadata": {},
     "output_type": "display_data"
    }
   ],
   "source": [
    "xgb1 = XGBClassifier(learning_rate =0.1, n_estimators=1000, max_depth=5, min_child_weight=1, gamma=0, subsample=0.8, colsample_bytree=0.8, objective= 'binary:logistic', nthread=4, scale_pos_weight=(1 - weight_for_0),seed=27)\n",
    "# mean(cross_val_score(xgb1, X_train_scaled, y, cv=kfold, scoring='roc_auc', early_stopping_rounds=50))\n",
    "modelfit(xgb1, train_df_treated, continuous_vars)"
   ]
  },
  {
   "cell_type": "markdown",
   "metadata": {},
   "source": [
    "## Model predict"
   ]
  },
  {
   "cell_type": "code",
   "execution_count": 528,
   "metadata": {},
   "outputs": [
    {
     "data": {
      "text/plain": [
       "id                                     0\n",
       "perc_premium_paid_by_cash_credit       0\n",
       "age_in_days                            0\n",
       "Income                                 0\n",
       "Count_3-6_months_late                 31\n",
       "Count_6-12_months_late                31\n",
       "Count_more_than_12_months_late        31\n",
       "application_underwriting_score      1323\n",
       "no_of_premiums_paid                    0\n",
       "sourcing_channel                       0\n",
       "residence_area_type                    0\n",
       "premium                                0\n",
       "dtype: int64"
      ]
     },
     "execution_count": 528,
     "metadata": {},
     "output_type": "execute_result"
    }
   ],
   "source": [
    "test_df.isnull().sum()"
   ]
  },
  {
   "cell_type": "code",
   "execution_count": 529,
   "metadata": {},
   "outputs": [
    {
     "name": "stdout",
     "output_type": "stream",
     "text": [
      "[MICE] Completing matrix with shape (34224, 9)\n",
      "[MICE] Starting imputation round 1/110, elapsed time 0.003\n",
      "[MICE] Starting imputation round 2/110, elapsed time 0.039\n",
      "[MICE] Starting imputation round 3/110, elapsed time 0.066\n",
      "[MICE] Starting imputation round 4/110, elapsed time 0.092\n",
      "[MICE] Starting imputation round 5/110, elapsed time 0.117\n",
      "[MICE] Starting imputation round 6/110, elapsed time 0.142\n",
      "[MICE] Starting imputation round 7/110, elapsed time 0.166\n",
      "[MICE] Starting imputation round 8/110, elapsed time 0.189\n",
      "[MICE] Starting imputation round 9/110, elapsed time 0.223\n",
      "[MICE] Starting imputation round 10/110, elapsed time 0.251\n",
      "[MICE] Starting imputation round 11/110, elapsed time 0.276\n",
      "[MICE] Starting imputation round 12/110, elapsed time 0.314\n",
      "[MICE] Starting imputation round 13/110, elapsed time 0.339\n",
      "[MICE] Starting imputation round 14/110, elapsed time 0.362\n",
      "[MICE] Starting imputation round 15/110, elapsed time 0.387\n",
      "[MICE] Starting imputation round 16/110, elapsed time 0.414\n",
      "[MICE] Starting imputation round 17/110, elapsed time 0.444\n",
      "[MICE] Starting imputation round 18/110, elapsed time 0.472\n",
      "[MICE] Starting imputation round 19/110, elapsed time 0.497\n",
      "[MICE] Starting imputation round 20/110, elapsed time 0.522\n",
      "[MICE] Starting imputation round 21/110, elapsed time 0.547\n",
      "[MICE] Starting imputation round 22/110, elapsed time 0.571\n",
      "[MICE] Starting imputation round 23/110, elapsed time 0.595\n",
      "[MICE] Starting imputation round 24/110, elapsed time 0.619\n",
      "[MICE] Starting imputation round 25/110, elapsed time 0.644\n",
      "[MICE] Starting imputation round 26/110, elapsed time 0.673\n",
      "[MICE] Starting imputation round 27/110, elapsed time 0.704\n",
      "[MICE] Starting imputation round 28/110, elapsed time 0.729\n",
      "[MICE] Starting imputation round 29/110, elapsed time 0.756\n",
      "[MICE] Starting imputation round 30/110, elapsed time 0.782\n",
      "[MICE] Starting imputation round 31/110, elapsed time 0.806\n",
      "[MICE] Starting imputation round 32/110, elapsed time 0.831\n",
      "[MICE] Starting imputation round 33/110, elapsed time 0.856\n",
      "[MICE] Starting imputation round 34/110, elapsed time 0.885\n",
      "[MICE] Starting imputation round 35/110, elapsed time 0.917\n",
      "[MICE] Starting imputation round 36/110, elapsed time 0.946\n",
      "[MICE] Starting imputation round 37/110, elapsed time 0.972\n",
      "[MICE] Starting imputation round 38/110, elapsed time 0.997\n",
      "[MICE] Starting imputation round 39/110, elapsed time 1.025\n",
      "[MICE] Starting imputation round 40/110, elapsed time 1.050\n",
      "[MICE] Starting imputation round 41/110, elapsed time 1.075\n",
      "[MICE] Starting imputation round 42/110, elapsed time 1.104\n",
      "[MICE] Starting imputation round 43/110, elapsed time 1.131\n",
      "[MICE] Starting imputation round 44/110, elapsed time 1.156\n",
      "[MICE] Starting imputation round 45/110, elapsed time 1.180\n",
      "[MICE] Starting imputation round 46/110, elapsed time 1.209\n",
      "[MICE] Starting imputation round 47/110, elapsed time 1.240\n",
      "[MICE] Starting imputation round 48/110, elapsed time 1.270\n",
      "[MICE] Starting imputation round 49/110, elapsed time 1.296\n",
      "[MICE] Starting imputation round 50/110, elapsed time 1.329\n",
      "[MICE] Starting imputation round 51/110, elapsed time 1.353\n",
      "[MICE] Starting imputation round 52/110, elapsed time 1.379\n",
      "[MICE] Starting imputation round 53/110, elapsed time 1.404\n",
      "[MICE] Starting imputation round 54/110, elapsed time 1.429\n",
      "[MICE] Starting imputation round 55/110, elapsed time 1.453\n",
      "[MICE] Starting imputation round 56/110, elapsed time 1.480\n",
      "[MICE] Starting imputation round 57/110, elapsed time 1.511\n",
      "[MICE] Starting imputation round 58/110, elapsed time 1.537\n",
      "[MICE] Starting imputation round 59/110, elapsed time 1.562\n",
      "[MICE] Starting imputation round 60/110, elapsed time 1.587\n",
      "[MICE] Starting imputation round 61/110, elapsed time 1.611\n",
      "[MICE] Starting imputation round 62/110, elapsed time 1.636\n",
      "[MICE] Starting imputation round 63/110, elapsed time 1.667\n",
      "[MICE] Starting imputation round 64/110, elapsed time 1.696\n",
      "[MICE] Starting imputation round 65/110, elapsed time 1.723\n",
      "[MICE] Starting imputation round 66/110, elapsed time 1.754\n",
      "[MICE] Starting imputation round 67/110, elapsed time 1.783\n",
      "[MICE] Starting imputation round 68/110, elapsed time 1.807\n",
      "[MICE] Starting imputation round 69/110, elapsed time 1.833\n",
      "[MICE] Starting imputation round 70/110, elapsed time 1.858\n",
      "[MICE] Starting imputation round 71/110, elapsed time 1.882\n",
      "[MICE] Starting imputation round 72/110, elapsed time 1.907\n",
      "[MICE] Starting imputation round 73/110, elapsed time 1.930\n",
      "[MICE] Starting imputation round 74/110, elapsed time 1.967\n",
      "[MICE] Starting imputation round 75/110, elapsed time 1.999\n",
      "[MICE] Starting imputation round 76/110, elapsed time 2.028\n",
      "[MICE] Starting imputation round 77/110, elapsed time 2.053\n",
      "[MICE] Starting imputation round 78/110, elapsed time 2.077\n",
      "[MICE] Starting imputation round 79/110, elapsed time 2.101\n",
      "[MICE] Starting imputation round 80/110, elapsed time 2.126\n",
      "[MICE] Starting imputation round 81/110, elapsed time 2.151\n",
      "[MICE] Starting imputation round 82/110, elapsed time 2.175\n",
      "[MICE] Starting imputation round 83/110, elapsed time 2.204\n",
      "[MICE] Starting imputation round 84/110, elapsed time 2.233\n",
      "[MICE] Starting imputation round 85/110, elapsed time 2.258\n",
      "[MICE] Starting imputation round 86/110, elapsed time 2.284\n",
      "[MICE] Starting imputation round 87/110, elapsed time 2.313\n",
      "[MICE] Starting imputation round 88/110, elapsed time 2.337\n",
      "[MICE] Starting imputation round 89/110, elapsed time 2.363\n",
      "[MICE] Starting imputation round 90/110, elapsed time 2.395\n",
      "[MICE] Starting imputation round 91/110, elapsed time 2.426\n",
      "[MICE] Starting imputation round 92/110, elapsed time 2.451\n",
      "[MICE] Starting imputation round 93/110, elapsed time 2.478\n",
      "[MICE] Starting imputation round 94/110, elapsed time 2.503\n",
      "[MICE] Starting imputation round 95/110, elapsed time 2.530\n",
      "[MICE] Starting imputation round 96/110, elapsed time 2.555\n",
      "[MICE] Starting imputation round 97/110, elapsed time 2.582\n",
      "[MICE] Starting imputation round 98/110, elapsed time 2.610\n",
      "[MICE] Starting imputation round 99/110, elapsed time 2.639\n",
      "[MICE] Starting imputation round 100/110, elapsed time 2.667\n",
      "[MICE] Starting imputation round 101/110, elapsed time 2.695\n",
      "[MICE] Starting imputation round 102/110, elapsed time 2.726\n",
      "[MICE] Starting imputation round 103/110, elapsed time 2.754\n",
      "[MICE] Starting imputation round 104/110, elapsed time 2.781\n",
      "[MICE] Starting imputation round 105/110, elapsed time 2.807\n",
      "[MICE] Starting imputation round 106/110, elapsed time 2.834\n",
      "[MICE] Starting imputation round 107/110, elapsed time 2.866\n",
      "[MICE] Starting imputation round 108/110, elapsed time 2.899\n",
      "[MICE] Starting imputation round 109/110, elapsed time 2.927\n",
      "[MICE] Starting imputation round 110/110, elapsed time 2.953\n"
     ]
    }
   ],
   "source": [
    "# df is my data frame with the missings. I keep only floats\n",
    "df_numeric = test_df[continuous_vars].as_matrix()\n",
    "\n",
    "# I now run fancyimpute KNN, \n",
    "# it returns a np.array which I store as a pandas dataframe\n",
    "imputed_array = MICE().complete(df_numeric)\n",
    "df_standarized_filled = preprocessing.scale(imputed_array)\n",
    "df_filled = pd.DataFrame(df_standarized_filled)\n",
    "df_filled.columns = test_df[continuous_vars].columns\n",
    "df_filled.index = test_df[continuous_vars].index"
   ]
  },
  {
   "cell_type": "code",
   "execution_count": 530,
   "metadata": {},
   "outputs": [],
   "source": [
    "test_df_treated = df_filled.copy()"
   ]
  },
  {
   "cell_type": "code",
   "execution_count": 531,
   "metadata": {},
   "outputs": [],
   "source": [
    "test_df['sourcing_channel'] = test_df[['sourcing_channel']].apply(LabelEncoder().fit_transform)\n",
    "test_df['residence_area_type'] = test_df[['residence_area_type']].apply(LabelEncoder().fit_transform)"
   ]
  },
  {
   "cell_type": "code",
   "execution_count": 532,
   "metadata": {},
   "outputs": [],
   "source": [
    "test_df_treated['id'] = test_df['id']\n",
    "test_df_treated['sourcing_channel'] = test_df['sourcing_channel']\n",
    "test_df_treated['residence_area_type'] = test_df['residence_area_type']"
   ]
  },
  {
   "cell_type": "code",
   "execution_count": 533,
   "metadata": {},
   "outputs": [],
   "source": [
    "test_df = test_df_treated.copy()"
   ]
  },
  {
   "cell_type": "code",
   "execution_count": 534,
   "metadata": {},
   "outputs": [],
   "source": [
    "predicted_vals = xgb1.predict_proba(test_df[continuous_vars + catagorical_vars])"
   ]
  },
  {
   "cell_type": "code",
   "execution_count": 535,
   "metadata": {},
   "outputs": [],
   "source": [
    "probs = pd.DataFrame(predicted_vals)"
   ]
  },
  {
   "cell_type": "code",
   "execution_count": 536,
   "metadata": {},
   "outputs": [],
   "source": [
    "renewal_for_policy = pd.DataFrame({'id' : test_df['id'], 'renewal':probs[1]})"
   ]
  },
  {
   "cell_type": "code",
   "execution_count": 537,
   "metadata": {},
   "outputs": [
    {
     "data": {
      "text/html": [
       "<div>\n",
       "<style scoped>\n",
       "    .dataframe tbody tr th:only-of-type {\n",
       "        vertical-align: middle;\n",
       "    }\n",
       "\n",
       "    .dataframe tbody tr th {\n",
       "        vertical-align: top;\n",
       "    }\n",
       "\n",
       "    .dataframe thead th {\n",
       "        text-align: right;\n",
       "    }\n",
       "</style>\n",
       "<table border=\"1\" class=\"dataframe\">\n",
       "  <thead>\n",
       "    <tr style=\"text-align: right;\">\n",
       "      <th></th>\n",
       "      <th>id</th>\n",
       "      <th>renewal</th>\n",
       "    </tr>\n",
       "  </thead>\n",
       "  <tbody>\n",
       "    <tr>\n",
       "      <th>0</th>\n",
       "      <td>649</td>\n",
       "      <td>0.918038</td>\n",
       "    </tr>\n",
       "    <tr>\n",
       "      <th>1</th>\n",
       "      <td>81136</td>\n",
       "      <td>0.784664</td>\n",
       "    </tr>\n",
       "  </tbody>\n",
       "</table>\n",
       "</div>"
      ],
      "text/plain": [
       "      id   renewal\n",
       "0    649  0.918038\n",
       "1  81136  0.784664"
      ]
     },
     "execution_count": 537,
     "metadata": {},
     "output_type": "execute_result"
    }
   ],
   "source": [
    "renewal_for_policy.head(2)"
   ]
  },
  {
   "cell_type": "markdown",
   "metadata": {},
   "source": [
    "## Calculate incentives"
   ]
  },
  {
   "cell_type": "code",
   "execution_count": 538,
   "metadata": {},
   "outputs": [],
   "source": [
    "def calc_agent_efforts(row):\n",
    "    return  20*(1-np.exp(-row/5))"
   ]
  },
  {
   "cell_type": "code",
   "execution_count": 539,
   "metadata": {},
   "outputs": [],
   "source": [
    "def calc_incentives(row):\n",
    "    return 10*(1-np.exp(-row/400))"
   ]
  },
  {
   "cell_type": "code",
   "execution_count": 540,
   "metadata": {},
   "outputs": [],
   "source": [
    "renewal_for_policy['improvement_in_probability'] = renewal_for_policy[['renewal']]"
   ]
  },
  {
   "cell_type": "code",
   "execution_count": 541,
   "metadata": {},
   "outputs": [],
   "source": [
    "renewal_for_policy['agent_efforts'] = renewal_for_policy[['improvement_in_probability']].apply(calc_agent_efforts)"
   ]
  },
  {
   "cell_type": "code",
   "execution_count": 542,
   "metadata": {},
   "outputs": [],
   "source": [
    "renewal_for_policy['incentives'] = renewal_for_policy[['agent_efforts']].apply(calc_incentives)"
   ]
  },
  {
   "cell_type": "code",
   "execution_count": 543,
   "metadata": {},
   "outputs": [
    {
     "data": {
      "text/html": [
       "<div>\n",
       "<style scoped>\n",
       "    .dataframe tbody tr th:only-of-type {\n",
       "        vertical-align: middle;\n",
       "    }\n",
       "\n",
       "    .dataframe tbody tr th {\n",
       "        vertical-align: top;\n",
       "    }\n",
       "\n",
       "    .dataframe thead th {\n",
       "        text-align: right;\n",
       "    }\n",
       "</style>\n",
       "<table border=\"1\" class=\"dataframe\">\n",
       "  <thead>\n",
       "    <tr style=\"text-align: right;\">\n",
       "      <th></th>\n",
       "      <th>id</th>\n",
       "      <th>renewal</th>\n",
       "      <th>improvement_in_probability</th>\n",
       "      <th>agent_efforts</th>\n",
       "      <th>incentives</th>\n",
       "    </tr>\n",
       "  </thead>\n",
       "  <tbody>\n",
       "    <tr>\n",
       "      <th>0</th>\n",
       "      <td>649</td>\n",
       "      <td>0.918038</td>\n",
       "      <td>0.918038</td>\n",
       "      <td>3.354754</td>\n",
       "      <td>0.083518</td>\n",
       "    </tr>\n",
       "    <tr>\n",
       "      <th>1</th>\n",
       "      <td>81136</td>\n",
       "      <td>0.784664</td>\n",
       "      <td>0.784664</td>\n",
       "      <td>2.904770</td>\n",
       "      <td>0.072356</td>\n",
       "    </tr>\n",
       "    <tr>\n",
       "      <th>2</th>\n",
       "      <td>70762</td>\n",
       "      <td>0.339375</td>\n",
       "      <td>0.339375</td>\n",
       "      <td>1.312456</td>\n",
       "      <td>0.032758</td>\n",
       "    </tr>\n",
       "    <tr>\n",
       "      <th>3</th>\n",
       "      <td>53935</td>\n",
       "      <td>0.679103</td>\n",
       "      <td>0.679103</td>\n",
       "      <td>2.540016</td>\n",
       "      <td>0.063299</td>\n",
       "    </tr>\n",
       "    <tr>\n",
       "      <th>4</th>\n",
       "      <td>15476</td>\n",
       "      <td>0.671054</td>\n",
       "      <td>0.671054</td>\n",
       "      <td>2.511884</td>\n",
       "      <td>0.062600</td>\n",
       "    </tr>\n",
       "  </tbody>\n",
       "</table>\n",
       "</div>"
      ],
      "text/plain": [
       "      id   renewal  improvement_in_probability  agent_efforts  incentives\n",
       "0    649  0.918038                    0.918038       3.354754    0.083518\n",
       "1  81136  0.784664                    0.784664       2.904770    0.072356\n",
       "2  70762  0.339375                    0.339375       1.312456    0.032758\n",
       "3  53935  0.679103                    0.679103       2.540016    0.063299\n",
       "4  15476  0.671054                    0.671054       2.511884    0.062600"
      ]
     },
     "execution_count": 543,
     "metadata": {},
     "output_type": "execute_result"
    }
   ],
   "source": [
    "renewal_for_policy.head()"
   ]
  },
  {
   "cell_type": "code",
   "execution_count": 544,
   "metadata": {},
   "outputs": [],
   "source": [
    "renewal_for_policy_final = pd.DataFrame({'id' : test_df['id'], 'renewal':probs[1], 'incentives' : (test_df_orig['premium'] * renewal_for_policy['incentives'])})"
   ]
  },
  {
   "cell_type": "code",
   "execution_count": 545,
   "metadata": {},
   "outputs": [
    {
     "data": {
      "text/html": [
       "<div>\n",
       "<style scoped>\n",
       "    .dataframe tbody tr th:only-of-type {\n",
       "        vertical-align: middle;\n",
       "    }\n",
       "\n",
       "    .dataframe tbody tr th {\n",
       "        vertical-align: top;\n",
       "    }\n",
       "\n",
       "    .dataframe thead th {\n",
       "        text-align: right;\n",
       "    }\n",
       "</style>\n",
       "<table border=\"1\" class=\"dataframe\">\n",
       "  <thead>\n",
       "    <tr style=\"text-align: right;\">\n",
       "      <th></th>\n",
       "      <th>id</th>\n",
       "      <th>incentives</th>\n",
       "      <th>renewal</th>\n",
       "    </tr>\n",
       "  </thead>\n",
       "  <tbody>\n",
       "    <tr>\n",
       "      <th>0</th>\n",
       "      <td>649</td>\n",
       "      <td>275.609493</td>\n",
       "      <td>0.918038</td>\n",
       "    </tr>\n",
       "    <tr>\n",
       "      <th>1</th>\n",
       "      <td>81136</td>\n",
       "      <td>846.570611</td>\n",
       "      <td>0.784664</td>\n",
       "    </tr>\n",
       "    <tr>\n",
       "      <th>2</th>\n",
       "      <td>70762</td>\n",
       "      <td>383.262992</td>\n",
       "      <td>0.339375</td>\n",
       "    </tr>\n",
       "    <tr>\n",
       "      <th>3</th>\n",
       "      <td>53935</td>\n",
       "      <td>341.814280</td>\n",
       "      <td>0.679103</td>\n",
       "    </tr>\n",
       "    <tr>\n",
       "      <th>4</th>\n",
       "      <td>15476</td>\n",
       "      <td>600.963593</td>\n",
       "      <td>0.671054</td>\n",
       "    </tr>\n",
       "  </tbody>\n",
       "</table>\n",
       "</div>"
      ],
      "text/plain": [
       "      id  incentives   renewal\n",
       "0    649  275.609493  0.918038\n",
       "1  81136  846.570611  0.784664\n",
       "2  70762  383.262992  0.339375\n",
       "3  53935  341.814280  0.679103\n",
       "4  15476  600.963593  0.671054"
      ]
     },
     "execution_count": 545,
     "metadata": {},
     "output_type": "execute_result"
    }
   ],
   "source": [
    "renewal_for_policy_final.head()"
   ]
  },
  {
   "cell_type": "code",
   "execution_count": 546,
   "metadata": {},
   "outputs": [],
   "source": [
    "renewal_for_policy_final.to_csv('renewal_of_policy_xgb_with_imputation_mice_catagorical_vars_standarized.csv', index=False)"
   ]
  }
 ],
 "metadata": {
  "kernelspec": {
   "display_name": "Python 3",
   "language": "python",
   "name": "python3"
  },
  "language_info": {
   "codemirror_mode": {
    "name": "ipython",
    "version": 3
   },
   "file_extension": ".py",
   "mimetype": "text/x-python",
   "name": "python",
   "nbconvert_exporter": "python",
   "pygments_lexer": "ipython3",
   "version": "3.5.0"
  },
  "widgets": {
   "state": {},
   "version": "1.1.2"
  }
 },
 "nbformat": 4,
 "nbformat_minor": 2
}

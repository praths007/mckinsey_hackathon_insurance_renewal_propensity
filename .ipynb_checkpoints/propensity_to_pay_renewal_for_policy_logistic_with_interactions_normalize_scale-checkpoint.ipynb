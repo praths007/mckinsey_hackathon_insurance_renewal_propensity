{
 "cells": [
  {
   "cell_type": "code",
   "execution_count": 1,
   "metadata": {},
   "outputs": [],
   "source": [
    "import pandas as pd\n",
    "import numpy as np\n",
    "import matplotlib.pyplot as plt"
   ]
  },
  {
   "cell_type": "code",
   "execution_count": 2,
   "metadata": {},
   "outputs": [],
   "source": [
    "from sklearn.preprocessing import LabelEncoder"
   ]
  },
  {
   "cell_type": "code",
   "execution_count": 3,
   "metadata": {},
   "outputs": [],
   "source": [
    "from sklearn import preprocessing"
   ]
  },
  {
   "cell_type": "code",
   "execution_count": 150,
   "metadata": {},
   "outputs": [],
   "source": [
    "# read train and test files\n",
    "train_df = pd.read_csv(\"train_ZoGVYWq.csv\")\n",
    "test_df = pd.read_csv(\"test_66516Ee.csv\")"
   ]
  },
  {
   "cell_type": "code",
   "execution_count": 151,
   "metadata": {},
   "outputs": [],
   "source": [
    "test_df_orig = test_df.copy()"
   ]
  },
  {
   "cell_type": "code",
   "execution_count": 152,
   "metadata": {},
   "outputs": [
    {
     "data": {
      "text/html": [
       "<div>\n",
       "<style scoped>\n",
       "    .dataframe tbody tr th:only-of-type {\n",
       "        vertical-align: middle;\n",
       "    }\n",
       "\n",
       "    .dataframe tbody tr th {\n",
       "        vertical-align: top;\n",
       "    }\n",
       "\n",
       "    .dataframe thead th {\n",
       "        text-align: right;\n",
       "    }\n",
       "</style>\n",
       "<table border=\"1\" class=\"dataframe\">\n",
       "  <thead>\n",
       "    <tr style=\"text-align: right;\">\n",
       "      <th></th>\n",
       "      <th>id</th>\n",
       "      <th>perc_premium_paid_by_cash_credit</th>\n",
       "      <th>age_in_days</th>\n",
       "      <th>Income</th>\n",
       "      <th>Count_3-6_months_late</th>\n",
       "      <th>Count_6-12_months_late</th>\n",
       "      <th>Count_more_than_12_months_late</th>\n",
       "      <th>application_underwriting_score</th>\n",
       "      <th>no_of_premiums_paid</th>\n",
       "      <th>sourcing_channel</th>\n",
       "      <th>residence_area_type</th>\n",
       "      <th>premium</th>\n",
       "      <th>renewal</th>\n",
       "    </tr>\n",
       "  </thead>\n",
       "  <tbody>\n",
       "    <tr>\n",
       "      <th>0</th>\n",
       "      <td>110936</td>\n",
       "      <td>0.429</td>\n",
       "      <td>12058</td>\n",
       "      <td>355060</td>\n",
       "      <td>0.0</td>\n",
       "      <td>0.0</td>\n",
       "      <td>0.0</td>\n",
       "      <td>99.02</td>\n",
       "      <td>13</td>\n",
       "      <td>C</td>\n",
       "      <td>Urban</td>\n",
       "      <td>3300</td>\n",
       "      <td>1</td>\n",
       "    </tr>\n",
       "    <tr>\n",
       "      <th>1</th>\n",
       "      <td>41492</td>\n",
       "      <td>0.010</td>\n",
       "      <td>21546</td>\n",
       "      <td>315150</td>\n",
       "      <td>0.0</td>\n",
       "      <td>0.0</td>\n",
       "      <td>0.0</td>\n",
       "      <td>99.89</td>\n",
       "      <td>21</td>\n",
       "      <td>A</td>\n",
       "      <td>Urban</td>\n",
       "      <td>18000</td>\n",
       "      <td>1</td>\n",
       "    </tr>\n",
       "    <tr>\n",
       "      <th>2</th>\n",
       "      <td>31300</td>\n",
       "      <td>0.917</td>\n",
       "      <td>17531</td>\n",
       "      <td>84140</td>\n",
       "      <td>2.0</td>\n",
       "      <td>3.0</td>\n",
       "      <td>1.0</td>\n",
       "      <td>98.69</td>\n",
       "      <td>7</td>\n",
       "      <td>C</td>\n",
       "      <td>Rural</td>\n",
       "      <td>3300</td>\n",
       "      <td>0</td>\n",
       "    </tr>\n",
       "    <tr>\n",
       "      <th>3</th>\n",
       "      <td>19415</td>\n",
       "      <td>0.049</td>\n",
       "      <td>15341</td>\n",
       "      <td>250510</td>\n",
       "      <td>0.0</td>\n",
       "      <td>0.0</td>\n",
       "      <td>0.0</td>\n",
       "      <td>99.57</td>\n",
       "      <td>9</td>\n",
       "      <td>A</td>\n",
       "      <td>Urban</td>\n",
       "      <td>9600</td>\n",
       "      <td>1</td>\n",
       "    </tr>\n",
       "    <tr>\n",
       "      <th>4</th>\n",
       "      <td>99379</td>\n",
       "      <td>0.052</td>\n",
       "      <td>31400</td>\n",
       "      <td>198680</td>\n",
       "      <td>0.0</td>\n",
       "      <td>0.0</td>\n",
       "      <td>0.0</td>\n",
       "      <td>99.87</td>\n",
       "      <td>12</td>\n",
       "      <td>B</td>\n",
       "      <td>Urban</td>\n",
       "      <td>9600</td>\n",
       "      <td>1</td>\n",
       "    </tr>\n",
       "  </tbody>\n",
       "</table>\n",
       "</div>"
      ],
      "text/plain": [
       "       id  perc_premium_paid_by_cash_credit  age_in_days  Income  \\\n",
       "0  110936                             0.429        12058  355060   \n",
       "1   41492                             0.010        21546  315150   \n",
       "2   31300                             0.917        17531   84140   \n",
       "3   19415                             0.049        15341  250510   \n",
       "4   99379                             0.052        31400  198680   \n",
       "\n",
       "   Count_3-6_months_late  Count_6-12_months_late  \\\n",
       "0                    0.0                     0.0   \n",
       "1                    0.0                     0.0   \n",
       "2                    2.0                     3.0   \n",
       "3                    0.0                     0.0   \n",
       "4                    0.0                     0.0   \n",
       "\n",
       "   Count_more_than_12_months_late  application_underwriting_score  \\\n",
       "0                             0.0                           99.02   \n",
       "1                             0.0                           99.89   \n",
       "2                             1.0                           98.69   \n",
       "3                             0.0                           99.57   \n",
       "4                             0.0                           99.87   \n",
       "\n",
       "   no_of_premiums_paid sourcing_channel residence_area_type  premium  renewal  \n",
       "0                   13                C               Urban     3300        1  \n",
       "1                   21                A               Urban    18000        1  \n",
       "2                    7                C               Rural     3300        0  \n",
       "3                    9                A               Urban     9600        1  \n",
       "4                   12                B               Urban     9600        1  "
      ]
     },
     "execution_count": 152,
     "metadata": {},
     "output_type": "execute_result"
    }
   ],
   "source": [
    "train_df.head()"
   ]
  },
  {
   "cell_type": "code",
   "execution_count": 153,
   "metadata": {},
   "outputs": [
    {
     "data": {
      "text/plain": [
       "Index(['id', 'perc_premium_paid_by_cash_credit', 'age_in_days', 'Income',\n",
       "       'Count_3-6_months_late', 'Count_6-12_months_late',\n",
       "       'Count_more_than_12_months_late', 'application_underwriting_score',\n",
       "       'no_of_premiums_paid', 'sourcing_channel', 'residence_area_type',\n",
       "       'premium', 'renewal'],\n",
       "      dtype='object')"
      ]
     },
     "execution_count": 153,
     "metadata": {},
     "output_type": "execute_result"
    }
   ],
   "source": [
    "train_df.columns"
   ]
  },
  {
   "cell_type": "code",
   "execution_count": 154,
   "metadata": {},
   "outputs": [],
   "source": [
    "continuous_vars = ['perc_premium_paid_by_cash_credit', 'age_in_days', 'Income',\n",
    "       'Count_3-6_months_late', 'Count_6-12_months_late',\n",
    "       'Count_more_than_12_months_late', 'application_underwriting_score',\n",
    "       'no_of_premiums_paid',\n",
    "       'premium']"
   ]
  },
  {
   "cell_type": "code",
   "execution_count": 155,
   "metadata": {},
   "outputs": [],
   "source": [
    "catagorical_vars = ['sourcing_channel', 'residence_area_type']"
   ]
  },
  {
   "cell_type": "code",
   "execution_count": 156,
   "metadata": {},
   "outputs": [
    {
     "data": {
      "text/plain": [
       "A    43134\n",
       "B    16512\n",
       "C    12039\n",
       "D     7559\n",
       "E      609\n",
       "Name: sourcing_channel, dtype: int64"
      ]
     },
     "execution_count": 156,
     "metadata": {},
     "output_type": "execute_result"
    }
   ],
   "source": [
    "train_df['sourcing_channel'].value_counts()"
   ]
  },
  {
   "cell_type": "code",
   "execution_count": 157,
   "metadata": {},
   "outputs": [
    {
     "data": {
      "text/plain": [
       "Urban    48183\n",
       "Rural    31670\n",
       "Name: residence_area_type, dtype: int64"
      ]
     },
     "execution_count": 157,
     "metadata": {},
     "output_type": "execute_result"
    }
   ],
   "source": [
    "train_df['residence_area_type'].value_counts()"
   ]
  },
  {
   "cell_type": "code",
   "execution_count": 158,
   "metadata": {},
   "outputs": [],
   "source": [
    "# labelling catagorical variables"
   ]
  },
  {
   "cell_type": "code",
   "execution_count": 159,
   "metadata": {},
   "outputs": [],
   "source": [
    "train_df['sourcing_channel'] = train_df[['sourcing_channel']].apply(LabelEncoder().fit_transform)"
   ]
  },
  {
   "cell_type": "code",
   "execution_count": 160,
   "metadata": {},
   "outputs": [],
   "source": [
    "train_df['residence_area_type'] = train_df[['residence_area_type']].apply(LabelEncoder().fit_transform)"
   ]
  },
  {
   "cell_type": "code",
   "execution_count": 161,
   "metadata": {},
   "outputs": [
    {
     "data": {
      "text/html": [
       "<div>\n",
       "<style scoped>\n",
       "    .dataframe tbody tr th:only-of-type {\n",
       "        vertical-align: middle;\n",
       "    }\n",
       "\n",
       "    .dataframe tbody tr th {\n",
       "        vertical-align: top;\n",
       "    }\n",
       "\n",
       "    .dataframe thead th {\n",
       "        text-align: right;\n",
       "    }\n",
       "</style>\n",
       "<table border=\"1\" class=\"dataframe\">\n",
       "  <thead>\n",
       "    <tr style=\"text-align: right;\">\n",
       "      <th></th>\n",
       "      <th>id</th>\n",
       "      <th>perc_premium_paid_by_cash_credit</th>\n",
       "      <th>age_in_days</th>\n",
       "      <th>Income</th>\n",
       "      <th>Count_3-6_months_late</th>\n",
       "      <th>Count_6-12_months_late</th>\n",
       "      <th>Count_more_than_12_months_late</th>\n",
       "      <th>application_underwriting_score</th>\n",
       "      <th>no_of_premiums_paid</th>\n",
       "      <th>sourcing_channel</th>\n",
       "      <th>residence_area_type</th>\n",
       "      <th>premium</th>\n",
       "      <th>renewal</th>\n",
       "    </tr>\n",
       "  </thead>\n",
       "  <tbody>\n",
       "    <tr>\n",
       "      <th>0</th>\n",
       "      <td>110936</td>\n",
       "      <td>0.429</td>\n",
       "      <td>12058</td>\n",
       "      <td>355060</td>\n",
       "      <td>0.0</td>\n",
       "      <td>0.0</td>\n",
       "      <td>0.0</td>\n",
       "      <td>99.02</td>\n",
       "      <td>13</td>\n",
       "      <td>2</td>\n",
       "      <td>1</td>\n",
       "      <td>3300</td>\n",
       "      <td>1</td>\n",
       "    </tr>\n",
       "    <tr>\n",
       "      <th>1</th>\n",
       "      <td>41492</td>\n",
       "      <td>0.010</td>\n",
       "      <td>21546</td>\n",
       "      <td>315150</td>\n",
       "      <td>0.0</td>\n",
       "      <td>0.0</td>\n",
       "      <td>0.0</td>\n",
       "      <td>99.89</td>\n",
       "      <td>21</td>\n",
       "      <td>0</td>\n",
       "      <td>1</td>\n",
       "      <td>18000</td>\n",
       "      <td>1</td>\n",
       "    </tr>\n",
       "    <tr>\n",
       "      <th>2</th>\n",
       "      <td>31300</td>\n",
       "      <td>0.917</td>\n",
       "      <td>17531</td>\n",
       "      <td>84140</td>\n",
       "      <td>2.0</td>\n",
       "      <td>3.0</td>\n",
       "      <td>1.0</td>\n",
       "      <td>98.69</td>\n",
       "      <td>7</td>\n",
       "      <td>2</td>\n",
       "      <td>0</td>\n",
       "      <td>3300</td>\n",
       "      <td>0</td>\n",
       "    </tr>\n",
       "    <tr>\n",
       "      <th>3</th>\n",
       "      <td>19415</td>\n",
       "      <td>0.049</td>\n",
       "      <td>15341</td>\n",
       "      <td>250510</td>\n",
       "      <td>0.0</td>\n",
       "      <td>0.0</td>\n",
       "      <td>0.0</td>\n",
       "      <td>99.57</td>\n",
       "      <td>9</td>\n",
       "      <td>0</td>\n",
       "      <td>1</td>\n",
       "      <td>9600</td>\n",
       "      <td>1</td>\n",
       "    </tr>\n",
       "    <tr>\n",
       "      <th>4</th>\n",
       "      <td>99379</td>\n",
       "      <td>0.052</td>\n",
       "      <td>31400</td>\n",
       "      <td>198680</td>\n",
       "      <td>0.0</td>\n",
       "      <td>0.0</td>\n",
       "      <td>0.0</td>\n",
       "      <td>99.87</td>\n",
       "      <td>12</td>\n",
       "      <td>1</td>\n",
       "      <td>1</td>\n",
       "      <td>9600</td>\n",
       "      <td>1</td>\n",
       "    </tr>\n",
       "  </tbody>\n",
       "</table>\n",
       "</div>"
      ],
      "text/plain": [
       "       id  perc_premium_paid_by_cash_credit  age_in_days  Income  \\\n",
       "0  110936                             0.429        12058  355060   \n",
       "1   41492                             0.010        21546  315150   \n",
       "2   31300                             0.917        17531   84140   \n",
       "3   19415                             0.049        15341  250510   \n",
       "4   99379                             0.052        31400  198680   \n",
       "\n",
       "   Count_3-6_months_late  Count_6-12_months_late  \\\n",
       "0                    0.0                     0.0   \n",
       "1                    0.0                     0.0   \n",
       "2                    2.0                     3.0   \n",
       "3                    0.0                     0.0   \n",
       "4                    0.0                     0.0   \n",
       "\n",
       "   Count_more_than_12_months_late  application_underwriting_score  \\\n",
       "0                             0.0                           99.02   \n",
       "1                             0.0                           99.89   \n",
       "2                             1.0                           98.69   \n",
       "3                             0.0                           99.57   \n",
       "4                             0.0                           99.87   \n",
       "\n",
       "   no_of_premiums_paid  sourcing_channel  residence_area_type  premium  \\\n",
       "0                   13                 2                    1     3300   \n",
       "1                   21                 0                    1    18000   \n",
       "2                    7                 2                    0     3300   \n",
       "3                    9                 0                    1     9600   \n",
       "4                   12                 1                    1     9600   \n",
       "\n",
       "   renewal  \n",
       "0        1  \n",
       "1        1  \n",
       "2        0  \n",
       "3        1  \n",
       "4        1  "
      ]
     },
     "execution_count": 161,
     "metadata": {},
     "output_type": "execute_result"
    }
   ],
   "source": [
    "train_df.head()"
   ]
  },
  {
   "cell_type": "markdown",
   "metadata": {},
   "source": [
    "## data sanctity checks"
   ]
  },
  {
   "cell_type": "code",
   "execution_count": 162,
   "metadata": {},
   "outputs": [
    {
     "data": {
      "text/html": [
       "<div>\n",
       "<style scoped>\n",
       "    .dataframe tbody tr th:only-of-type {\n",
       "        vertical-align: middle;\n",
       "    }\n",
       "\n",
       "    .dataframe tbody tr th {\n",
       "        vertical-align: top;\n",
       "    }\n",
       "\n",
       "    .dataframe thead th {\n",
       "        text-align: right;\n",
       "    }\n",
       "</style>\n",
       "<table border=\"1\" class=\"dataframe\">\n",
       "  <thead>\n",
       "    <tr style=\"text-align: right;\">\n",
       "      <th></th>\n",
       "      <th>missing</th>\n",
       "      <th>missing_percent</th>\n",
       "    </tr>\n",
       "  </thead>\n",
       "  <tbody>\n",
       "    <tr>\n",
       "      <th>id</th>\n",
       "      <td>0</td>\n",
       "      <td>0.000000</td>\n",
       "    </tr>\n",
       "    <tr>\n",
       "      <th>perc_premium_paid_by_cash_credit</th>\n",
       "      <td>0</td>\n",
       "      <td>0.000000</td>\n",
       "    </tr>\n",
       "    <tr>\n",
       "      <th>age_in_days</th>\n",
       "      <td>0</td>\n",
       "      <td>0.000000</td>\n",
       "    </tr>\n",
       "    <tr>\n",
       "      <th>Income</th>\n",
       "      <td>0</td>\n",
       "      <td>0.000000</td>\n",
       "    </tr>\n",
       "    <tr>\n",
       "      <th>Count_3-6_months_late</th>\n",
       "      <td>97</td>\n",
       "      <td>0.121473</td>\n",
       "    </tr>\n",
       "    <tr>\n",
       "      <th>Count_6-12_months_late</th>\n",
       "      <td>97</td>\n",
       "      <td>0.121473</td>\n",
       "    </tr>\n",
       "    <tr>\n",
       "      <th>Count_more_than_12_months_late</th>\n",
       "      <td>97</td>\n",
       "      <td>0.121473</td>\n",
       "    </tr>\n",
       "    <tr>\n",
       "      <th>application_underwriting_score</th>\n",
       "      <td>2974</td>\n",
       "      <td>3.724343</td>\n",
       "    </tr>\n",
       "    <tr>\n",
       "      <th>no_of_premiums_paid</th>\n",
       "      <td>0</td>\n",
       "      <td>0.000000</td>\n",
       "    </tr>\n",
       "    <tr>\n",
       "      <th>sourcing_channel</th>\n",
       "      <td>0</td>\n",
       "      <td>0.000000</td>\n",
       "    </tr>\n",
       "    <tr>\n",
       "      <th>residence_area_type</th>\n",
       "      <td>0</td>\n",
       "      <td>0.000000</td>\n",
       "    </tr>\n",
       "    <tr>\n",
       "      <th>premium</th>\n",
       "      <td>0</td>\n",
       "      <td>0.000000</td>\n",
       "    </tr>\n",
       "    <tr>\n",
       "      <th>renewal</th>\n",
       "      <td>0</td>\n",
       "      <td>0.000000</td>\n",
       "    </tr>\n",
       "  </tbody>\n",
       "</table>\n",
       "</div>"
      ],
      "text/plain": [
       "                                  missing  missing_percent\n",
       "id                                      0         0.000000\n",
       "perc_premium_paid_by_cash_credit        0         0.000000\n",
       "age_in_days                             0         0.000000\n",
       "Income                                  0         0.000000\n",
       "Count_3-6_months_late                  97         0.121473\n",
       "Count_6-12_months_late                 97         0.121473\n",
       "Count_more_than_12_months_late         97         0.121473\n",
       "application_underwriting_score       2974         3.724343\n",
       "no_of_premiums_paid                     0         0.000000\n",
       "sourcing_channel                        0         0.000000\n",
       "residence_area_type                     0         0.000000\n",
       "premium                                 0         0.000000\n",
       "renewal                                 0         0.000000"
      ]
     },
     "execution_count": 162,
     "metadata": {},
     "output_type": "execute_result"
    }
   ],
   "source": [
    "missing_val_checks = pd.DataFrame({'missing' : train_df.isnull().sum(), 'missing_percent' : (train_df.isnull().sum()/len(train_df))*100})\n",
    "missing_val_checks"
   ]
  },
  {
   "cell_type": "code",
   "execution_count": 163,
   "metadata": {},
   "outputs": [],
   "source": [
    "# treating missing values"
   ]
  },
  {
   "cell_type": "code",
   "execution_count": 164,
   "metadata": {},
   "outputs": [],
   "source": [
    "from fancyimpute import MICE"
   ]
  },
  {
   "cell_type": "code",
   "execution_count": 563,
   "metadata": {},
   "outputs": [],
   "source": [
    "# df_numeric"
   ]
  },
  {
   "cell_type": "code",
   "execution_count": 165,
   "metadata": {},
   "outputs": [
    {
     "name": "stdout",
     "output_type": "stream",
     "text": [
      "[MICE] Completing matrix with shape (79853, 11)\n",
      "[MICE] Starting imputation round 1/110, elapsed time 0.014\n",
      "[MICE] Starting imputation round 2/110, elapsed time 0.095\n",
      "[MICE] Starting imputation round 3/110, elapsed time 0.167\n",
      "[MICE] Starting imputation round 4/110, elapsed time 0.246\n",
      "[MICE] Starting imputation round 5/110, elapsed time 0.323\n",
      "[MICE] Starting imputation round 6/110, elapsed time 0.394\n",
      "[MICE] Starting imputation round 7/110, elapsed time 0.471\n",
      "[MICE] Starting imputation round 8/110, elapsed time 0.546\n",
      "[MICE] Starting imputation round 9/110, elapsed time 0.623\n",
      "[MICE] Starting imputation round 10/110, elapsed time 0.698\n",
      "[MICE] Starting imputation round 11/110, elapsed time 0.770\n",
      "[MICE] Starting imputation round 12/110, elapsed time 0.841\n",
      "[MICE] Starting imputation round 13/110, elapsed time 0.916\n",
      "[MICE] Starting imputation round 14/110, elapsed time 0.988\n",
      "[MICE] Starting imputation round 15/110, elapsed time 1.067\n",
      "[MICE] Starting imputation round 16/110, elapsed time 1.143\n",
      "[MICE] Starting imputation round 17/110, elapsed time 1.228\n",
      "[MICE] Starting imputation round 18/110, elapsed time 1.306\n",
      "[MICE] Starting imputation round 19/110, elapsed time 1.383\n",
      "[MICE] Starting imputation round 20/110, elapsed time 1.461\n",
      "[MICE] Starting imputation round 21/110, elapsed time 1.537\n",
      "[MICE] Starting imputation round 22/110, elapsed time 1.619\n",
      "[MICE] Starting imputation round 23/110, elapsed time 1.705\n",
      "[MICE] Starting imputation round 24/110, elapsed time 1.783\n",
      "[MICE] Starting imputation round 25/110, elapsed time 1.868\n",
      "[MICE] Starting imputation round 26/110, elapsed time 1.946\n",
      "[MICE] Starting imputation round 27/110, elapsed time 2.022\n",
      "[MICE] Starting imputation round 28/110, elapsed time 2.105\n",
      "[MICE] Starting imputation round 29/110, elapsed time 2.184\n",
      "[MICE] Starting imputation round 30/110, elapsed time 2.261\n",
      "[MICE] Starting imputation round 31/110, elapsed time 2.344\n",
      "[MICE] Starting imputation round 32/110, elapsed time 2.422\n",
      "[MICE] Starting imputation round 33/110, elapsed time 2.501\n",
      "[MICE] Starting imputation round 34/110, elapsed time 2.580\n",
      "[MICE] Starting imputation round 35/110, elapsed time 2.654\n",
      "[MICE] Starting imputation round 36/110, elapsed time 2.728\n",
      "[MICE] Starting imputation round 37/110, elapsed time 2.799\n",
      "[MICE] Starting imputation round 38/110, elapsed time 2.876\n",
      "[MICE] Starting imputation round 39/110, elapsed time 2.945\n",
      "[MICE] Starting imputation round 40/110, elapsed time 3.018\n",
      "[MICE] Starting imputation round 41/110, elapsed time 3.095\n",
      "[MICE] Starting imputation round 42/110, elapsed time 3.165\n",
      "[MICE] Starting imputation round 43/110, elapsed time 3.239\n",
      "[MICE] Starting imputation round 44/110, elapsed time 3.326\n",
      "[MICE] Starting imputation round 45/110, elapsed time 3.404\n",
      "[MICE] Starting imputation round 46/110, elapsed time 3.487\n",
      "[MICE] Starting imputation round 47/110, elapsed time 3.562\n",
      "[MICE] Starting imputation round 48/110, elapsed time 3.635\n",
      "[MICE] Starting imputation round 49/110, elapsed time 3.722\n",
      "[MICE] Starting imputation round 50/110, elapsed time 3.809\n",
      "[MICE] Starting imputation round 51/110, elapsed time 3.883\n",
      "[MICE] Starting imputation round 52/110, elapsed time 3.963\n",
      "[MICE] Starting imputation round 53/110, elapsed time 4.039\n",
      "[MICE] Starting imputation round 54/110, elapsed time 4.112\n",
      "[MICE] Starting imputation round 55/110, elapsed time 4.195\n",
      "[MICE] Starting imputation round 56/110, elapsed time 4.312\n",
      "[MICE] Starting imputation round 57/110, elapsed time 4.421\n",
      "[MICE] Starting imputation round 58/110, elapsed time 4.529\n",
      "[MICE] Starting imputation round 59/110, elapsed time 4.609\n",
      "[MICE] Starting imputation round 60/110, elapsed time 4.703\n",
      "[MICE] Starting imputation round 61/110, elapsed time 4.827\n",
      "[MICE] Starting imputation round 62/110, elapsed time 4.937\n",
      "[MICE] Starting imputation round 63/110, elapsed time 5.021\n",
      "[MICE] Starting imputation round 64/110, elapsed time 5.133\n",
      "[MICE] Starting imputation round 65/110, elapsed time 5.243\n",
      "[MICE] Starting imputation round 66/110, elapsed time 5.356\n",
      "[MICE] Starting imputation round 67/110, elapsed time 5.446\n",
      "[MICE] Starting imputation round 68/110, elapsed time 5.562\n",
      "[MICE] Starting imputation round 69/110, elapsed time 5.678\n",
      "[MICE] Starting imputation round 70/110, elapsed time 5.787\n",
      "[MICE] Starting imputation round 71/110, elapsed time 5.878\n",
      "[MICE] Starting imputation round 72/110, elapsed time 5.984\n",
      "[MICE] Starting imputation round 73/110, elapsed time 6.096\n",
      "[MICE] Starting imputation round 74/110, elapsed time 6.196\n",
      "[MICE] Starting imputation round 75/110, elapsed time 6.311\n",
      "[MICE] Starting imputation round 76/110, elapsed time 6.418\n",
      "[MICE] Starting imputation round 77/110, elapsed time 6.511\n",
      "[MICE] Starting imputation round 78/110, elapsed time 6.616\n",
      "[MICE] Starting imputation round 79/110, elapsed time 6.730\n",
      "[MICE] Starting imputation round 80/110, elapsed time 6.838\n",
      "[MICE] Starting imputation round 81/110, elapsed time 6.927\n",
      "[MICE] Starting imputation round 82/110, elapsed time 7.036\n",
      "[MICE] Starting imputation round 83/110, elapsed time 7.154\n",
      "[MICE] Starting imputation round 84/110, elapsed time 7.249\n",
      "[MICE] Starting imputation round 85/110, elapsed time 7.337\n",
      "[MICE] Starting imputation round 86/110, elapsed time 7.450\n",
      "[MICE] Starting imputation round 87/110, elapsed time 7.559\n",
      "[MICE] Starting imputation round 88/110, elapsed time 7.651\n",
      "[MICE] Starting imputation round 89/110, elapsed time 7.730\n",
      "[MICE] Starting imputation round 90/110, elapsed time 7.800\n",
      "[MICE] Starting imputation round 91/110, elapsed time 7.876\n",
      "[MICE] Starting imputation round 92/110, elapsed time 7.961\n",
      "[MICE] Starting imputation round 93/110, elapsed time 8.032\n",
      "[MICE] Starting imputation round 94/110, elapsed time 8.110\n",
      "[MICE] Starting imputation round 95/110, elapsed time 8.183\n",
      "[MICE] Starting imputation round 96/110, elapsed time 8.257\n",
      "[MICE] Starting imputation round 97/110, elapsed time 8.328\n",
      "[MICE] Starting imputation round 98/110, elapsed time 8.407\n",
      "[MICE] Starting imputation round 99/110, elapsed time 8.476\n",
      "[MICE] Starting imputation round 100/110, elapsed time 8.548\n",
      "[MICE] Starting imputation round 101/110, elapsed time 8.626\n",
      "[MICE] Starting imputation round 102/110, elapsed time 8.697\n",
      "[MICE] Starting imputation round 103/110, elapsed time 8.767\n",
      "[MICE] Starting imputation round 104/110, elapsed time 8.844\n",
      "[MICE] Starting imputation round 105/110, elapsed time 8.915\n",
      "[MICE] Starting imputation round 106/110, elapsed time 8.994\n",
      "[MICE] Starting imputation round 107/110, elapsed time 9.075\n",
      "[MICE] Starting imputation round 108/110, elapsed time 9.149\n",
      "[MICE] Starting imputation round 109/110, elapsed time 9.227\n",
      "[MICE] Starting imputation round 110/110, elapsed time 9.309\n"
     ]
    }
   ],
   "source": [
    "# df is my data frame with the missings. I keep only floats\n",
    "df_numeric = train_df[continuous_vars + catagorical_vars].as_matrix()\n",
    " \n",
    "# it returns a np.array which I store as a pandas dataframe\n",
    "imputed_array = MICE().complete(df_numeric)\n"
   ]
  },
  {
   "cell_type": "code",
   "execution_count": 166,
   "metadata": {},
   "outputs": [],
   "source": [
    "df_filled_standardized = preprocessing.scale(imputed_array)"
   ]
  },
  {
   "cell_type": "code",
   "execution_count": 167,
   "metadata": {},
   "outputs": [],
   "source": [
    "# transformed_array = pca.fit_transform(df_filled_standardized)"
   ]
  },
  {
   "cell_type": "code",
   "execution_count": 168,
   "metadata": {},
   "outputs": [],
   "source": [
    "df_filled = pd.DataFrame(df_filled_standardized)"
   ]
  },
  {
   "cell_type": "code",
   "execution_count": 169,
   "metadata": {},
   "outputs": [],
   "source": [
    "df_filled.columns = train_df[continuous_vars + catagorical_vars].columns\n",
    "df_filled.index = train_df[continuous_vars + catagorical_vars].index"
   ]
  },
  {
   "cell_type": "code",
   "execution_count": 33,
   "metadata": {},
   "outputs": [],
   "source": [
    "# df_filled"
   ]
  },
  {
   "cell_type": "code",
   "execution_count": 31,
   "metadata": {},
   "outputs": [],
   "source": [
    "# df_filled.columns"
   ]
  },
  {
   "cell_type": "code",
   "execution_count": 54,
   "metadata": {},
   "outputs": [],
   "source": [
    "# np.isnan(df_numeric).any()"
   ]
  },
  {
   "cell_type": "code",
   "execution_count": 432,
   "metadata": {},
   "outputs": [],
   "source": [
    "# np.isnan(filled).any()"
   ]
  },
  {
   "cell_type": "code",
   "execution_count": 170,
   "metadata": {},
   "outputs": [],
   "source": [
    "train_df_treated = df_filled.copy()"
   ]
  },
  {
   "cell_type": "code",
   "execution_count": 173,
   "metadata": {},
   "outputs": [],
   "source": [
    "train_df_treated['renewal'] = train_df['renewal']\n",
    "train_df_treated['id'] = train_df['id']\n",
    "# train_df_treated['sourcing_channel'] = train_df['sourcing_channel']\n",
    "# train_df_treated['residence_area_type'] = train_df['residence_area_type']"
   ]
  },
  {
   "cell_type": "code",
   "execution_count": 174,
   "metadata": {},
   "outputs": [
    {
     "data": {
      "text/html": [
       "<div>\n",
       "<style scoped>\n",
       "    .dataframe tbody tr th:only-of-type {\n",
       "        vertical-align: middle;\n",
       "    }\n",
       "\n",
       "    .dataframe tbody tr th {\n",
       "        vertical-align: top;\n",
       "    }\n",
       "\n",
       "    .dataframe thead th {\n",
       "        text-align: right;\n",
       "    }\n",
       "</style>\n",
       "<table border=\"1\" class=\"dataframe\">\n",
       "  <thead>\n",
       "    <tr style=\"text-align: right;\">\n",
       "      <th></th>\n",
       "      <th>missing</th>\n",
       "      <th>missing_percent</th>\n",
       "    </tr>\n",
       "  </thead>\n",
       "  <tbody>\n",
       "    <tr>\n",
       "      <th>perc_premium_paid_by_cash_credit</th>\n",
       "      <td>0</td>\n",
       "      <td>0.0</td>\n",
       "    </tr>\n",
       "    <tr>\n",
       "      <th>age_in_days</th>\n",
       "      <td>0</td>\n",
       "      <td>0.0</td>\n",
       "    </tr>\n",
       "    <tr>\n",
       "      <th>Income</th>\n",
       "      <td>0</td>\n",
       "      <td>0.0</td>\n",
       "    </tr>\n",
       "    <tr>\n",
       "      <th>Count_3-6_months_late</th>\n",
       "      <td>0</td>\n",
       "      <td>0.0</td>\n",
       "    </tr>\n",
       "    <tr>\n",
       "      <th>Count_6-12_months_late</th>\n",
       "      <td>0</td>\n",
       "      <td>0.0</td>\n",
       "    </tr>\n",
       "    <tr>\n",
       "      <th>Count_more_than_12_months_late</th>\n",
       "      <td>0</td>\n",
       "      <td>0.0</td>\n",
       "    </tr>\n",
       "    <tr>\n",
       "      <th>application_underwriting_score</th>\n",
       "      <td>0</td>\n",
       "      <td>0.0</td>\n",
       "    </tr>\n",
       "    <tr>\n",
       "      <th>no_of_premiums_paid</th>\n",
       "      <td>0</td>\n",
       "      <td>0.0</td>\n",
       "    </tr>\n",
       "    <tr>\n",
       "      <th>premium</th>\n",
       "      <td>0</td>\n",
       "      <td>0.0</td>\n",
       "    </tr>\n",
       "    <tr>\n",
       "      <th>sourcing_channel</th>\n",
       "      <td>0</td>\n",
       "      <td>0.0</td>\n",
       "    </tr>\n",
       "    <tr>\n",
       "      <th>residence_area_type</th>\n",
       "      <td>0</td>\n",
       "      <td>0.0</td>\n",
       "    </tr>\n",
       "    <tr>\n",
       "      <th>renewal</th>\n",
       "      <td>0</td>\n",
       "      <td>0.0</td>\n",
       "    </tr>\n",
       "    <tr>\n",
       "      <th>id</th>\n",
       "      <td>0</td>\n",
       "      <td>0.0</td>\n",
       "    </tr>\n",
       "  </tbody>\n",
       "</table>\n",
       "</div>"
      ],
      "text/plain": [
       "                                  missing  missing_percent\n",
       "perc_premium_paid_by_cash_credit        0              0.0\n",
       "age_in_days                             0              0.0\n",
       "Income                                  0              0.0\n",
       "Count_3-6_months_late                   0              0.0\n",
       "Count_6-12_months_late                  0              0.0\n",
       "Count_more_than_12_months_late          0              0.0\n",
       "application_underwriting_score          0              0.0\n",
       "no_of_premiums_paid                     0              0.0\n",
       "premium                                 0              0.0\n",
       "sourcing_channel                        0              0.0\n",
       "residence_area_type                     0              0.0\n",
       "renewal                                 0              0.0\n",
       "id                                      0              0.0"
      ]
     },
     "execution_count": 174,
     "metadata": {},
     "output_type": "execute_result"
    }
   ],
   "source": [
    "missing_val_checks = pd.DataFrame({'missing' : train_df_treated.isnull().sum(), 'missing_percent' : (train_df_treated.isnull().sum()/len(train_df_treated))*100})\n",
    "missing_val_checks"
   ]
  },
  {
   "cell_type": "code",
   "execution_count": 175,
   "metadata": {},
   "outputs": [],
   "source": [
    "# considering training set after removing null values\n",
    "train_na_removed_df = train_df_treated.copy()"
   ]
  },
  {
   "cell_type": "code",
   "execution_count": 176,
   "metadata": {},
   "outputs": [
    {
     "data": {
      "text/plain": [
       "79853"
      ]
     },
     "execution_count": 176,
     "metadata": {},
     "output_type": "execute_result"
    }
   ],
   "source": [
    "len(train_df)"
   ]
  },
  {
   "cell_type": "code",
   "execution_count": 177,
   "metadata": {},
   "outputs": [
    {
     "data": {
      "text/plain": [
       "79853"
      ]
     },
     "execution_count": 177,
     "metadata": {},
     "output_type": "execute_result"
    }
   ],
   "source": [
    "len(train_na_removed_df)"
   ]
  },
  {
   "cell_type": "markdown",
   "metadata": {},
   "source": [
    "## Univariate EDA"
   ]
  },
  {
   "cell_type": "code",
   "execution_count": 178,
   "metadata": {},
   "outputs": [
    {
     "data": {
      "text/html": [
       "<div>\n",
       "<style scoped>\n",
       "    .dataframe tbody tr th:only-of-type {\n",
       "        vertical-align: middle;\n",
       "    }\n",
       "\n",
       "    .dataframe tbody tr th {\n",
       "        vertical-align: top;\n",
       "    }\n",
       "\n",
       "    .dataframe thead th {\n",
       "        text-align: right;\n",
       "    }\n",
       "</style>\n",
       "<table border=\"1\" class=\"dataframe\">\n",
       "  <thead>\n",
       "    <tr style=\"text-align: right;\">\n",
       "      <th></th>\n",
       "      <th>age_in_days</th>\n",
       "      <th>Income</th>\n",
       "      <th>Count_3-6_months_late</th>\n",
       "      <th>Count_6-12_months_late</th>\n",
       "      <th>Count_more_than_12_months_late</th>\n",
       "      <th>application_underwriting_score</th>\n",
       "      <th>no_of_premiums_paid</th>\n",
       "      <th>premium</th>\n",
       "      <th>sourcing_channel</th>\n",
       "      <th>residence_area_type</th>\n",
       "      <th>renewal</th>\n",
       "      <th>id</th>\n",
       "    </tr>\n",
       "  </thead>\n",
       "  <tbody>\n",
       "    <tr>\n",
       "      <th>count</th>\n",
       "      <td>7.985300e+04</td>\n",
       "      <td>7.985300e+04</td>\n",
       "      <td>7.985300e+04</td>\n",
       "      <td>7.985300e+04</td>\n",
       "      <td>7.985300e+04</td>\n",
       "      <td>7.985300e+04</td>\n",
       "      <td>7.985300e+04</td>\n",
       "      <td>7.985300e+04</td>\n",
       "      <td>7.985300e+04</td>\n",
       "      <td>7.985300e+04</td>\n",
       "      <td>79853.000000</td>\n",
       "      <td>79853.000000</td>\n",
       "    </tr>\n",
       "    <tr>\n",
       "      <th>mean</th>\n",
       "      <td>-1.783186e-16</td>\n",
       "      <td>-1.957590e-17</td>\n",
       "      <td>-2.378471e-16</td>\n",
       "      <td>-3.416884e-17</td>\n",
       "      <td>-8.568904e-17</td>\n",
       "      <td>7.344745e-12</td>\n",
       "      <td>5.694806e-18</td>\n",
       "      <td>-3.790605e-17</td>\n",
       "      <td>3.274514e-17</td>\n",
       "      <td>-1.032184e-17</td>\n",
       "      <td>0.937410</td>\n",
       "      <td>57167.166368</td>\n",
       "    </tr>\n",
       "    <tr>\n",
       "      <th>std</th>\n",
       "      <td>1.000006e+00</td>\n",
       "      <td>1.000006e+00</td>\n",
       "      <td>1.000006e+00</td>\n",
       "      <td>1.000006e+00</td>\n",
       "      <td>1.000006e+00</td>\n",
       "      <td>1.000006e+00</td>\n",
       "      <td>1.000006e+00</td>\n",
       "      <td>1.000006e+00</td>\n",
       "      <td>1.000006e+00</td>\n",
       "      <td>1.000006e+00</td>\n",
       "      <td>0.242226</td>\n",
       "      <td>32928.970160</td>\n",
       "    </tr>\n",
       "    <tr>\n",
       "      <th>min</th>\n",
       "      <td>-2.145780e+00</td>\n",
       "      <td>-3.721804e-01</td>\n",
       "      <td>-3.598422e-01</td>\n",
       "      <td>-3.274429e-01</td>\n",
       "      <td>-2.721276e-01</td>\n",
       "      <td>-9.847888e+00</td>\n",
       "      <td>-1.714268e+00</td>\n",
       "      <td>-1.034344e+00</td>\n",
       "      <td>-7.820890e-01</td>\n",
       "      <td>-1.233454e+00</td>\n",
       "      <td>0.000000</td>\n",
       "      <td>2.000000</td>\n",
       "    </tr>\n",
       "    <tr>\n",
       "      <th>25%</th>\n",
       "      <td>-7.435074e-01</td>\n",
       "      <td>-2.030635e-01</td>\n",
       "      <td>-3.598422e-01</td>\n",
       "      <td>-1.792500e-01</td>\n",
       "      <td>-1.924691e-01</td>\n",
       "      <td>-3.258161e-01</td>\n",
       "      <td>-7.472723e-01</td>\n",
       "      <td>-5.876124e-01</td>\n",
       "      <td>-7.820890e-01</td>\n",
       "      <td>-1.233454e+00</td>\n",
       "      <td>1.000000</td>\n",
       "      <td>28640.000000</td>\n",
       "    </tr>\n",
       "    <tr>\n",
       "      <th>50%</th>\n",
       "      <td>-4.256292e-02</td>\n",
       "      <td>-8.515690e-02</td>\n",
       "      <td>-3.598422e-01</td>\n",
       "      <td>-1.792500e-01</td>\n",
       "      <td>-1.924691e-01</td>\n",
       "      <td>1.688370e-01</td>\n",
       "      <td>-1.670750e-01</td>\n",
       "      <td>-3.642466e-01</td>\n",
       "      <td>-7.820890e-01</td>\n",
       "      <td>8.107316e-01</td>\n",
       "      <td>1.000000</td>\n",
       "      <td>57262.000000</td>\n",
       "    </tr>\n",
       "    <tr>\n",
       "      <th>75%</th>\n",
       "      <td>7.274969e-01</td>\n",
       "      <td>8.708138e-02</td>\n",
       "      <td>-3.598422e-01</td>\n",
       "      <td>-1.792500e-01</td>\n",
       "      <td>-1.924691e-01</td>\n",
       "      <td>6.222690e-01</td>\n",
       "      <td>6.065214e-01</td>\n",
       "      <td>3.058508e-01</td>\n",
       "      <td>1.118955e+00</td>\n",
       "      <td>8.107316e-01</td>\n",
       "      <td>1.000000</td>\n",
       "      <td>85632.000000</td>\n",
       "    </tr>\n",
       "    <tr>\n",
       "      <th>max</th>\n",
       "      <td>3.600774e+00</td>\n",
       "      <td>1.813481e+02</td>\n",
       "      <td>1.845219e+01</td>\n",
       "      <td>3.878991e+01</td>\n",
       "      <td>3.508280e+01</td>\n",
       "      <td>1.817234e+01</td>\n",
       "      <td>9.502880e+00</td>\n",
       "      <td>5.219899e+00</td>\n",
       "      <td>3.019999e+00</td>\n",
       "      <td>8.107316e-01</td>\n",
       "      <td>1.000000</td>\n",
       "      <td>114076.000000</td>\n",
       "    </tr>\n",
       "  </tbody>\n",
       "</table>\n",
       "</div>"
      ],
      "text/plain": [
       "        age_in_days        Income  Count_3-6_months_late  \\\n",
       "count  7.985300e+04  7.985300e+04           7.985300e+04   \n",
       "mean  -1.783186e-16 -1.957590e-17          -2.378471e-16   \n",
       "std    1.000006e+00  1.000006e+00           1.000006e+00   \n",
       "min   -2.145780e+00 -3.721804e-01          -3.598422e-01   \n",
       "25%   -7.435074e-01 -2.030635e-01          -3.598422e-01   \n",
       "50%   -4.256292e-02 -8.515690e-02          -3.598422e-01   \n",
       "75%    7.274969e-01  8.708138e-02          -3.598422e-01   \n",
       "max    3.600774e+00  1.813481e+02           1.845219e+01   \n",
       "\n",
       "       Count_6-12_months_late  Count_more_than_12_months_late  \\\n",
       "count            7.985300e+04                    7.985300e+04   \n",
       "mean            -3.416884e-17                   -8.568904e-17   \n",
       "std              1.000006e+00                    1.000006e+00   \n",
       "min             -3.274429e-01                   -2.721276e-01   \n",
       "25%             -1.792500e-01                   -1.924691e-01   \n",
       "50%             -1.792500e-01                   -1.924691e-01   \n",
       "75%             -1.792500e-01                   -1.924691e-01   \n",
       "max              3.878991e+01                    3.508280e+01   \n",
       "\n",
       "       application_underwriting_score  no_of_premiums_paid       premium  \\\n",
       "count                    7.985300e+04         7.985300e+04  7.985300e+04   \n",
       "mean                     7.344745e-12         5.694806e-18 -3.790605e-17   \n",
       "std                      1.000006e+00         1.000006e+00  1.000006e+00   \n",
       "min                     -9.847888e+00        -1.714268e+00 -1.034344e+00   \n",
       "25%                     -3.258161e-01        -7.472723e-01 -5.876124e-01   \n",
       "50%                      1.688370e-01        -1.670750e-01 -3.642466e-01   \n",
       "75%                      6.222690e-01         6.065214e-01  3.058508e-01   \n",
       "max                      1.817234e+01         9.502880e+00  5.219899e+00   \n",
       "\n",
       "       sourcing_channel  residence_area_type       renewal             id  \n",
       "count      7.985300e+04         7.985300e+04  79853.000000   79853.000000  \n",
       "mean       3.274514e-17        -1.032184e-17      0.937410   57167.166368  \n",
       "std        1.000006e+00         1.000006e+00      0.242226   32928.970160  \n",
       "min       -7.820890e-01        -1.233454e+00      0.000000       2.000000  \n",
       "25%       -7.820890e-01        -1.233454e+00      1.000000   28640.000000  \n",
       "50%       -7.820890e-01         8.107316e-01      1.000000   57262.000000  \n",
       "75%        1.118955e+00         8.107316e-01      1.000000   85632.000000  \n",
       "max        3.019999e+00         8.107316e-01      1.000000  114076.000000  "
      ]
     },
     "execution_count": 178,
     "metadata": {},
     "output_type": "execute_result"
    }
   ],
   "source": [
    "# univariate analysis for continuous variables\n",
    "train_na_removed_df.iloc[:,1:].describe()"
   ]
  },
  {
   "cell_type": "markdown",
   "metadata": {},
   "source": [
    "## bivariate with response variable"
   ]
  },
  {
   "cell_type": "code",
   "execution_count": 179,
   "metadata": {},
   "outputs": [
    {
     "data": {
      "text/plain": [
       "Index(['age_in_days', 'Income', 'Count_3-6_months_late',\n",
       "       'Count_6-12_months_late', 'Count_more_than_12_months_late',\n",
       "       'application_underwriting_score', 'no_of_premiums_paid', 'premium',\n",
       "       'sourcing_channel', 'residence_area_type', 'renewal', 'id'],\n",
       "      dtype='object')"
      ]
     },
     "execution_count": 179,
     "metadata": {},
     "output_type": "execute_result"
    }
   ],
   "source": [
    "pd.DataFrame(train_na_removed_df.iloc[:,1:].describe()).columns"
   ]
  },
  {
   "cell_type": "code",
   "execution_count": 180,
   "metadata": {},
   "outputs": [],
   "source": [
    "#this function calculates the renewal rate\n",
    "def renewal_rate_continous_var_calc(row):\n",
    "    renewal_rate = float(row['residence_area_type'][1] / float(row['residence_area_type'][0] + row['residence_area_type'][1]))\n",
    "    return renewal_rate"
   ]
  },
  {
   "cell_type": "code",
   "execution_count": 181,
   "metadata": {
    "scrolled": false
   },
   "outputs": [
    {
     "name": "stderr",
     "output_type": "stream",
     "text": [
      "C:\\Users\\prathmesh\\Miniconda3\\envs\\py35tfgpu\\lib\\site-packages\\matplotlib\\figure.py:459: UserWarning: matplotlib is currently using a non-GUI backend, so cannot show the figure\n",
      "  \"matplotlib is currently using a non-GUI backend, \"\n"
     ]
    },
    {
     "data": {
      "image/png": "[encoded data removed]",
      "text/plain": [
       "<Figure size 576x288 with 1 Axes>"
      ]
     },
     "metadata": {},
     "output_type": "display_data"
    },
    {
     "data": {
      "image/png": "[encoded data removed]",
      "text/plain": [
       "<Figure size 576x288 with 1 Axes>"
      ]
     },
     "metadata": {},
     "output_type": "display_data"
    },
    {
     "data": {
      "image/png": "[encoded data removed]",
      "text/plain": [
       "<Figure size 576x288 with 1 Axes>"
      ]
     },
     "metadata": {},
     "output_type": "display_data"
    },
    {
     "data": {
      "image/png": "[encoded data removed]",
      "text/plain": [
       "<Figure size 576x288 with 1 Axes>"
      ]
     },
     "metadata": {},
     "output_type": "display_data"
    },
    {
     "data": {
      "image/png": "[encoded data removed]",
      "text/plain": [
       "<Figure size 576x288 with 1 Axes>"
      ]
     },
     "metadata": {},
     "output_type": "display_data"
    },
    {
     "data": {
      "image/png": "[encoded data removed]",
      "text/plain": [
       "<Figure size 576x288 with 1 Axes>"
      ]
     },
     "metadata": {},
     "output_type": "display_data"
    },
    {
     "data": {
      "image/png": "[encoded data removed]",
      "text/plain": [
       "<Figure size 576x288 with 1 Axes>"
      ]
     },
     "metadata": {},
     "output_type": "display_data"
    },
    {
     "data": {
      "image/png": "[encoded data removed]",
      "text/plain": [
       "<Figure size 576x288 with 1 Axes>"
      ]
     },
     "metadata": {},
     "output_type": "display_data"
    },
    {
     "data": {
      "image/png": "[encoded data removed]",
      "text/plain": [
       "<Figure size 576x288 with 1 Axes>"
      ]
     },
     "metadata": {},
     "output_type": "display_data"
    }
   ],
   "source": [
    "#here we do a bivariate for column vs renewal rate for continuous variables\n",
    "\n",
    "for cols in continuous_vars:\n",
    "    \n",
    "    fig,(ax) = plt.subplots(figsize=(8,4), ncols=1)\n",
    "    \n",
    "    pivot_test = pd.pivot_table(train_na_removed_df,index=(str(cols), 'renewal'), values=('residence_area_type'), aggfunc=len)\n",
    "\n",
    "    pivot_test = pivot_test.unstack()\n",
    "    pivot_test = pivot_test.reset_index()\n",
    "\n",
    "    pivot_test['renewal_rate'] = pivot_test.apply(renewal_rate_continous_var_calc, axis=1)\n",
    "    \n",
    "    x_axis = pivot_test[cols][pivot_test['renewal_rate'].notnull()]\n",
    "    \n",
    "    #plotting line\n",
    "    failure_rate, = ax.plot(x_axis,pivot_test['renewal_rate'][pivot_test['renewal_rate'].notnull()],linewidth = 1, label = 'renewal_rate')\n",
    "\n",
    "    #processing for trendline\n",
    "    z = np.polyfit(x_axis, pivot_test['renewal_rate'][pivot_test['renewal_rate'].notnull()],1)\n",
    "    p = np.poly1d(z)\n",
    "\n",
    "    #plotting trendline\n",
    "    trend_line, = ax.plot(pivot_test[cols][(pivot_test['residence_area_type'][1].notnull()) & (pivot_test['residence_area_type'][0].notnull())],p(pivot_test[cols][(pivot_test['residence_area_type'][1].notnull()) & (pivot_test['residence_area_type'][0].notnull())]),\"r-\", label = 'trend_line')\n",
    "\n",
    "\n",
    "    plt.xlabel(cols)\n",
    "    plt.ylabel('renewal_rate')\n",
    "\n",
    "    plt.xlim(xmin = 0)\n",
    "    \n",
    "    ax.legend([failure_rate, trend_line], ['renewal_rate', 'trend_line'])\n",
    "    fig.tight_layout()\n",
    "    fig.show()"
   ]
  },
  {
   "cell_type": "markdown",
   "metadata": {},
   "source": [
    "*** Considerable variation in renewal rate is observed across continuous variables ***"
   ]
  },
  {
   "cell_type": "code",
   "execution_count": 182,
   "metadata": {},
   "outputs": [],
   "source": [
    "#this function calculates the renewal rate\n",
    "def renewal_rate_categorical_var_calc(row):\n",
    "    renewal_rate = float(row['id'][1] / float(row['id'][0] + row['id'][1]))\n",
    "    return renewal_rate"
   ]
  },
  {
   "cell_type": "code",
   "execution_count": 183,
   "metadata": {},
   "outputs": [
    {
     "data": {
      "image/png": "[encoded data removed]",
      "text/plain": [
       "<Figure size 864x288 with 1 Axes>"
      ]
     },
     "metadata": {},
     "output_type": "display_data"
    },
    {
     "data": {
      "image/png": "[encoded data removed]",
      "text/plain": [
       "<Figure size 864x288 with 1 Axes>"
      ]
     },
     "metadata": {},
     "output_type": "display_data"
    }
   ],
   "source": [
    "#here we do a bivariate for column vs renewal rate for catagorical variables\n",
    "for cols in catagorical_vars:\n",
    "    fig,(ax) = plt.subplots(figsize=(12,4), ncols=1)\n",
    "    \n",
    "    pivot_test = pd.pivot_table(train_na_removed_df,index=(str(cols), 'renewal'), values=('id'), aggfunc=len)\n",
    "\n",
    "    pivot_test = pivot_test.unstack()\n",
    "    pivot_test = pivot_test.reset_index()\n",
    "\n",
    "    pivot_test['renewal_rate'] = pivot_test.apply(renewal_rate_categorical_var_calc, axis=1)\n",
    "    pivot_test['renewal_rate'].plot(kind='bar')\n",
    "    plt.legend([failure_rate], ['renewal_rate'])\n",
    "    plt.xlabel(str(cols) + ' categories')\n",
    "    plt.ylabel('renewal_rate')\n",
    "    plt.xticks(np.array(pivot_test.index),pivot_test[str(cols)])"
   ]
  },
  {
   "cell_type": "markdown",
   "metadata": {},
   "source": [
    "*** Not much variation in renewal rate is observed across catagorical variables ***"
   ]
  },
  {
   "cell_type": "markdown",
   "metadata": {},
   "source": [
    "*** From the bivariate analysis we can assume that the catagorical variables do not contribute to much variation in the response variable (renewal) ***"
   ]
  },
  {
   "cell_type": "markdown",
   "metadata": {},
   "source": [
    "## Building model with only continuous variable"
   ]
  },
  {
   "cell_type": "code",
   "execution_count": 184,
   "metadata": {},
   "outputs": [
    {
     "data": {
      "text/plain": [
       "1    74855\n",
       "0     4998\n",
       "Name: renewal, dtype: int64"
      ]
     },
     "execution_count": 184,
     "metadata": {},
     "output_type": "execute_result"
    }
   ],
   "source": [
    "# checking for balance in class\n",
    "train_na_removed_df['renewal'].value_counts()"
   ]
  },
  {
   "cell_type": "code",
   "execution_count": 185,
   "metadata": {},
   "outputs": [
    {
     "data": {
      "text/plain": [
       "0.937409990858202"
      ]
     },
     "execution_count": 185,
     "metadata": {},
     "output_type": "execute_result"
    }
   ],
   "source": [
    "# calculating class weight\n",
    "weight_for_0 = train_na_removed_df['renewal'].sum() / len(train_na_removed_df['renewal'])\n",
    "weight_for_0"
   ]
  },
  {
   "cell_type": "markdown",
   "metadata": {},
   "source": [
    "## Logistic clf"
   ]
  },
  {
   "cell_type": "code",
   "execution_count": 186,
   "metadata": {},
   "outputs": [],
   "source": [
    "from sklearn.linear_model import LogisticRegression\n",
    "clf = LogisticRegression(class_weight='balanced')"
   ]
  },
  {
   "cell_type": "code",
   "execution_count": 189,
   "metadata": {},
   "outputs": [],
   "source": [
    "model = clf.fit(train_df_treated[continuous_vars + catagorical_vars], train_df_treated['renewal'])"
   ]
  },
  {
   "cell_type": "code",
   "execution_count": 190,
   "metadata": {},
   "outputs": [
    {
     "data": {
      "text/plain": [
       "LogisticRegression(C=1.0, class_weight='balanced', dual=False,\n",
       "          fit_intercept=True, intercept_scaling=1, max_iter=100,\n",
       "          multi_class='ovr', n_jobs=1, penalty='l2', random_state=None,\n",
       "          solver='liblinear', tol=0.0001, verbose=0, warm_start=False)"
      ]
     },
     "execution_count": 190,
     "metadata": {},
     "output_type": "execute_result"
    }
   ],
   "source": [
    "model"
   ]
  },
  {
   "cell_type": "markdown",
   "metadata": {},
   "source": [
    "## XGB clf"
   ]
  },
  {
   "cell_type": "code",
   "execution_count": 135,
   "metadata": {},
   "outputs": [],
   "source": [
    "import xgboost as xgb\n",
    "from xgboost import XGBClassifier\n",
    "from sklearn import metrics   \n",
    "from sklearn.grid_search import GridSearchCV"
   ]
  },
  {
   "cell_type": "code",
   "execution_count": 136,
   "metadata": {},
   "outputs": [],
   "source": [
    "def modelfit(alg, dtrain, predictors, useTrainCV=True, cv_folds=5, early_stopping_rounds=50):\n",
    "    \n",
    "    if useTrainCV:\n",
    "        xgb_param = alg.get_xgb_params()\n",
    "        xgtrain = xgb.DMatrix(dtrain[predictors].values, label=dtrain[\"renewal\"].values)\n",
    "        cvresult = xgb.cv(xgb_param, xgtrain, num_boost_round=alg.get_params()['n_estimators'], nfold=cv_folds,\n",
    "            metrics='auc', early_stopping_rounds=early_stopping_rounds)\n",
    "        alg.set_params(n_estimators=cvresult.shape[0])\n",
    "    \n",
    "    #Fit the algorithm on the data\n",
    "    alg.fit(dtrain[predictors], dtrain[\"renewal\"],eval_metric='auc')\n",
    "        \n",
    "    #Predict training set:\n",
    "    dtrain_predictions = alg.predict(dtrain[predictors])\n",
    "    dtrain_predprob = alg.predict_proba(dtrain[predictors])[:,1]\n",
    "        \n",
    "    #Print model report:\n",
    "    print (\"\\Report\")\n",
    "    print (\"AUC Score (Train): %f\" % metrics.roc_auc_score(dtrain[\"renewal\"], dtrain_predprob))\n",
    "                    \n",
    "    feat_imp = pd.Series(alg.booster().get_fscore()).sort_values(ascending=False)\n",
    "    feat_imp.plot(kind='bar', title='Feature Importances')\n",
    "    plt.ylabel('Feature Importance Score')"
   ]
  },
  {
   "cell_type": "code",
   "execution_count": 137,
   "metadata": {},
   "outputs": [
    {
     "data": {
      "text/plain": [
       "Index([0, 1, 'renewal', 'id'], dtype='object')"
      ]
     },
     "execution_count": 137,
     "metadata": {},
     "output_type": "execute_result"
    }
   ],
   "source": [
    "train_df_treated.columns"
   ]
  },
  {
   "cell_type": "code",
   "execution_count": 139,
   "metadata": {},
   "outputs": [
    {
     "name": "stdout",
     "output_type": "stream",
     "text": [
      "\\Report\n",
      "AUC Score (Train): 0.839919\n"
     ]
    },
    {
     "name": "stderr",
     "output_type": "stream",
     "text": [
      "C:\\Users\\prathmesh\\Miniconda3\\envs\\py35tfgpu\\lib\\site-packages\\sklearn\\preprocessing\\label.py:151: DeprecationWarning: The truth value of an empty array is ambiguous. Returning False, but in future this will result in an error. Use `array.size > 0` to check that an array is not empty.\n",
      "  if diff:\n"
     ]
    },
    {
     "data": {
      "image/png": "[encoded data removed]",
      "text/plain": [
       "<Figure size 432x288 with 1 Axes>"
      ]
     },
     "metadata": {},
     "output_type": "display_data"
    }
   ],
   "source": [
    "xgb1 = XGBClassifier(learning_rate =0.1, n_estimators=1000, max_depth=5, min_child_weight=1, gamma=0, subsample=0.8, colsample_bytree=0.8, objective= 'binary:logistic', nthread=4, scale_pos_weight=(1 - weight_for_0),seed=27)\n",
    "# mean(cross_val_score(xgb1, X_train_scaled, y, cv=kfold, scoring='roc_auc', early_stopping_rounds=50))\n",
    "modelfit(xgb1, train_df_treated, [0,1])"
   ]
  },
  {
   "cell_type": "markdown",
   "metadata": {},
   "source": [
    "## Model predict"
   ]
  },
  {
   "cell_type": "code",
   "execution_count": 594,
   "metadata": {},
   "outputs": [
    {
     "data": {
      "text/plain": [
       "id                                     0\n",
       "perc_premium_paid_by_cash_credit       0\n",
       "age_in_days                            0\n",
       "Income                                 0\n",
       "Count_3-6_months_late                 31\n",
       "Count_6-12_months_late                31\n",
       "Count_more_than_12_months_late        31\n",
       "application_underwriting_score      1323\n",
       "no_of_premiums_paid                    0\n",
       "sourcing_channel                       0\n",
       "residence_area_type                    0\n",
       "premium                                0\n",
       "dtype: int64"
      ]
     },
     "execution_count": 594,
     "metadata": {},
     "output_type": "execute_result"
    }
   ],
   "source": [
    "test_df.isnull().sum()"
   ]
  },
  {
   "cell_type": "code",
   "execution_count": 595,
   "metadata": {},
   "outputs": [],
   "source": [
    "test_df['sourcing_channel'] = test_df[['sourcing_channel']].apply(LabelEncoder().fit_transform)\n",
    "test_df['residence_area_type'] = test_df[['residence_area_type']].apply(LabelEncoder().fit_transform)"
   ]
  },
  {
   "cell_type": "code",
   "execution_count": 596,
   "metadata": {},
   "outputs": [
    {
     "name": "stdout",
     "output_type": "stream",
     "text": [
      "[MICE] Completing matrix with shape (34224, 11)\n",
      "[MICE] Starting imputation round 1/110, elapsed time 0.005\n",
      "[MICE] Starting imputation round 2/110, elapsed time 0.045\n",
      "[MICE] Starting imputation round 3/110, elapsed time 0.079\n",
      "[MICE] Starting imputation round 4/110, elapsed time 0.114\n",
      "[MICE] Starting imputation round 5/110, elapsed time 0.145\n",
      "[MICE] Starting imputation round 6/110, elapsed time 0.175\n",
      "[MICE] Starting imputation round 7/110, elapsed time 0.206\n",
      "[MICE] Starting imputation round 8/110, elapsed time 0.243\n",
      "[MICE] Starting imputation round 9/110, elapsed time 0.277\n",
      "[MICE] Starting imputation round 10/110, elapsed time 0.309\n",
      "[MICE] Starting imputation round 11/110, elapsed time 0.339\n",
      "[MICE] Starting imputation round 12/110, elapsed time 0.369\n",
      "[MICE] Starting imputation round 13/110, elapsed time 0.400\n",
      "[MICE] Starting imputation round 14/110, elapsed time 0.437\n",
      "[MICE] Starting imputation round 15/110, elapsed time 0.468\n",
      "[MICE] Starting imputation round 16/110, elapsed time 0.500\n",
      "[MICE] Starting imputation round 17/110, elapsed time 0.532\n",
      "[MICE] Starting imputation round 18/110, elapsed time 0.563\n",
      "[MICE] Starting imputation round 19/110, elapsed time 0.598\n",
      "[MICE] Starting imputation round 20/110, elapsed time 0.636\n",
      "[MICE] Starting imputation round 21/110, elapsed time 0.669\n",
      "[MICE] Starting imputation round 22/110, elapsed time 0.701\n",
      "[MICE] Starting imputation round 23/110, elapsed time 0.734\n",
      "[MICE] Starting imputation round 24/110, elapsed time 0.767\n",
      "[MICE] Starting imputation round 25/110, elapsed time 0.797\n",
      "[MICE] Starting imputation round 26/110, elapsed time 0.833\n",
      "[MICE] Starting imputation round 27/110, elapsed time 0.871\n",
      "[MICE] Starting imputation round 28/110, elapsed time 0.905\n",
      "[MICE] Starting imputation round 29/110, elapsed time 0.936\n",
      "[MICE] Starting imputation round 30/110, elapsed time 0.966\n",
      "[MICE] Starting imputation round 31/110, elapsed time 0.996\n",
      "[MICE] Starting imputation round 32/110, elapsed time 1.037\n",
      "[MICE] Starting imputation round 33/110, elapsed time 1.068\n",
      "[MICE] Starting imputation round 34/110, elapsed time 1.105\n",
      "[MICE] Starting imputation round 35/110, elapsed time 1.139\n",
      "[MICE] Starting imputation round 36/110, elapsed time 1.171\n",
      "[MICE] Starting imputation round 37/110, elapsed time 1.202\n",
      "[MICE] Starting imputation round 38/110, elapsed time 1.237\n",
      "[MICE] Starting imputation round 39/110, elapsed time 1.270\n",
      "[MICE] Starting imputation round 40/110, elapsed time 1.300\n",
      "[MICE] Starting imputation round 41/110, elapsed time 1.339\n",
      "[MICE] Starting imputation round 42/110, elapsed time 1.371\n",
      "[MICE] Starting imputation round 43/110, elapsed time 1.401\n",
      "[MICE] Starting imputation round 44/110, elapsed time 1.431\n",
      "[MICE] Starting imputation round 45/110, elapsed time 1.462\n",
      "[MICE] Starting imputation round 46/110, elapsed time 1.492\n",
      "[MICE] Starting imputation round 47/110, elapsed time 1.526\n",
      "[MICE] Starting imputation round 48/110, elapsed time 1.562\n",
      "[MICE] Starting imputation round 49/110, elapsed time 1.594\n",
      "[MICE] Starting imputation round 50/110, elapsed time 1.634\n",
      "[MICE] Starting imputation round 51/110, elapsed time 1.666\n",
      "[MICE] Starting imputation round 52/110, elapsed time 1.698\n",
      "[MICE] Starting imputation round 53/110, elapsed time 1.728\n",
      "[MICE] Starting imputation round 54/110, elapsed time 1.762\n",
      "[MICE] Starting imputation round 55/110, elapsed time 1.797\n",
      "[MICE] Starting imputation round 56/110, elapsed time 1.829\n",
      "[MICE] Starting imputation round 57/110, elapsed time 1.860\n",
      "[MICE] Starting imputation round 58/110, elapsed time 1.890\n",
      "[MICE] Starting imputation round 59/110, elapsed time 1.921\n",
      "[MICE] Starting imputation round 60/110, elapsed time 1.952\n",
      "[MICE] Starting imputation round 61/110, elapsed time 1.988\n",
      "[MICE] Starting imputation round 62/110, elapsed time 2.023\n",
      "[MICE] Starting imputation round 63/110, elapsed time 2.052\n",
      "[MICE] Starting imputation round 64/110, elapsed time 2.083\n",
      "[MICE] Starting imputation round 65/110, elapsed time 2.114\n",
      "[MICE] Starting imputation round 66/110, elapsed time 2.145\n",
      "[MICE] Starting imputation round 67/110, elapsed time 2.179\n",
      "[MICE] Starting imputation round 68/110, elapsed time 2.216\n",
      "[MICE] Starting imputation round 69/110, elapsed time 2.250\n",
      "[MICE] Starting imputation round 70/110, elapsed time 2.282\n",
      "[MICE] Starting imputation round 71/110, elapsed time 2.314\n",
      "[MICE] Starting imputation round 72/110, elapsed time 2.345\n",
      "[MICE] Starting imputation round 73/110, elapsed time 2.376\n",
      "[MICE] Starting imputation round 74/110, elapsed time 2.406\n",
      "[MICE] Starting imputation round 75/110, elapsed time 2.444\n",
      "[MICE] Starting imputation round 76/110, elapsed time 2.474\n",
      "[MICE] Starting imputation round 77/110, elapsed time 2.504\n",
      "[MICE] Starting imputation round 78/110, elapsed time 2.538\n",
      "[MICE] Starting imputation round 79/110, elapsed time 2.567\n",
      "[MICE] Starting imputation round 80/110, elapsed time 2.597\n",
      "[MICE] Starting imputation round 81/110, elapsed time 2.627\n",
      "[MICE] Starting imputation round 82/110, elapsed time 2.658\n",
      "[MICE] Starting imputation round 83/110, elapsed time 2.693\n",
      "[MICE] Starting imputation round 84/110, elapsed time 2.725\n",
      "[MICE] Starting imputation round 85/110, elapsed time 2.755\n",
      "[MICE] Starting imputation round 86/110, elapsed time 2.788\n",
      "[MICE] Starting imputation round 87/110, elapsed time 2.817\n",
      "[MICE] Starting imputation round 88/110, elapsed time 2.847\n",
      "[MICE] Starting imputation round 89/110, elapsed time 2.884\n",
      "[MICE] Starting imputation round 90/110, elapsed time 2.916\n",
      "[MICE] Starting imputation round 91/110, elapsed time 2.946\n",
      "[MICE] Starting imputation round 92/110, elapsed time 2.976\n",
      "[MICE] Starting imputation round 93/110, elapsed time 3.006\n",
      "[MICE] Starting imputation round 94/110, elapsed time 3.040\n",
      "[MICE] Starting imputation round 95/110, elapsed time 3.070\n",
      "[MICE] Starting imputation round 96/110, elapsed time 3.107\n",
      "[MICE] Starting imputation round 97/110, elapsed time 3.138\n",
      "[MICE] Starting imputation round 98/110, elapsed time 3.169\n",
      "[MICE] Starting imputation round 99/110, elapsed time 3.200\n",
      "[MICE] Starting imputation round 100/110, elapsed time 3.235\n",
      "[MICE] Starting imputation round 101/110, elapsed time 3.267\n",
      "[MICE] Starting imputation round 102/110, elapsed time 3.304\n",
      "[MICE] Starting imputation round 103/110, elapsed time 3.335\n",
      "[MICE] Starting imputation round 104/110, elapsed time 3.365\n",
      "[MICE] Starting imputation round 105/110, elapsed time 3.395\n",
      "[MICE] Starting imputation round 106/110, elapsed time 3.425\n",
      "[MICE] Starting imputation round 107/110, elapsed time 3.456\n",
      "[MICE] Starting imputation round 108/110, elapsed time 3.485\n",
      "[MICE] Starting imputation round 109/110, elapsed time 3.519\n",
      "[MICE] Starting imputation round 110/110, elapsed time 3.556\n"
     ]
    }
   ],
   "source": [
    "# df is my data frame with the missings. I keep only floats\n",
    "df_numeric = test_df[continuous_vars + catagorical_vars].as_matrix()\n",
    "\n",
    "# I now run fancyimpute KNN, \n",
    "# it returns a np.array which I store as a pandas dataframe\n",
    "imputed_array = MICE().complete(df_numeric)\n",
    "df_standarized_filled = preprocessing.scale(imputed_array)\n",
    "df_filled = pd.DataFrame(df_standarized_filled)\n",
    "df_filled.columns = test_df[continuous_vars + catagorical_vars].columns\n",
    "df_filled.index = test_df[continuous_vars + catagorical_vars].index"
   ]
  },
  {
   "cell_type": "code",
   "execution_count": 597,
   "metadata": {},
   "outputs": [],
   "source": [
    "test_df_treated = df_filled.copy()"
   ]
  },
  {
   "cell_type": "code",
   "execution_count": 598,
   "metadata": {},
   "outputs": [],
   "source": [
    "test_df_treated['id'] = test_df['id']\n",
    "test_df_treated['sourcing_channel'] = test_df['sourcing_channel']\n",
    "test_df_treated['residence_area_type'] = test_df['residence_area_type']"
   ]
  },
  {
   "cell_type": "code",
   "execution_count": 599,
   "metadata": {},
   "outputs": [],
   "source": [
    "test_df = test_df_treated.copy()"
   ]
  },
  {
   "cell_type": "code",
   "execution_count": 600,
   "metadata": {},
   "outputs": [],
   "source": [
    "predicted_vals = xgb1.predict_proba(test_df[continuous_vars + catagorical_vars])"
   ]
  },
  {
   "cell_type": "code",
   "execution_count": 601,
   "metadata": {},
   "outputs": [],
   "source": [
    "probs = pd.DataFrame(predicted_vals)"
   ]
  },
  {
   "cell_type": "code",
   "execution_count": 602,
   "metadata": {},
   "outputs": [],
   "source": [
    "renewal_for_policy = pd.DataFrame({'id' : test_df['id'], 'renewal':probs[1]})"
   ]
  },
  {
   "cell_type": "code",
   "execution_count": 603,
   "metadata": {},
   "outputs": [
    {
     "data": {
      "text/html": [
       "<div>\n",
       "<style scoped>\n",
       "    .dataframe tbody tr th:only-of-type {\n",
       "        vertical-align: middle;\n",
       "    }\n",
       "\n",
       "    .dataframe tbody tr th {\n",
       "        vertical-align: top;\n",
       "    }\n",
       "\n",
       "    .dataframe thead th {\n",
       "        text-align: right;\n",
       "    }\n",
       "</style>\n",
       "<table border=\"1\" class=\"dataframe\">\n",
       "  <thead>\n",
       "    <tr style=\"text-align: right;\">\n",
       "      <th></th>\n",
       "      <th>id</th>\n",
       "      <th>renewal</th>\n",
       "    </tr>\n",
       "  </thead>\n",
       "  <tbody>\n",
       "    <tr>\n",
       "      <th>0</th>\n",
       "      <td>649</td>\n",
       "      <td>0.901418</td>\n",
       "    </tr>\n",
       "    <tr>\n",
       "      <th>1</th>\n",
       "      <td>81136</td>\n",
       "      <td>0.783971</td>\n",
       "    </tr>\n",
       "  </tbody>\n",
       "</table>\n",
       "</div>"
      ],
      "text/plain": [
       "      id   renewal\n",
       "0    649  0.901418\n",
       "1  81136  0.783971"
      ]
     },
     "execution_count": 603,
     "metadata": {},
     "output_type": "execute_result"
    }
   ],
   "source": [
    "renewal_for_policy.head(2)"
   ]
  },
  {
   "cell_type": "markdown",
   "metadata": {},
   "source": [
    "## Calculate incentives"
   ]
  },
  {
   "cell_type": "code",
   "execution_count": 604,
   "metadata": {},
   "outputs": [],
   "source": [
    "def calc_agent_efforts(row):\n",
    "    return  20*(1-np.exp(-row/5))"
   ]
  },
  {
   "cell_type": "code",
   "execution_count": 605,
   "metadata": {},
   "outputs": [],
   "source": [
    "def calc_incentives(row):\n",
    "    return 10*(1-np.exp(-row/400))"
   ]
  },
  {
   "cell_type": "code",
   "execution_count": 606,
   "metadata": {},
   "outputs": [],
   "source": [
    "renewal_for_policy['improvement_in_probability'] = renewal_for_policy[['renewal']]"
   ]
  },
  {
   "cell_type": "code",
   "execution_count": 607,
   "metadata": {},
   "outputs": [],
   "source": [
    "renewal_for_policy['agent_efforts'] = renewal_for_policy[['improvement_in_probability']].apply(calc_agent_efforts)"
   ]
  },
  {
   "cell_type": "code",
   "execution_count": 608,
   "metadata": {},
   "outputs": [],
   "source": [
    "renewal_for_policy['incentives'] = renewal_for_policy[['agent_efforts']].apply(calc_incentives)"
   ]
  },
  {
   "cell_type": "code",
   "execution_count": 609,
   "metadata": {},
   "outputs": [
    {
     "data": {
      "text/html": [
       "<div>\n",
       "<style scoped>\n",
       "    .dataframe tbody tr th:only-of-type {\n",
       "        vertical-align: middle;\n",
       "    }\n",
       "\n",
       "    .dataframe tbody tr th {\n",
       "        vertical-align: top;\n",
       "    }\n",
       "\n",
       "    .dataframe thead th {\n",
       "        text-align: right;\n",
       "    }\n",
       "</style>\n",
       "<table border=\"1\" class=\"dataframe\">\n",
       "  <thead>\n",
       "    <tr style=\"text-align: right;\">\n",
       "      <th></th>\n",
       "      <th>id</th>\n",
       "      <th>renewal</th>\n",
       "      <th>improvement_in_probability</th>\n",
       "      <th>agent_efforts</th>\n",
       "      <th>incentives</th>\n",
       "    </tr>\n",
       "  </thead>\n",
       "  <tbody>\n",
       "    <tr>\n",
       "      <th>0</th>\n",
       "      <td>649</td>\n",
       "      <td>0.901418</td>\n",
       "      <td>0.901418</td>\n",
       "      <td>3.299333</td>\n",
       "      <td>0.082144</td>\n",
       "    </tr>\n",
       "    <tr>\n",
       "      <th>1</th>\n",
       "      <td>81136</td>\n",
       "      <td>0.783971</td>\n",
       "      <td>0.783971</td>\n",
       "      <td>2.902400</td>\n",
       "      <td>0.072297</td>\n",
       "    </tr>\n",
       "    <tr>\n",
       "      <th>2</th>\n",
       "      <td>70762</td>\n",
       "      <td>0.309283</td>\n",
       "      <td>0.309283</td>\n",
       "      <td>1.199646</td>\n",
       "      <td>0.029946</td>\n",
       "    </tr>\n",
       "    <tr>\n",
       "      <th>3</th>\n",
       "      <td>53935</td>\n",
       "      <td>0.690554</td>\n",
       "      <td>0.690554</td>\n",
       "      <td>2.579956</td>\n",
       "      <td>0.064291</td>\n",
       "    </tr>\n",
       "    <tr>\n",
       "      <th>4</th>\n",
       "      <td>15476</td>\n",
       "      <td>0.735247</td>\n",
       "      <td>0.735247</td>\n",
       "      <td>2.734975</td>\n",
       "      <td>0.068141</td>\n",
       "    </tr>\n",
       "  </tbody>\n",
       "</table>\n",
       "</div>"
      ],
      "text/plain": [
       "      id   renewal  improvement_in_probability  agent_efforts  incentives\n",
       "0    649  0.901418                    0.901418       3.299333    0.082144\n",
       "1  81136  0.783971                    0.783971       2.902400    0.072297\n",
       "2  70762  0.309283                    0.309283       1.199646    0.029946\n",
       "3  53935  0.690554                    0.690554       2.579956    0.064291\n",
       "4  15476  0.735247                    0.735247       2.734975    0.068141"
      ]
     },
     "execution_count": 609,
     "metadata": {},
     "output_type": "execute_result"
    }
   ],
   "source": [
    "renewal_for_policy.head()"
   ]
  },
  {
   "cell_type": "code",
   "execution_count": 610,
   "metadata": {},
   "outputs": [],
   "source": [
    "renewal_for_policy_final = pd.DataFrame({'id' : test_df['id'], 'renewal':probs[1], 'incentives' : (test_df_orig['premium'] * renewal_for_policy['incentives'])})"
   ]
  },
  {
   "cell_type": "code",
   "execution_count": 611,
   "metadata": {},
   "outputs": [
    {
     "data": {
      "text/html": [
       "<div>\n",
       "<style scoped>\n",
       "    .dataframe tbody tr th:only-of-type {\n",
       "        vertical-align: middle;\n",
       "    }\n",
       "\n",
       "    .dataframe tbody tr th {\n",
       "        vertical-align: top;\n",
       "    }\n",
       "\n",
       "    .dataframe thead th {\n",
       "        text-align: right;\n",
       "    }\n",
       "</style>\n",
       "<table border=\"1\" class=\"dataframe\">\n",
       "  <thead>\n",
       "    <tr style=\"text-align: right;\">\n",
       "      <th></th>\n",
       "      <th>id</th>\n",
       "      <th>incentives</th>\n",
       "      <th>renewal</th>\n",
       "    </tr>\n",
       "  </thead>\n",
       "  <tbody>\n",
       "    <tr>\n",
       "      <th>0</th>\n",
       "      <td>649</td>\n",
       "      <td>271.075666</td>\n",
       "      <td>0.901418</td>\n",
       "    </tr>\n",
       "    <tr>\n",
       "      <th>1</th>\n",
       "      <td>81136</td>\n",
       "      <td>845.880210</td>\n",
       "      <td>0.783971</td>\n",
       "    </tr>\n",
       "    <tr>\n",
       "      <th>2</th>\n",
       "      <td>70762</td>\n",
       "      <td>350.367844</td>\n",
       "      <td>0.309283</td>\n",
       "    </tr>\n",
       "    <tr>\n",
       "      <th>3</th>\n",
       "      <td>53935</td>\n",
       "      <td>347.173333</td>\n",
       "      <td>0.690554</td>\n",
       "    </tr>\n",
       "    <tr>\n",
       "      <th>4</th>\n",
       "      <td>15476</td>\n",
       "      <td>654.155731</td>\n",
       "      <td>0.735247</td>\n",
       "    </tr>\n",
       "  </tbody>\n",
       "</table>\n",
       "</div>"
      ],
      "text/plain": [
       "      id  incentives   renewal\n",
       "0    649  271.075666  0.901418\n",
       "1  81136  845.880210  0.783971\n",
       "2  70762  350.367844  0.309283\n",
       "3  53935  347.173333  0.690554\n",
       "4  15476  654.155731  0.735247"
      ]
     },
     "execution_count": 611,
     "metadata": {},
     "output_type": "execute_result"
    }
   ],
   "source": [
    "renewal_for_policy_final.head()"
   ]
  },
  {
   "cell_type": "code",
   "execution_count": 612,
   "metadata": {},
   "outputs": [],
   "source": [
    "renewal_for_policy_final.to_csv('renewal_of_policy_xgb_with_imputation_mice_catagorical_vars_included_standarized.csv', index=False)"
   ]
  }
 ],
 "metadata": {
  "kernelspec": {
   "display_name": "Python 3",
   "language": "python",
   "name": "python3"
  },
  "language_info": {
   "codemirror_mode": {
    "name": "ipython",
    "version": 3
   },
   "file_extension": ".py",
   "mimetype": "text/x-python",
   "name": "python",
   "nbconvert_exporter": "python",
   "pygments_lexer": "ipython3",
   "version": "3.5.0"
  },
  "widgets": {
   "state": {},
   "version": "1.1.2"
  }
 },
 "nbformat": 4,
 "nbformat_minor": 2
}

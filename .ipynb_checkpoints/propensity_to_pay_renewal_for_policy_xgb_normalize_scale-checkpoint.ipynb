{
 "cells": [
  {
   "cell_type": "code",
   "execution_count": 1,
   "metadata": {},
   "outputs": [],
   "source": [
    "import pandas as pd\n",
    "import numpy as np\n",
    "import matplotlib.pyplot as plt"
   ]
  },
  {
   "cell_type": "code",
   "execution_count": 2,
   "metadata": {},
   "outputs": [],
   "source": [
    "from sklearn.preprocessing import LabelEncoder"
   ]
  },
  {
   "cell_type": "code",
   "execution_count": 3,
   "metadata": {},
   "outputs": [],
   "source": [
    "from sklearn import preprocessing"
   ]
  },
  {
   "cell_type": "code",
   "execution_count": 4,
   "metadata": {},
   "outputs": [],
   "source": [
    "import seaborn as sns"
   ]
  },
  {
   "cell_type": "code",
   "execution_count": 5,
   "metadata": {},
   "outputs": [],
   "source": [
    "# read train and test files\n",
    "train_df = pd.read_csv(\"train_ZoGVYWq.csv\")\n",
    "test_df = pd.read_csv(\"test_66516Ee.csv\")"
   ]
  },
  {
   "cell_type": "code",
   "execution_count": 6,
   "metadata": {},
   "outputs": [],
   "source": [
    "test_df_orig = test_df.copy()"
   ]
  },
  {
   "cell_type": "code",
   "execution_count": 7,
   "metadata": {},
   "outputs": [
    {
     "data": {
      "text/html": [
       "<div>\n",
       "<style scoped>\n",
       "    .dataframe tbody tr th:only-of-type {\n",
       "        vertical-align: middle;\n",
       "    }\n",
       "\n",
       "    .dataframe tbody tr th {\n",
       "        vertical-align: top;\n",
       "    }\n",
       "\n",
       "    .dataframe thead th {\n",
       "        text-align: right;\n",
       "    }\n",
       "</style>\n",
       "<table border=\"1\" class=\"dataframe\">\n",
       "  <thead>\n",
       "    <tr style=\"text-align: right;\">\n",
       "      <th></th>\n",
       "      <th>id</th>\n",
       "      <th>perc_premium_paid_by_cash_credit</th>\n",
       "      <th>age_in_days</th>\n",
       "      <th>Income</th>\n",
       "      <th>Count_3-6_months_late</th>\n",
       "      <th>Count_6-12_months_late</th>\n",
       "      <th>Count_more_than_12_months_late</th>\n",
       "      <th>application_underwriting_score</th>\n",
       "      <th>no_of_premiums_paid</th>\n",
       "      <th>sourcing_channel</th>\n",
       "      <th>residence_area_type</th>\n",
       "      <th>premium</th>\n",
       "      <th>renewal</th>\n",
       "    </tr>\n",
       "  </thead>\n",
       "  <tbody>\n",
       "    <tr>\n",
       "      <th>0</th>\n",
       "      <td>110936</td>\n",
       "      <td>0.429</td>\n",
       "      <td>12058</td>\n",
       "      <td>355060</td>\n",
       "      <td>0.0</td>\n",
       "      <td>0.0</td>\n",
       "      <td>0.0</td>\n",
       "      <td>99.02</td>\n",
       "      <td>13</td>\n",
       "      <td>C</td>\n",
       "      <td>Urban</td>\n",
       "      <td>3300</td>\n",
       "      <td>1</td>\n",
       "    </tr>\n",
       "    <tr>\n",
       "      <th>1</th>\n",
       "      <td>41492</td>\n",
       "      <td>0.010</td>\n",
       "      <td>21546</td>\n",
       "      <td>315150</td>\n",
       "      <td>0.0</td>\n",
       "      <td>0.0</td>\n",
       "      <td>0.0</td>\n",
       "      <td>99.89</td>\n",
       "      <td>21</td>\n",
       "      <td>A</td>\n",
       "      <td>Urban</td>\n",
       "      <td>18000</td>\n",
       "      <td>1</td>\n",
       "    </tr>\n",
       "    <tr>\n",
       "      <th>2</th>\n",
       "      <td>31300</td>\n",
       "      <td>0.917</td>\n",
       "      <td>17531</td>\n",
       "      <td>84140</td>\n",
       "      <td>2.0</td>\n",
       "      <td>3.0</td>\n",
       "      <td>1.0</td>\n",
       "      <td>98.69</td>\n",
       "      <td>7</td>\n",
       "      <td>C</td>\n",
       "      <td>Rural</td>\n",
       "      <td>3300</td>\n",
       "      <td>0</td>\n",
       "    </tr>\n",
       "    <tr>\n",
       "      <th>3</th>\n",
       "      <td>19415</td>\n",
       "      <td>0.049</td>\n",
       "      <td>15341</td>\n",
       "      <td>250510</td>\n",
       "      <td>0.0</td>\n",
       "      <td>0.0</td>\n",
       "      <td>0.0</td>\n",
       "      <td>99.57</td>\n",
       "      <td>9</td>\n",
       "      <td>A</td>\n",
       "      <td>Urban</td>\n",
       "      <td>9600</td>\n",
       "      <td>1</td>\n",
       "    </tr>\n",
       "    <tr>\n",
       "      <th>4</th>\n",
       "      <td>99379</td>\n",
       "      <td>0.052</td>\n",
       "      <td>31400</td>\n",
       "      <td>198680</td>\n",
       "      <td>0.0</td>\n",
       "      <td>0.0</td>\n",
       "      <td>0.0</td>\n",
       "      <td>99.87</td>\n",
       "      <td>12</td>\n",
       "      <td>B</td>\n",
       "      <td>Urban</td>\n",
       "      <td>9600</td>\n",
       "      <td>1</td>\n",
       "    </tr>\n",
       "  </tbody>\n",
       "</table>\n",
       "</div>"
      ],
      "text/plain": [
       "       id  perc_premium_paid_by_cash_credit  age_in_days  Income  \\\n",
       "0  110936                             0.429        12058  355060   \n",
       "1   41492                             0.010        21546  315150   \n",
       "2   31300                             0.917        17531   84140   \n",
       "3   19415                             0.049        15341  250510   \n",
       "4   99379                             0.052        31400  198680   \n",
       "\n",
       "   Count_3-6_months_late  Count_6-12_months_late  \\\n",
       "0                    0.0                     0.0   \n",
       "1                    0.0                     0.0   \n",
       "2                    2.0                     3.0   \n",
       "3                    0.0                     0.0   \n",
       "4                    0.0                     0.0   \n",
       "\n",
       "   Count_more_than_12_months_late  application_underwriting_score  \\\n",
       "0                             0.0                           99.02   \n",
       "1                             0.0                           99.89   \n",
       "2                             1.0                           98.69   \n",
       "3                             0.0                           99.57   \n",
       "4                             0.0                           99.87   \n",
       "\n",
       "   no_of_premiums_paid sourcing_channel residence_area_type  premium  renewal  \n",
       "0                   13                C               Urban     3300        1  \n",
       "1                   21                A               Urban    18000        1  \n",
       "2                    7                C               Rural     3300        0  \n",
       "3                    9                A               Urban     9600        1  \n",
       "4                   12                B               Urban     9600        1  "
      ]
     },
     "execution_count": 7,
     "metadata": {},
     "output_type": "execute_result"
    }
   ],
   "source": [
    "train_df.head()"
   ]
  },
  {
   "cell_type": "code",
   "execution_count": 8,
   "metadata": {},
   "outputs": [
    {
     "data": {
      "text/plain": [
       "Index(['id', 'perc_premium_paid_by_cash_credit', 'age_in_days', 'Income',\n",
       "       'Count_3-6_months_late', 'Count_6-12_months_late',\n",
       "       'Count_more_than_12_months_late', 'application_underwriting_score',\n",
       "       'no_of_premiums_paid', 'sourcing_channel', 'residence_area_type',\n",
       "       'premium', 'renewal'],\n",
       "      dtype='object')"
      ]
     },
     "execution_count": 8,
     "metadata": {},
     "output_type": "execute_result"
    }
   ],
   "source": [
    "train_df.columns"
   ]
  },
  {
   "cell_type": "code",
   "execution_count": 9,
   "metadata": {},
   "outputs": [],
   "source": [
    "continuous_vars = ['perc_premium_paid_by_cash_credit', 'age_in_days', 'Income',\n",
    "       'Count_3-6_months_late', 'Count_6-12_months_late',\n",
    "       'Count_more_than_12_months_late', 'application_underwriting_score',\n",
    "       'no_of_premiums_paid',\n",
    "       'premium']"
   ]
  },
  {
   "cell_type": "code",
   "execution_count": 10,
   "metadata": {},
   "outputs": [],
   "source": [
    "catagorical_vars = ['sourcing_channel', 'residence_area_type']"
   ]
  },
  {
   "cell_type": "code",
   "execution_count": 11,
   "metadata": {},
   "outputs": [
    {
     "data": {
      "text/plain": [
       "A    43134\n",
       "B    16512\n",
       "C    12039\n",
       "D     7559\n",
       "E      609\n",
       "Name: sourcing_channel, dtype: int64"
      ]
     },
     "execution_count": 11,
     "metadata": {},
     "output_type": "execute_result"
    }
   ],
   "source": [
    "train_df['sourcing_channel'].value_counts()"
   ]
  },
  {
   "cell_type": "code",
   "execution_count": 12,
   "metadata": {},
   "outputs": [
    {
     "data": {
      "text/plain": [
       "Urban    48183\n",
       "Rural    31670\n",
       "Name: residence_area_type, dtype: int64"
      ]
     },
     "execution_count": 12,
     "metadata": {},
     "output_type": "execute_result"
    }
   ],
   "source": [
    "train_df['residence_area_type'].value_counts()"
   ]
  },
  {
   "cell_type": "code",
   "execution_count": 13,
   "metadata": {},
   "outputs": [],
   "source": [
    "# labelling catagorical variables"
   ]
  },
  {
   "cell_type": "code",
   "execution_count": 14,
   "metadata": {},
   "outputs": [],
   "source": [
    "train_df['sourcing_channel'] = train_df[['sourcing_channel']].apply(LabelEncoder().fit_transform)"
   ]
  },
  {
   "cell_type": "code",
   "execution_count": 15,
   "metadata": {},
   "outputs": [],
   "source": [
    "train_df['residence_area_type'] = train_df[['residence_area_type']].apply(LabelEncoder().fit_transform)"
   ]
  },
  {
   "cell_type": "code",
   "execution_count": 16,
   "metadata": {},
   "outputs": [
    {
     "data": {
      "text/html": [
       "<div>\n",
       "<style scoped>\n",
       "    .dataframe tbody tr th:only-of-type {\n",
       "        vertical-align: middle;\n",
       "    }\n",
       "\n",
       "    .dataframe tbody tr th {\n",
       "        vertical-align: top;\n",
       "    }\n",
       "\n",
       "    .dataframe thead th {\n",
       "        text-align: right;\n",
       "    }\n",
       "</style>\n",
       "<table border=\"1\" class=\"dataframe\">\n",
       "  <thead>\n",
       "    <tr style=\"text-align: right;\">\n",
       "      <th></th>\n",
       "      <th>id</th>\n",
       "      <th>perc_premium_paid_by_cash_credit</th>\n",
       "      <th>age_in_days</th>\n",
       "      <th>Income</th>\n",
       "      <th>Count_3-6_months_late</th>\n",
       "      <th>Count_6-12_months_late</th>\n",
       "      <th>Count_more_than_12_months_late</th>\n",
       "      <th>application_underwriting_score</th>\n",
       "      <th>no_of_premiums_paid</th>\n",
       "      <th>sourcing_channel</th>\n",
       "      <th>residence_area_type</th>\n",
       "      <th>premium</th>\n",
       "      <th>renewal</th>\n",
       "    </tr>\n",
       "  </thead>\n",
       "  <tbody>\n",
       "    <tr>\n",
       "      <th>0</th>\n",
       "      <td>110936</td>\n",
       "      <td>0.429</td>\n",
       "      <td>12058</td>\n",
       "      <td>355060</td>\n",
       "      <td>0.0</td>\n",
       "      <td>0.0</td>\n",
       "      <td>0.0</td>\n",
       "      <td>99.02</td>\n",
       "      <td>13</td>\n",
       "      <td>2</td>\n",
       "      <td>1</td>\n",
       "      <td>3300</td>\n",
       "      <td>1</td>\n",
       "    </tr>\n",
       "    <tr>\n",
       "      <th>1</th>\n",
       "      <td>41492</td>\n",
       "      <td>0.010</td>\n",
       "      <td>21546</td>\n",
       "      <td>315150</td>\n",
       "      <td>0.0</td>\n",
       "      <td>0.0</td>\n",
       "      <td>0.0</td>\n",
       "      <td>99.89</td>\n",
       "      <td>21</td>\n",
       "      <td>0</td>\n",
       "      <td>1</td>\n",
       "      <td>18000</td>\n",
       "      <td>1</td>\n",
       "    </tr>\n",
       "    <tr>\n",
       "      <th>2</th>\n",
       "      <td>31300</td>\n",
       "      <td>0.917</td>\n",
       "      <td>17531</td>\n",
       "      <td>84140</td>\n",
       "      <td>2.0</td>\n",
       "      <td>3.0</td>\n",
       "      <td>1.0</td>\n",
       "      <td>98.69</td>\n",
       "      <td>7</td>\n",
       "      <td>2</td>\n",
       "      <td>0</td>\n",
       "      <td>3300</td>\n",
       "      <td>0</td>\n",
       "    </tr>\n",
       "    <tr>\n",
       "      <th>3</th>\n",
       "      <td>19415</td>\n",
       "      <td>0.049</td>\n",
       "      <td>15341</td>\n",
       "      <td>250510</td>\n",
       "      <td>0.0</td>\n",
       "      <td>0.0</td>\n",
       "      <td>0.0</td>\n",
       "      <td>99.57</td>\n",
       "      <td>9</td>\n",
       "      <td>0</td>\n",
       "      <td>1</td>\n",
       "      <td>9600</td>\n",
       "      <td>1</td>\n",
       "    </tr>\n",
       "    <tr>\n",
       "      <th>4</th>\n",
       "      <td>99379</td>\n",
       "      <td>0.052</td>\n",
       "      <td>31400</td>\n",
       "      <td>198680</td>\n",
       "      <td>0.0</td>\n",
       "      <td>0.0</td>\n",
       "      <td>0.0</td>\n",
       "      <td>99.87</td>\n",
       "      <td>12</td>\n",
       "      <td>1</td>\n",
       "      <td>1</td>\n",
       "      <td>9600</td>\n",
       "      <td>1</td>\n",
       "    </tr>\n",
       "  </tbody>\n",
       "</table>\n",
       "</div>"
      ],
      "text/plain": [
       "       id  perc_premium_paid_by_cash_credit  age_in_days  Income  \\\n",
       "0  110936                             0.429        12058  355060   \n",
       "1   41492                             0.010        21546  315150   \n",
       "2   31300                             0.917        17531   84140   \n",
       "3   19415                             0.049        15341  250510   \n",
       "4   99379                             0.052        31400  198680   \n",
       "\n",
       "   Count_3-6_months_late  Count_6-12_months_late  \\\n",
       "0                    0.0                     0.0   \n",
       "1                    0.0                     0.0   \n",
       "2                    2.0                     3.0   \n",
       "3                    0.0                     0.0   \n",
       "4                    0.0                     0.0   \n",
       "\n",
       "   Count_more_than_12_months_late  application_underwriting_score  \\\n",
       "0                             0.0                           99.02   \n",
       "1                             0.0                           99.89   \n",
       "2                             1.0                           98.69   \n",
       "3                             0.0                           99.57   \n",
       "4                             0.0                           99.87   \n",
       "\n",
       "   no_of_premiums_paid  sourcing_channel  residence_area_type  premium  \\\n",
       "0                   13                 2                    1     3300   \n",
       "1                   21                 0                    1    18000   \n",
       "2                    7                 2                    0     3300   \n",
       "3                    9                 0                    1     9600   \n",
       "4                   12                 1                    1     9600   \n",
       "\n",
       "   renewal  \n",
       "0        1  \n",
       "1        1  \n",
       "2        0  \n",
       "3        1  \n",
       "4        1  "
      ]
     },
     "execution_count": 16,
     "metadata": {},
     "output_type": "execute_result"
    }
   ],
   "source": [
    "train_df.head()"
   ]
  },
  {
   "cell_type": "markdown",
   "metadata": {},
   "source": [
    "## data sanctity checks"
   ]
  },
  {
   "cell_type": "code",
   "execution_count": 17,
   "metadata": {},
   "outputs": [
    {
     "data": {
      "text/html": [
       "<div>\n",
       "<style scoped>\n",
       "    .dataframe tbody tr th:only-of-type {\n",
       "        vertical-align: middle;\n",
       "    }\n",
       "\n",
       "    .dataframe tbody tr th {\n",
       "        vertical-align: top;\n",
       "    }\n",
       "\n",
       "    .dataframe thead th {\n",
       "        text-align: right;\n",
       "    }\n",
       "</style>\n",
       "<table border=\"1\" class=\"dataframe\">\n",
       "  <thead>\n",
       "    <tr style=\"text-align: right;\">\n",
       "      <th></th>\n",
       "      <th>missing</th>\n",
       "      <th>missing_percent</th>\n",
       "    </tr>\n",
       "  </thead>\n",
       "  <tbody>\n",
       "    <tr>\n",
       "      <th>id</th>\n",
       "      <td>0</td>\n",
       "      <td>0.000000</td>\n",
       "    </tr>\n",
       "    <tr>\n",
       "      <th>perc_premium_paid_by_cash_credit</th>\n",
       "      <td>0</td>\n",
       "      <td>0.000000</td>\n",
       "    </tr>\n",
       "    <tr>\n",
       "      <th>age_in_days</th>\n",
       "      <td>0</td>\n",
       "      <td>0.000000</td>\n",
       "    </tr>\n",
       "    <tr>\n",
       "      <th>Income</th>\n",
       "      <td>0</td>\n",
       "      <td>0.000000</td>\n",
       "    </tr>\n",
       "    <tr>\n",
       "      <th>Count_3-6_months_late</th>\n",
       "      <td>97</td>\n",
       "      <td>0.121473</td>\n",
       "    </tr>\n",
       "    <tr>\n",
       "      <th>Count_6-12_months_late</th>\n",
       "      <td>97</td>\n",
       "      <td>0.121473</td>\n",
       "    </tr>\n",
       "    <tr>\n",
       "      <th>Count_more_than_12_months_late</th>\n",
       "      <td>97</td>\n",
       "      <td>0.121473</td>\n",
       "    </tr>\n",
       "    <tr>\n",
       "      <th>application_underwriting_score</th>\n",
       "      <td>2974</td>\n",
       "      <td>3.724343</td>\n",
       "    </tr>\n",
       "    <tr>\n",
       "      <th>no_of_premiums_paid</th>\n",
       "      <td>0</td>\n",
       "      <td>0.000000</td>\n",
       "    </tr>\n",
       "    <tr>\n",
       "      <th>sourcing_channel</th>\n",
       "      <td>0</td>\n",
       "      <td>0.000000</td>\n",
       "    </tr>\n",
       "    <tr>\n",
       "      <th>residence_area_type</th>\n",
       "      <td>0</td>\n",
       "      <td>0.000000</td>\n",
       "    </tr>\n",
       "    <tr>\n",
       "      <th>premium</th>\n",
       "      <td>0</td>\n",
       "      <td>0.000000</td>\n",
       "    </tr>\n",
       "    <tr>\n",
       "      <th>renewal</th>\n",
       "      <td>0</td>\n",
       "      <td>0.000000</td>\n",
       "    </tr>\n",
       "  </tbody>\n",
       "</table>\n",
       "</div>"
      ],
      "text/plain": [
       "                                  missing  missing_percent\n",
       "id                                      0         0.000000\n",
       "perc_premium_paid_by_cash_credit        0         0.000000\n",
       "age_in_days                             0         0.000000\n",
       "Income                                  0         0.000000\n",
       "Count_3-6_months_late                  97         0.121473\n",
       "Count_6-12_months_late                 97         0.121473\n",
       "Count_more_than_12_months_late         97         0.121473\n",
       "application_underwriting_score       2974         3.724343\n",
       "no_of_premiums_paid                     0         0.000000\n",
       "sourcing_channel                        0         0.000000\n",
       "residence_area_type                     0         0.000000\n",
       "premium                                 0         0.000000\n",
       "renewal                                 0         0.000000"
      ]
     },
     "execution_count": 17,
     "metadata": {},
     "output_type": "execute_result"
    }
   ],
   "source": [
    "missing_val_checks = pd.DataFrame({'missing' : train_df.isnull().sum(), 'missing_percent' : (train_df.isnull().sum()/len(train_df))*100})\n",
    "missing_val_checks"
   ]
  },
  {
   "cell_type": "markdown",
   "metadata": {},
   "source": [
    "# treating missing values"
   ]
  },
  {
   "cell_type": "code",
   "execution_count": 18,
   "metadata": {},
   "outputs": [
    {
     "name": "stderr",
     "output_type": "stream",
     "text": [
      "C:\\Users\\prathmesh\\Miniconda3\\envs\\py35tfgpu\\lib\\site-packages\\h5py\\__init__.py:36: FutureWarning: Conversion of the second argument of issubdtype from `float` to `np.floating` is deprecated. In future, it will be treated as `np.float64 == np.dtype(float).type`.\n",
      "  from ._conv import register_converters as _register_converters\n",
      "Using TensorFlow backend.\n"
     ]
    }
   ],
   "source": [
    "from fancyimpute import MICE"
   ]
  },
  {
   "cell_type": "code",
   "execution_count": 20,
   "metadata": {},
   "outputs": [],
   "source": [
    "# df_numeric"
   ]
  },
  {
   "cell_type": "code",
   "execution_count": 19,
   "metadata": {},
   "outputs": [
    {
     "name": "stdout",
     "output_type": "stream",
     "text": [
      "[MICE] Completing matrix with shape (79853, 9)\n",
      "[MICE] Starting imputation round 1/110, elapsed time 0.010\n",
      "[MICE] Starting imputation round 2/110, elapsed time 0.075\n",
      "[MICE] Starting imputation round 3/110, elapsed time 0.133\n",
      "[MICE] Starting imputation round 4/110, elapsed time 0.191\n",
      "[MICE] Starting imputation round 5/110, elapsed time 0.260\n",
      "[MICE] Starting imputation round 6/110, elapsed time 0.319\n",
      "[MICE] Starting imputation round 7/110, elapsed time 0.376\n",
      "[MICE] Starting imputation round 8/110, elapsed time 0.442\n",
      "[MICE] Starting imputation round 9/110, elapsed time 0.500\n",
      "[MICE] Starting imputation round 10/110, elapsed time 0.557\n",
      "[MICE] Starting imputation round 11/110, elapsed time 0.613\n",
      "[MICE] Starting imputation round 12/110, elapsed time 0.678\n",
      "[MICE] Starting imputation round 13/110, elapsed time 0.748\n",
      "[MICE] Starting imputation round 14/110, elapsed time 0.807\n",
      "[MICE] Starting imputation round 15/110, elapsed time 0.867\n",
      "[MICE] Starting imputation round 16/110, elapsed time 0.931\n",
      "[MICE] Starting imputation round 17/110, elapsed time 0.986\n",
      "[MICE] Starting imputation round 18/110, elapsed time 1.049\n",
      "[MICE] Starting imputation round 19/110, elapsed time 1.121\n",
      "[MICE] Starting imputation round 20/110, elapsed time 1.178\n",
      "[MICE] Starting imputation round 21/110, elapsed time 1.238\n",
      "[MICE] Starting imputation round 22/110, elapsed time 1.304\n",
      "[MICE] Starting imputation round 23/110, elapsed time 1.363\n",
      "[MICE] Starting imputation round 24/110, elapsed time 1.420\n",
      "[MICE] Starting imputation round 25/110, elapsed time 1.483\n",
      "[MICE] Starting imputation round 26/110, elapsed time 1.548\n",
      "[MICE] Starting imputation round 27/110, elapsed time 1.605\n",
      "[MICE] Starting imputation round 28/110, elapsed time 1.663\n",
      "[MICE] Starting imputation round 29/110, elapsed time 1.727\n",
      "[MICE] Starting imputation round 30/110, elapsed time 1.794\n",
      "[MICE] Starting imputation round 31/110, elapsed time 1.853\n",
      "[MICE] Starting imputation round 32/110, elapsed time 1.909\n",
      "[MICE] Starting imputation round 33/110, elapsed time 1.975\n",
      "[MICE] Starting imputation round 34/110, elapsed time 2.039\n",
      "[MICE] Starting imputation round 35/110, elapsed time 2.100\n",
      "[MICE] Starting imputation round 36/110, elapsed time 2.161\n",
      "[MICE] Starting imputation round 37/110, elapsed time 2.235\n",
      "[MICE] Starting imputation round 38/110, elapsed time 2.318\n",
      "[MICE] Starting imputation round 39/110, elapsed time 2.387\n",
      "[MICE] Starting imputation round 40/110, elapsed time 2.451\n",
      "[MICE] Starting imputation round 41/110, elapsed time 2.513\n",
      "[MICE] Starting imputation round 42/110, elapsed time 2.580\n",
      "[MICE] Starting imputation round 43/110, elapsed time 2.647\n",
      "[MICE] Starting imputation round 44/110, elapsed time 2.720\n",
      "[MICE] Starting imputation round 45/110, elapsed time 2.801\n",
      "[MICE] Starting imputation round 46/110, elapsed time 2.863\n",
      "[MICE] Starting imputation round 47/110, elapsed time 2.921\n",
      "[MICE] Starting imputation round 48/110, elapsed time 2.988\n",
      "[MICE] Starting imputation round 49/110, elapsed time 3.056\n",
      "[MICE] Starting imputation round 50/110, elapsed time 3.119\n",
      "[MICE] Starting imputation round 51/110, elapsed time 3.193\n",
      "[MICE] Starting imputation round 52/110, elapsed time 3.264\n",
      "[MICE] Starting imputation round 53/110, elapsed time 3.324\n",
      "[MICE] Starting imputation round 54/110, elapsed time 3.394\n",
      "[MICE] Starting imputation round 55/110, elapsed time 3.464\n",
      "[MICE] Starting imputation round 56/110, elapsed time 3.540\n",
      "[MICE] Starting imputation round 57/110, elapsed time 3.606\n",
      "[MICE] Starting imputation round 58/110, elapsed time 3.676\n",
      "[MICE] Starting imputation round 59/110, elapsed time 3.738\n",
      "[MICE] Starting imputation round 60/110, elapsed time 3.799\n",
      "[MICE] Starting imputation round 61/110, elapsed time 3.873\n",
      "[MICE] Starting imputation round 62/110, elapsed time 3.945\n",
      "[MICE] Starting imputation round 63/110, elapsed time 4.007\n",
      "[MICE] Starting imputation round 64/110, elapsed time 4.069\n",
      "[MICE] Starting imputation round 65/110, elapsed time 4.138\n",
      "[MICE] Starting imputation round 66/110, elapsed time 4.197\n",
      "[MICE] Starting imputation round 67/110, elapsed time 4.255\n",
      "[MICE] Starting imputation round 68/110, elapsed time 4.311\n",
      "[MICE] Starting imputation round 69/110, elapsed time 4.374\n",
      "[MICE] Starting imputation round 70/110, elapsed time 4.434\n",
      "[MICE] Starting imputation round 71/110, elapsed time 4.499\n",
      "[MICE] Starting imputation round 72/110, elapsed time 4.560\n",
      "[MICE] Starting imputation round 73/110, elapsed time 4.629\n",
      "[MICE] Starting imputation round 74/110, elapsed time 4.687\n",
      "[MICE] Starting imputation round 75/110, elapsed time 4.747\n",
      "[MICE] Starting imputation round 76/110, elapsed time 4.804\n",
      "[MICE] Starting imputation round 77/110, elapsed time 4.868\n",
      "[MICE] Starting imputation round 78/110, elapsed time 4.937\n",
      "[MICE] Starting imputation round 79/110, elapsed time 4.993\n",
      "[MICE] Starting imputation round 80/110, elapsed time 5.051\n",
      "[MICE] Starting imputation round 81/110, elapsed time 5.115\n",
      "[MICE] Starting imputation round 82/110, elapsed time 5.173\n",
      "[MICE] Starting imputation round 83/110, elapsed time 5.230\n",
      "[MICE] Starting imputation round 84/110, elapsed time 5.289\n",
      "[MICE] Starting imputation round 85/110, elapsed time 5.358\n",
      "[MICE] Starting imputation round 86/110, elapsed time 5.423\n",
      "[MICE] Starting imputation round 87/110, elapsed time 5.481\n",
      "[MICE] Starting imputation round 88/110, elapsed time 5.538\n",
      "[MICE] Starting imputation round 89/110, elapsed time 5.600\n",
      "[MICE] Starting imputation round 90/110, elapsed time 5.664\n",
      "[MICE] Starting imputation round 91/110, elapsed time 5.730\n",
      "[MICE] Starting imputation round 92/110, elapsed time 5.790\n",
      "[MICE] Starting imputation round 93/110, elapsed time 5.855\n",
      "[MICE] Starting imputation round 94/110, elapsed time 5.923\n",
      "[MICE] Starting imputation round 95/110, elapsed time 5.985\n",
      "[MICE] Starting imputation round 96/110, elapsed time 6.051\n",
      "[MICE] Starting imputation round 97/110, elapsed time 6.111\n",
      "[MICE] Starting imputation round 98/110, elapsed time 6.175\n",
      "[MICE] Starting imputation round 99/110, elapsed time 6.243\n",
      "[MICE] Starting imputation round 100/110, elapsed time 6.301\n",
      "[MICE] Starting imputation round 101/110, elapsed time 6.364\n",
      "[MICE] Starting imputation round 102/110, elapsed time 6.422\n",
      "[MICE] Starting imputation round 103/110, elapsed time 6.490\n",
      "[MICE] Starting imputation round 104/110, elapsed time 6.561\n",
      "[MICE] Starting imputation round 105/110, elapsed time 6.621\n",
      "[MICE] Starting imputation round 106/110, elapsed time 6.680\n",
      "[MICE] Starting imputation round 107/110, elapsed time 6.751\n",
      "[MICE] Starting imputation round 108/110, elapsed time 6.811\n",
      "[MICE] Starting imputation round 109/110, elapsed time 6.866\n",
      "[MICE] Starting imputation round 110/110, elapsed time 6.924\n"
     ]
    }
   ],
   "source": [
    "# df is my data frame with the missings. I keep only floats\n",
    "df_numeric = train_df[continuous_vars].as_matrix()\n",
    " \n",
    "# it returns a np.array which I store as a pandas dataframe\n",
    "imputed_array = MICE().complete(df_numeric)\n"
   ]
  },
  {
   "cell_type": "code",
   "execution_count": 20,
   "metadata": {},
   "outputs": [],
   "source": [
    "# df_filled_standardized = preprocessing.scale(imputed_array)"
   ]
  },
  {
   "cell_type": "code",
   "execution_count": 20,
   "metadata": {},
   "outputs": [],
   "source": [
    "df_filled = pd.DataFrame(imputed_array)"
   ]
  },
  {
   "cell_type": "code",
   "execution_count": 21,
   "metadata": {},
   "outputs": [],
   "source": [
    "df_filled.columns = train_df[continuous_vars].columns\n",
    "df_filled.index = train_df[continuous_vars].index"
   ]
  },
  {
   "cell_type": "code",
   "execution_count": 22,
   "metadata": {},
   "outputs": [],
   "source": [
    "train_df_treated = df_filled.copy()"
   ]
  },
  {
   "cell_type": "code",
   "execution_count": 23,
   "metadata": {},
   "outputs": [],
   "source": [
    "train_df_treated['renewal'] = train_df['renewal']\n",
    "train_df_treated['id'] = train_df['id']\n",
    "train_df_treated['sourcing_channel'] = train_df['sourcing_channel']\n",
    "train_df_treated['residence_area_type'] = train_df['residence_area_type']"
   ]
  },
  {
   "cell_type": "code",
   "execution_count": 24,
   "metadata": {},
   "outputs": [
    {
     "data": {
      "text/html": [
       "<div>\n",
       "<style scoped>\n",
       "    .dataframe tbody tr th:only-of-type {\n",
       "        vertical-align: middle;\n",
       "    }\n",
       "\n",
       "    .dataframe tbody tr th {\n",
       "        vertical-align: top;\n",
       "    }\n",
       "\n",
       "    .dataframe thead th {\n",
       "        text-align: right;\n",
       "    }\n",
       "</style>\n",
       "<table border=\"1\" class=\"dataframe\">\n",
       "  <thead>\n",
       "    <tr style=\"text-align: right;\">\n",
       "      <th></th>\n",
       "      <th>missing</th>\n",
       "      <th>missing_percent</th>\n",
       "    </tr>\n",
       "  </thead>\n",
       "  <tbody>\n",
       "    <tr>\n",
       "      <th>perc_premium_paid_by_cash_credit</th>\n",
       "      <td>0</td>\n",
       "      <td>0.0</td>\n",
       "    </tr>\n",
       "    <tr>\n",
       "      <th>age_in_days</th>\n",
       "      <td>0</td>\n",
       "      <td>0.0</td>\n",
       "    </tr>\n",
       "    <tr>\n",
       "      <th>Income</th>\n",
       "      <td>0</td>\n",
       "      <td>0.0</td>\n",
       "    </tr>\n",
       "    <tr>\n",
       "      <th>Count_3-6_months_late</th>\n",
       "      <td>0</td>\n",
       "      <td>0.0</td>\n",
       "    </tr>\n",
       "    <tr>\n",
       "      <th>Count_6-12_months_late</th>\n",
       "      <td>0</td>\n",
       "      <td>0.0</td>\n",
       "    </tr>\n",
       "    <tr>\n",
       "      <th>Count_more_than_12_months_late</th>\n",
       "      <td>0</td>\n",
       "      <td>0.0</td>\n",
       "    </tr>\n",
       "    <tr>\n",
       "      <th>application_underwriting_score</th>\n",
       "      <td>0</td>\n",
       "      <td>0.0</td>\n",
       "    </tr>\n",
       "    <tr>\n",
       "      <th>no_of_premiums_paid</th>\n",
       "      <td>0</td>\n",
       "      <td>0.0</td>\n",
       "    </tr>\n",
       "    <tr>\n",
       "      <th>premium</th>\n",
       "      <td>0</td>\n",
       "      <td>0.0</td>\n",
       "    </tr>\n",
       "    <tr>\n",
       "      <th>renewal</th>\n",
       "      <td>0</td>\n",
       "      <td>0.0</td>\n",
       "    </tr>\n",
       "    <tr>\n",
       "      <th>id</th>\n",
       "      <td>0</td>\n",
       "      <td>0.0</td>\n",
       "    </tr>\n",
       "    <tr>\n",
       "      <th>sourcing_channel</th>\n",
       "      <td>0</td>\n",
       "      <td>0.0</td>\n",
       "    </tr>\n",
       "    <tr>\n",
       "      <th>residence_area_type</th>\n",
       "      <td>0</td>\n",
       "      <td>0.0</td>\n",
       "    </tr>\n",
       "  </tbody>\n",
       "</table>\n",
       "</div>"
      ],
      "text/plain": [
       "                                  missing  missing_percent\n",
       "perc_premium_paid_by_cash_credit        0              0.0\n",
       "age_in_days                             0              0.0\n",
       "Income                                  0              0.0\n",
       "Count_3-6_months_late                   0              0.0\n",
       "Count_6-12_months_late                  0              0.0\n",
       "Count_more_than_12_months_late          0              0.0\n",
       "application_underwriting_score          0              0.0\n",
       "no_of_premiums_paid                     0              0.0\n",
       "premium                                 0              0.0\n",
       "renewal                                 0              0.0\n",
       "id                                      0              0.0\n",
       "sourcing_channel                        0              0.0\n",
       "residence_area_type                     0              0.0"
      ]
     },
     "execution_count": 24,
     "metadata": {},
     "output_type": "execute_result"
    }
   ],
   "source": [
    "missing_val_checks = pd.DataFrame({'missing' : train_df_treated.isnull().sum(), 'missing_percent' : (train_df_treated.isnull().sum()/len(train_df_treated))*100})\n",
    "missing_val_checks"
   ]
  },
  {
   "cell_type": "code",
   "execution_count": 25,
   "metadata": {},
   "outputs": [],
   "source": [
    "# considering training set after removing null values\n",
    "train_na_removed_df = train_df_treated.copy()"
   ]
  },
  {
   "cell_type": "code",
   "execution_count": 26,
   "metadata": {},
   "outputs": [
    {
     "data": {
      "text/plain": [
       "79853"
      ]
     },
     "execution_count": 26,
     "metadata": {},
     "output_type": "execute_result"
    }
   ],
   "source": [
    "len(train_df)"
   ]
  },
  {
   "cell_type": "code",
   "execution_count": 27,
   "metadata": {},
   "outputs": [
    {
     "data": {
      "text/plain": [
       "79853"
      ]
     },
     "execution_count": 27,
     "metadata": {},
     "output_type": "execute_result"
    }
   ],
   "source": [
    "len(train_na_removed_df)"
   ]
  },
  {
   "cell_type": "markdown",
   "metadata": {},
   "source": [
    "## Univariate EDA"
   ]
  },
  {
   "cell_type": "code",
   "execution_count": 28,
   "metadata": {},
   "outputs": [
    {
     "data": {
      "text/html": [
       "<div>\n",
       "<style scoped>\n",
       "    .dataframe tbody tr th:only-of-type {\n",
       "        vertical-align: middle;\n",
       "    }\n",
       "\n",
       "    .dataframe tbody tr th {\n",
       "        vertical-align: top;\n",
       "    }\n",
       "\n",
       "    .dataframe thead th {\n",
       "        text-align: right;\n",
       "    }\n",
       "</style>\n",
       "<table border=\"1\" class=\"dataframe\">\n",
       "  <thead>\n",
       "    <tr style=\"text-align: right;\">\n",
       "      <th></th>\n",
       "      <th>age_in_days</th>\n",
       "      <th>Income</th>\n",
       "      <th>Count_3-6_months_late</th>\n",
       "      <th>Count_6-12_months_late</th>\n",
       "      <th>Count_more_than_12_months_late</th>\n",
       "      <th>application_underwriting_score</th>\n",
       "      <th>no_of_premiums_paid</th>\n",
       "      <th>premium</th>\n",
       "      <th>renewal</th>\n",
       "      <th>id</th>\n",
       "      <th>sourcing_channel</th>\n",
       "      <th>residence_area_type</th>\n",
       "    </tr>\n",
       "  </thead>\n",
       "  <tbody>\n",
       "    <tr>\n",
       "      <th>count</th>\n",
       "      <td>79853.000000</td>\n",
       "      <td>7.985300e+04</td>\n",
       "      <td>79853.000000</td>\n",
       "      <td>79853.000000</td>\n",
       "      <td>79853.000000</td>\n",
       "      <td>79853.000000</td>\n",
       "      <td>79853.000000</td>\n",
       "      <td>79853.000000</td>\n",
       "      <td>79853.000000</td>\n",
       "      <td>79853.000000</td>\n",
       "      <td>79853.000000</td>\n",
       "      <td>79853.000000</td>\n",
       "    </tr>\n",
       "    <tr>\n",
       "      <th>mean</th>\n",
       "      <td>18846.696906</td>\n",
       "      <td>2.088472e+05</td>\n",
       "      <td>0.248672</td>\n",
       "      <td>0.078196</td>\n",
       "      <td>0.060013</td>\n",
       "      <td>99.067143</td>\n",
       "      <td>10.863887</td>\n",
       "      <td>10924.507533</td>\n",
       "      <td>0.937410</td>\n",
       "      <td>57167.166368</td>\n",
       "      <td>0.822799</td>\n",
       "      <td>0.603396</td>\n",
       "    </tr>\n",
       "    <tr>\n",
       "      <th>std</th>\n",
       "      <td>5208.719136</td>\n",
       "      <td>4.965826e+05</td>\n",
       "      <td>0.691051</td>\n",
       "      <td>0.436246</td>\n",
       "      <td>0.311835</td>\n",
       "      <td>0.727783</td>\n",
       "      <td>5.170687</td>\n",
       "      <td>9401.676542</td>\n",
       "      <td>0.242226</td>\n",
       "      <td>32928.970160</td>\n",
       "      <td>1.052060</td>\n",
       "      <td>0.489195</td>\n",
       "    </tr>\n",
       "    <tr>\n",
       "      <th>min</th>\n",
       "      <td>7670.000000</td>\n",
       "      <td>2.403000e+04</td>\n",
       "      <td>0.000000</td>\n",
       "      <td>-0.031743</td>\n",
       "      <td>0.000000</td>\n",
       "      <td>91.900000</td>\n",
       "      <td>2.000000</td>\n",
       "      <td>1200.000000</td>\n",
       "      <td>0.000000</td>\n",
       "      <td>2.000000</td>\n",
       "      <td>0.000000</td>\n",
       "      <td>0.000000</td>\n",
       "    </tr>\n",
       "    <tr>\n",
       "      <th>25%</th>\n",
       "      <td>14974.000000</td>\n",
       "      <td>1.080100e+05</td>\n",
       "      <td>0.000000</td>\n",
       "      <td>0.000000</td>\n",
       "      <td>0.000000</td>\n",
       "      <td>98.830000</td>\n",
       "      <td>7.000000</td>\n",
       "      <td>5400.000000</td>\n",
       "      <td>1.000000</td>\n",
       "      <td>28640.000000</td>\n",
       "      <td>0.000000</td>\n",
       "      <td>0.000000</td>\n",
       "    </tr>\n",
       "    <tr>\n",
       "      <th>50%</th>\n",
       "      <td>18625.000000</td>\n",
       "      <td>1.665600e+05</td>\n",
       "      <td>0.000000</td>\n",
       "      <td>0.000000</td>\n",
       "      <td>0.000000</td>\n",
       "      <td>99.190000</td>\n",
       "      <td>10.000000</td>\n",
       "      <td>7500.000000</td>\n",
       "      <td>1.000000</td>\n",
       "      <td>57262.000000</td>\n",
       "      <td>0.000000</td>\n",
       "      <td>1.000000</td>\n",
       "    </tr>\n",
       "    <tr>\n",
       "      <th>75%</th>\n",
       "      <td>22636.000000</td>\n",
       "      <td>2.520900e+05</td>\n",
       "      <td>0.000000</td>\n",
       "      <td>0.000000</td>\n",
       "      <td>0.000000</td>\n",
       "      <td>99.520000</td>\n",
       "      <td>14.000000</td>\n",
       "      <td>13800.000000</td>\n",
       "      <td>1.000000</td>\n",
       "      <td>85632.000000</td>\n",
       "      <td>2.000000</td>\n",
       "      <td>1.000000</td>\n",
       "    </tr>\n",
       "    <tr>\n",
       "      <th>max</th>\n",
       "      <td>37602.000000</td>\n",
       "      <td>9.026260e+07</td>\n",
       "      <td>13.000000</td>\n",
       "      <td>17.000000</td>\n",
       "      <td>11.000000</td>\n",
       "      <td>112.217507</td>\n",
       "      <td>60.000000</td>\n",
       "      <td>60000.000000</td>\n",
       "      <td>1.000000</td>\n",
       "      <td>114076.000000</td>\n",
       "      <td>4.000000</td>\n",
       "      <td>1.000000</td>\n",
       "    </tr>\n",
       "  </tbody>\n",
       "</table>\n",
       "</div>"
      ],
      "text/plain": [
       "        age_in_days        Income  Count_3-6_months_late  \\\n",
       "count  79853.000000  7.985300e+04           79853.000000   \n",
       "mean   18846.696906  2.088472e+05               0.248672   \n",
       "std     5208.719136  4.965826e+05               0.691051   \n",
       "min     7670.000000  2.403000e+04               0.000000   \n",
       "25%    14974.000000  1.080100e+05               0.000000   \n",
       "50%    18625.000000  1.665600e+05               0.000000   \n",
       "75%    22636.000000  2.520900e+05               0.000000   \n",
       "max    37602.000000  9.026260e+07              13.000000   \n",
       "\n",
       "       Count_6-12_months_late  Count_more_than_12_months_late  \\\n",
       "count            79853.000000                    79853.000000   \n",
       "mean                 0.078196                        0.060013   \n",
       "std                  0.436246                        0.311835   \n",
       "min                 -0.031743                        0.000000   \n",
       "25%                  0.000000                        0.000000   \n",
       "50%                  0.000000                        0.000000   \n",
       "75%                  0.000000                        0.000000   \n",
       "max                 17.000000                       11.000000   \n",
       "\n",
       "       application_underwriting_score  no_of_premiums_paid       premium  \\\n",
       "count                    79853.000000         79853.000000  79853.000000   \n",
       "mean                        99.067143            10.863887  10924.507533   \n",
       "std                          0.727783             5.170687   9401.676542   \n",
       "min                         91.900000             2.000000   1200.000000   \n",
       "25%                         98.830000             7.000000   5400.000000   \n",
       "50%                         99.190000            10.000000   7500.000000   \n",
       "75%                         99.520000            14.000000  13800.000000   \n",
       "max                        112.217507            60.000000  60000.000000   \n",
       "\n",
       "            renewal             id  sourcing_channel  residence_area_type  \n",
       "count  79853.000000   79853.000000      79853.000000         79853.000000  \n",
       "mean       0.937410   57167.166368          0.822799             0.603396  \n",
       "std        0.242226   32928.970160          1.052060             0.489195  \n",
       "min        0.000000       2.000000          0.000000             0.000000  \n",
       "25%        1.000000   28640.000000          0.000000             0.000000  \n",
       "50%        1.000000   57262.000000          0.000000             1.000000  \n",
       "75%        1.000000   85632.000000          2.000000             1.000000  \n",
       "max        1.000000  114076.000000          4.000000             1.000000  "
      ]
     },
     "execution_count": 28,
     "metadata": {},
     "output_type": "execute_result"
    }
   ],
   "source": [
    "# univariate analysis for continuous variables\n",
    "train_na_removed_df.iloc[:,1:].describe()"
   ]
  },
  {
   "cell_type": "markdown",
   "metadata": {},
   "source": [
    "## bivariate with response variable"
   ]
  },
  {
   "cell_type": "code",
   "execution_count": 31,
   "metadata": {},
   "outputs": [
    {
     "data": {
      "text/plain": [
       "Index(['age_in_days', 'Income', 'Count_3-6_months_late',\n",
       "       'Count_6-12_months_late', 'Count_more_than_12_months_late',\n",
       "       'application_underwriting_score', 'no_of_premiums_paid', 'premium',\n",
       "       'renewal', 'id', 'sourcing_channel', 'residence_area_type'],\n",
       "      dtype='object')"
      ]
     },
     "execution_count": 31,
     "metadata": {},
     "output_type": "execute_result"
    }
   ],
   "source": [
    "pd.DataFrame(train_na_removed_df.iloc[:,1:].describe()).columns"
   ]
  },
  {
   "cell_type": "code",
   "execution_count": 32,
   "metadata": {},
   "outputs": [],
   "source": [
    "#this function calculates the renewal rate\n",
    "def renewal_rate_continous_var_calc(row):\n",
    "    renewal_rate = float(row['residence_area_type'][1] / float(row['residence_area_type'][0] + row['residence_area_type'][1]))\n",
    "    return renewal_rate"
   ]
  },
  {
   "cell_type": "code",
   "execution_count": 33,
   "metadata": {
    "scrolled": false
   },
   "outputs": [
    {
     "name": "stderr",
     "output_type": "stream",
     "text": [
      "C:\\Users\\prathmesh\\Miniconda3\\envs\\py35tfgpu\\lib\\site-packages\\matplotlib\\figure.py:459: UserWarning: matplotlib is currently using a non-GUI backend, so cannot show the figure\n",
      "  \"matplotlib is currently using a non-GUI backend, \"\n"
     ]
    },
    {
     "data": {
      "image/png": "[encoded data removed]",
      "text/plain": [
       "<Figure size 576x288 with 1 Axes>"
      ]
     },
     "metadata": {},
     "output_type": "display_data"
    },
    {
     "data": {
      "image/png": "[encoded data removed]",
      "text/plain": [
       "<Figure size 576x288 with 1 Axes>"
      ]
     },
     "metadata": {},
     "output_type": "display_data"
    },
    {
     "data": {
      "image/png": "[encoded data removed]",
      "text/plain": [
       "<Figure size 576x288 with 1 Axes>"
      ]
     },
     "metadata": {},
     "output_type": "display_data"
    },
    {
     "data": {
      "image/png": "[encoded data removed]",
      "text/plain": [
       "<Figure size 576x288 with 1 Axes>"
      ]
     },
     "metadata": {},
     "output_type": "display_data"
    },
    {
     "data": {
      "image/png": "[encoded data removed]",
      "text/plain": [
       "<Figure size 576x288 with 1 Axes>"
      ]
     },
     "metadata": {},
     "output_type": "display_data"
    },
    {
     "data": {
      "image/png": "[encoded data removed]",
      "text/plain": [
       "<Figure size 576x288 with 1 Axes>"
      ]
     },
     "metadata": {},
     "output_type": "display_data"
    },
    {
     "data": {
      "image/png": "[encoded data removed]",
      "text/plain": [
       "<Figure size 576x288 with 1 Axes>"
      ]
     },
     "metadata": {},
     "output_type": "display_data"
    },
    {
     "data": {
      "image/png": "[encoded data removed]",
      "text/plain": [
       "<Figure size 576x288 with 1 Axes>"
      ]
     },
     "metadata": {},
     "output_type": "display_data"
    },
    {
     "data": {
      "image/png": "[encoded data removed]",
      "text/plain": [
       "<Figure size 576x288 with 1 Axes>"
      ]
     },
     "metadata": {},
     "output_type": "display_data"
    }
   ],
   "source": [
    "#here we do a bivariate for column vs renewal rate for continuous variables\n",
    "\n",
    "for cols in continuous_vars:\n",
    "    \n",
    "    fig,(ax) = plt.subplots(figsize=(8,4), ncols=1)\n",
    "    \n",
    "    pivot_test = pd.pivot_table(train_na_removed_df,index=(str(cols), 'renewal'), values=('residence_area_type'), aggfunc=len)\n",
    "\n",
    "    pivot_test = pivot_test.unstack()\n",
    "    pivot_test = pivot_test.reset_index()\n",
    "\n",
    "    pivot_test['renewal_rate'] = pivot_test.apply(renewal_rate_continous_var_calc, axis=1)\n",
    "    \n",
    "    x_axis = pivot_test[cols][pivot_test['renewal_rate'].notnull()]\n",
    "    \n",
    "    #plotting line\n",
    "    failure_rate, = ax.plot(x_axis,pivot_test['renewal_rate'][pivot_test['renewal_rate'].notnull()],linewidth = 1, label = 'renewal_rate')\n",
    "\n",
    "    #processing for trendline\n",
    "    z = np.polyfit(x_axis, pivot_test['renewal_rate'][pivot_test['renewal_rate'].notnull()],1)\n",
    "    p = np.poly1d(z)\n",
    "\n",
    "    #plotting trendline\n",
    "    trend_line, = ax.plot(pivot_test[cols][(pivot_test['residence_area_type'][1].notnull()) & (pivot_test['residence_area_type'][0].notnull())],p(pivot_test[cols][(pivot_test['residence_area_type'][1].notnull()) & (pivot_test['residence_area_type'][0].notnull())]),\"r-\", label = 'trend_line')\n",
    "\n",
    "\n",
    "    plt.xlabel(cols)\n",
    "    plt.ylabel('renewal_rate')\n",
    "\n",
    "    plt.xlim(xmin = 0)\n",
    "    \n",
    "    ax.legend([failure_rate, trend_line], ['renewal_rate', 'trend_line'])\n",
    "    fig.tight_layout()\n",
    "    fig.show()"
   ]
  },
  {
   "cell_type": "markdown",
   "metadata": {},
   "source": [
    "*** Considerable variation in renewal rate is observed across continuous variables ***"
   ]
  },
  {
   "cell_type": "code",
   "execution_count": 34,
   "metadata": {},
   "outputs": [],
   "source": [
    "#this function calculates the renewal rate\n",
    "def renewal_rate_categorical_var_calc(row):\n",
    "    renewal_rate = float(row['id'][1] / float(row['id'][0] + row['id'][1]))\n",
    "    return renewal_rate"
   ]
  },
  {
   "cell_type": "code",
   "execution_count": 35,
   "metadata": {},
   "outputs": [
    {
     "data": {
      "image/png": "[encoded data removed]",
      "text/plain": [
       "<Figure size 864x288 with 1 Axes>"
      ]
     },
     "metadata": {},
     "output_type": "display_data"
    },
    {
     "data": {
      "image/png": "[encoded data removed]",
      "text/plain": [
       "<Figure size 864x288 with 1 Axes>"
      ]
     },
     "metadata": {},
     "output_type": "display_data"
    }
   ],
   "source": [
    "#here we do a bivariate for column vs renewal rate for catagorical variables\n",
    "for cols in catagorical_vars:\n",
    "    fig,(ax) = plt.subplots(figsize=(12,4), ncols=1)\n",
    "    \n",
    "    pivot_test = pd.pivot_table(train_na_removed_df,index=(str(cols), 'renewal'), values=('id'), aggfunc=len)\n",
    "\n",
    "    pivot_test = pivot_test.unstack()\n",
    "    pivot_test = pivot_test.reset_index()\n",
    "\n",
    "    pivot_test['renewal_rate'] = pivot_test.apply(renewal_rate_categorical_var_calc, axis=1)\n",
    "    pivot_test['renewal_rate'].plot(kind='bar')\n",
    "    plt.legend([failure_rate], ['renewal_rate'])\n",
    "    plt.xlabel(str(cols) + ' categories')\n",
    "    plt.ylabel('renewal_rate')\n",
    "    plt.xticks(np.array(pivot_test.index),pivot_test[str(cols)])"
   ]
  },
  {
   "cell_type": "markdown",
   "metadata": {},
   "source": [
    "*** Not much variation in renewal rate is observed across catagorical variables ***"
   ]
  },
  {
   "cell_type": "markdown",
   "metadata": {},
   "source": [
    "*** From the bivariate analysis we can assume that the catagorical variables do not contribute to much variation in the response variable (renewal) ***"
   ]
  },
  {
   "cell_type": "markdown",
   "metadata": {},
   "source": [
    "## Heatmap for correlation"
   ]
  },
  {
   "cell_type": "code",
   "execution_count": 29,
   "metadata": {},
   "outputs": [
    {
     "data": {
      "text/plain": [
       "<matplotlib.axes._subplots.AxesSubplot at 0x1efd3429400>"
      ]
     },
     "execution_count": 29,
     "metadata": {},
     "output_type": "execute_result"
    },
    {
     "data": {
      "image/png": "[encoded data removed]",
      "text/plain": [
       "<Figure size 432x288 with 2 Axes>"
      ]
     },
     "metadata": {},
     "output_type": "display_data"
    }
   ],
   "source": [
    "cor  =  train_na_removed_df.corr()\n",
    "sns.heatmap(cor.abs())"
   ]
  },
  {
   "cell_type": "markdown",
   "metadata": {},
   "source": [
    "*** Here as well heatmap shows strong correlation between residence area and other variables - so we will not consider these variables ***"
   ]
  },
  {
   "cell_type": "markdown",
   "metadata": {},
   "source": [
    "## Building model with only continuous variable"
   ]
  },
  {
   "cell_type": "code",
   "execution_count": 30,
   "metadata": {},
   "outputs": [
    {
     "data": {
      "text/plain": [
       "1    74855\n",
       "0     4998\n",
       "Name: renewal, dtype: int64"
      ]
     },
     "execution_count": 30,
     "metadata": {},
     "output_type": "execute_result"
    }
   ],
   "source": [
    "# checking for balance in class\n",
    "train_na_removed_df['renewal'].value_counts()"
   ]
  },
  {
   "cell_type": "code",
   "execution_count": 31,
   "metadata": {},
   "outputs": [
    {
     "data": {
      "text/plain": [
       "0.937409990858202"
      ]
     },
     "execution_count": 31,
     "metadata": {},
     "output_type": "execute_result"
    }
   ],
   "source": [
    "# calculating class weight\n",
    "weight_for_0 = train_na_removed_df['renewal'].sum() / len(train_na_removed_df['renewal'])\n",
    "weight_for_0"
   ]
  },
  {
   "cell_type": "markdown",
   "metadata": {},
   "source": [
    "## Logistic clf"
   ]
  },
  {
   "cell_type": "code",
   "execution_count": 39,
   "metadata": {},
   "outputs": [],
   "source": [
    "from sklearn.linear_model import LogisticRegression\n",
    "clf = LogisticRegression(class_weight='balanced')"
   ]
  },
  {
   "cell_type": "code",
   "execution_count": 40,
   "metadata": {},
   "outputs": [],
   "source": [
    "model = clf.fit(train_df_treated[continuous_vars], train_df_treated['renewal'])"
   ]
  },
  {
   "cell_type": "code",
   "execution_count": 41,
   "metadata": {},
   "outputs": [
    {
     "data": {
      "text/plain": [
       "LogisticRegression(C=1.0, class_weight='balanced', dual=False,\n",
       "          fit_intercept=True, intercept_scaling=1, max_iter=100,\n",
       "          multi_class='ovr', n_jobs=1, penalty='l2', random_state=None,\n",
       "          solver='liblinear', tol=0.0001, verbose=0, warm_start=False)"
      ]
     },
     "execution_count": 41,
     "metadata": {},
     "output_type": "execute_result"
    }
   ],
   "source": [
    "model"
   ]
  },
  {
   "cell_type": "markdown",
   "metadata": {},
   "source": [
    "## XGB clf"
   ]
  },
  {
   "cell_type": "code",
   "execution_count": 32,
   "metadata": {},
   "outputs": [
    {
     "name": "stderr",
     "output_type": "stream",
     "text": [
      "C:\\Users\\prathmesh\\Miniconda3\\envs\\py35tfgpu\\lib\\site-packages\\sklearn\\cross_validation.py:41: DeprecationWarning: This module was deprecated in version 0.18 in favor of the model_selection module into which all the refactored classes and functions are moved. Also note that the interface of the new CV iterators are different from that of this module. This module will be removed in 0.20.\n",
      "  \"This module will be removed in 0.20.\", DeprecationWarning)\n",
      "C:\\Users\\prathmesh\\Miniconda3\\envs\\py35tfgpu\\lib\\site-packages\\sklearn\\grid_search.py:42: DeprecationWarning: This module was deprecated in version 0.18 in favor of the model_selection module into which all the refactored classes and functions are moved. This module will be removed in 0.20.\n",
      "  DeprecationWarning)\n"
     ]
    }
   ],
   "source": [
    "import xgboost as xgb\n",
    "from xgboost import XGBClassifier\n",
    "from sklearn import metrics   \n",
    "from sklearn.grid_search import GridSearchCV\n",
    "from sklearn.cross_validation import *"
   ]
  },
  {
   "cell_type": "code",
   "execution_count": 33,
   "metadata": {},
   "outputs": [],
   "source": [
    "def modelfit(alg, dtrain, predictors, useTrainCV=True, cv_folds=5, early_stopping_rounds=100):\n",
    "    \n",
    "    if useTrainCV:\n",
    "        xgb_param = alg.get_xgb_params()\n",
    "        xgtrain = xgb.DMatrix(dtrain[predictors].values, label=dtrain[\"renewal\"].values)\n",
    "        cvresult = xgb.cv(xgb_param, xgtrain, num_boost_round=alg.get_params()['n_estimators'], nfold=cv_folds,\n",
    "            metrics='auc', early_stopping_rounds=early_stopping_rounds)\n",
    "        alg.set_params(n_estimators=cvresult.shape[0])\n",
    "    \n",
    "    #Fit the algorithm on the data\n",
    "    alg.fit(dtrain[predictors], dtrain[\"renewal\"],eval_metric='auc')\n",
    "        \n",
    "    #Predict training set:\n",
    "    dtrain_predictions = alg.predict(dtrain[predictors])\n",
    "    dtrain_predprob = alg.predict_proba(dtrain[predictors])[:,1]\n",
    "        \n",
    "    #Print model report:\n",
    "    print (\"\\Report\")\n",
    "    print (\"AUC Score (Train): %f\" % metrics.roc_auc_score(dtrain[\"renewal\"], dtrain_predprob))\n",
    "                    \n",
    "    feat_imp = pd.Series(alg.booster().get_fscore()).sort_values(ascending=False)\n",
    "    feat_imp.plot(kind='bar', title='Feature Importances')\n",
    "    plt.ylabel('Feature Importance Score')"
   ]
  },
  {
   "cell_type": "code",
   "execution_count": 44,
   "metadata": {},
   "outputs": [
    {
     "data": {
      "text/plain": [
       "['perc_premium_paid_by_cash_credit',\n",
       " 'age_in_days',\n",
       " 'Income',\n",
       " 'Count_3-6_months_late',\n",
       " 'Count_6-12_months_late',\n",
       " 'Count_more_than_12_months_late',\n",
       " 'application_underwriting_score',\n",
       " 'no_of_premiums_paid',\n",
       " 'premium']"
      ]
     },
     "execution_count": 44,
     "metadata": {},
     "output_type": "execute_result"
    }
   ],
   "source": [
    "continuous_vars"
   ]
  },
  {
   "cell_type": "code",
   "execution_count": 45,
   "metadata": {},
   "outputs": [
    {
     "name": "stderr",
     "output_type": "stream",
     "text": [
      "C:\\Users\\prathmesh\\Miniconda3\\envs\\py35tfgpu\\lib\\site-packages\\sklearn\\preprocessing\\label.py:151: DeprecationWarning: The truth value of an empty array is ambiguous. Returning False, but in future this will result in an error. Use `array.size > 0` to check that an array is not empty.\n",
      "  if diff:\n"
     ]
    },
    {
     "name": "stdout",
     "output_type": "stream",
     "text": [
      "\\Report\n",
      "AUC Score (Train): 0.862872\n"
     ]
    },
    {
     "data": {
      "image/png": "[encoded data removed]",
      "text/plain": [
       "<Figure size 432x288 with 1 Axes>"
      ]
     },
     "metadata": {},
     "output_type": "display_data"
    }
   ],
   "source": [
    "xgb1 = XGBClassifier(learning_rate =0.1, n_estimators=1000, max_depth=5, min_child_weight=1, \n",
    "                     gamma=0, subsample=0.8, colsample_bytree=0.8, objective= 'binary:logistic', \n",
    "                     nthread=4, scale_pos_weight=(1 - weight_for_0))\n",
    "# mean(cross_val_score(xgb1, X_train_scaled, y, cv=kfold, scoring='roc_auc', early_stopping_rounds=50))\n",
    "modelfit(xgb1, train_df_treated, continuous_vars)"
   ]
  },
  {
   "cell_type": "markdown",
   "metadata": {},
   "source": [
    "## Parameter tuning"
   ]
  },
  {
   "cell_type": "code",
   "execution_count": 77,
   "metadata": {},
   "outputs": [
    {
     "data": {
      "text/plain": [
       "([mean: 0.84024, std: 0.00432, params: {'min_child_weight': 1, 'max_depth': 3},\n",
       "  mean: 0.84058, std: 0.00427, params: {'min_child_weight': 3, 'max_depth': 3},\n",
       "  mean: 0.84056, std: 0.00422, params: {'min_child_weight': 5, 'max_depth': 3},\n",
       "  mean: 0.83295, std: 0.00461, params: {'min_child_weight': 1, 'max_depth': 5},\n",
       "  mean: 0.83394, std: 0.00429, params: {'min_child_weight': 3, 'max_depth': 5},\n",
       "  mean: 0.83466, std: 0.00424, params: {'min_child_weight': 5, 'max_depth': 5},\n",
       "  mean: 0.82387, std: 0.00498, params: {'min_child_weight': 1, 'max_depth': 7},\n",
       "  mean: 0.82605, std: 0.00489, params: {'min_child_weight': 3, 'max_depth': 7},\n",
       "  mean: 0.82799, std: 0.00436, params: {'min_child_weight': 5, 'max_depth': 7},\n",
       "  mean: 0.81583, std: 0.00513, params: {'min_child_weight': 1, 'max_depth': 9},\n",
       "  mean: 0.81977, std: 0.00519, params: {'min_child_weight': 3, 'max_depth': 9},\n",
       "  mean: 0.82237, std: 0.00471, params: {'min_child_weight': 5, 'max_depth': 9}],\n",
       " {'max_depth': 3, 'min_child_weight': 3},\n",
       " 0.8405768873007669)"
      ]
     },
     "execution_count": 77,
     "metadata": {},
     "output_type": "execute_result"
    }
   ],
   "source": [
    "param_test1  = {\n",
    " 'max_depth': list(range(3,10,2)),\n",
    " 'min_child_weight': list(range(1,6,2))\n",
    "}\n",
    "gsearch1 = GridSearchCV(estimator = XGBClassifier( learning_rate =0.01, n_estimators=5000, max_depth=5,\n",
    " min_child_weight=1, gamma=0, subsample=0.8, colsample_bytree=0.8,\n",
    " objective= 'binary:logistic', nthread=4, scale_pos_weight=(1 - weight_for_0), seed=27), \n",
    " param_grid = param_test1, scoring='roc_auc',n_jobs=4,iid=False, cv=5)\n",
    "gsearch1.fit(train_df_treated[continuous_vars],train_df_treated['renewal'])\n",
    "gsearch1.grid_scores_, gsearch1.best_params_, gsearch1.best_score_"
   ]
  },
  {
   "cell_type": "code",
   "execution_count": 78,
   "metadata": {},
   "outputs": [],
   "source": [
    "# param_test2 = {\n",
    "#  'max_depth':[1,2],\n",
    "#  'min_child_weight':[5,6]\n",
    "# }\n",
    "# gsearch2 = GridSearchCV(estimator = XGBClassifier( learning_rate =0.1, n_estimators=1000, max_depth=5,\n",
    "#  min_child_weight=1, gamma=0, subsample=0.8, colsample_bytree=0.8,\n",
    "#  objective= 'binary:logistic', nthread=4, scale_pos_weight=(1 - weight_for_0), seed=27), \n",
    "#  param_grid = param_test2, scoring='roc_auc',n_jobs=4,iid=False, cv=5)\n",
    "# gsearch2.fit(train_df_treated[continuous_vars],train_df_treated['renewal'])\n",
    "# gsearch2.grid_scores_, gsearch2.best_params_, gsearch1.best_score_"
   ]
  },
  {
   "cell_type": "code",
   "execution_count": 79,
   "metadata": {},
   "outputs": [
    {
     "data": {
      "text/plain": [
       "([mean: 0.84058, std: 0.00427, params: {'gamma': 0.0},\n",
       "  mean: 0.84056, std: 0.00427, params: {'gamma': 0.1},\n",
       "  mean: 0.84056, std: 0.00424, params: {'gamma': 0.2},\n",
       "  mean: 0.84050, std: 0.00431, params: {'gamma': 0.3},\n",
       "  mean: 0.84050, std: 0.00435, params: {'gamma': 0.4}],\n",
       " {'gamma': 0.0},\n",
       " 0.8405768873007669)"
      ]
     },
     "execution_count": 79,
     "metadata": {},
     "output_type": "execute_result"
    }
   ],
   "source": [
    "param_test3  = {\n",
    " 'gamma':[i/10.0 for i in range(0,5)]\n",
    "}\n",
    "gsearch3 = GridSearchCV(estimator = XGBClassifier( learning_rate =0.01, n_estimators=5000, max_depth=3,\n",
    " min_child_weight=3, gamma=0, subsample=0.8, colsample_bytree=0.8,\n",
    " objective= 'binary:logistic', nthread=4, scale_pos_weight=(1 - weight_for_0),seed=27), \n",
    " param_grid = param_test3, scoring='roc_auc',n_jobs=4,iid=False, cv=5)\n",
    "gsearch3.fit(train_df_treated[continuous_vars],train_df_treated['renewal'])\n",
    "gsearch3.grid_scores_, gsearch3.best_params_, gsearch3.best_score_"
   ]
  },
  {
   "cell_type": "code",
   "execution_count": 95,
   "metadata": {},
   "outputs": [
    {
     "name": "stderr",
     "output_type": "stream",
     "text": [
      "C:\\Users\\prathmesh\\Miniconda3\\envs\\py35tfgpu\\lib\\site-packages\\sklearn\\preprocessing\\label.py:151: DeprecationWarning: The truth value of an empty array is ambiguous. Returning False, but in future this will result in an error. Use `array.size > 0` to check that an array is not empty.\n",
      "  if diff:\n"
     ]
    },
    {
     "name": "stdout",
     "output_type": "stream",
     "text": [
      "\\Report\n",
      "AUC Score (Train): 0.851039\n"
     ]
    },
    {
     "data": {
      "image/png": "[encoded data removed]",
      "text/plain": [
       "<Figure size 432x288 with 1 Axes>"
      ]
     },
     "metadata": {},
     "output_type": "display_data"
    }
   ],
   "source": [
    "xgb2 = XGBClassifier(\n",
    " learning_rate =0.1,\n",
    " n_estimators=1000,\n",
    " max_depth=2,\n",
    " min_child_weight=5,\n",
    " gamma=0.0,\n",
    " subsample=0.8,\n",
    " colsample_bytree=0.8,\n",
    " objective= 'binary:logistic',\n",
    " nthread=4,\n",
    " scale_pos_weight=(1 - weight_for_0),\n",
    " seed=27)\n",
    "modelfit(xgb2, train_df_treated, continuous_vars)"
   ]
  },
  {
   "cell_type": "code",
   "execution_count": 80,
   "metadata": {},
   "outputs": [
    {
     "data": {
      "text/plain": [
       "([mean: 0.84058, std: 0.00427, params: {'reg_alpha': 0},\n",
       "  mean: 0.84058, std: 0.00427, params: {'reg_alpha': 1e-05},\n",
       "  mean: 0.84050, std: 0.00424, params: {'reg_alpha': 0.01},\n",
       "  mean: 0.84055, std: 0.00427, params: {'reg_alpha': 0.1},\n",
       "  mean: 0.84081, std: 0.00420, params: {'reg_alpha': 1},\n",
       "  mean: 0.83357, std: 0.00485, params: {'reg_alpha': 100}],\n",
       " {'reg_alpha': 1},\n",
       " 0.840814538010056)"
      ]
     },
     "execution_count": 80,
     "metadata": {},
     "output_type": "execute_result"
    }
   ],
   "source": [
    "param_test6 = {\n",
    " 'reg_alpha':[0, 1e-5, 1e-2, 0.1, 1, 100]\n",
    "}\n",
    "gsearch5 = GridSearchCV(estimator = XGBClassifier( learning_rate =0.01, n_estimators=5000, max_depth=3,\n",
    " min_child_weight=3, gamma=0.0, subsample=0.8, colsample_bytree=0.8,\n",
    " objective= 'binary:logistic', nthread=4, scale_pos_weight=(1 - weight_for_0),seed=27), \n",
    " param_grid = param_test6, scoring='roc_auc',n_jobs=4,iid=False, cv=5)\n",
    "gsearch5.fit(train_df_treated[continuous_vars],train_df_treated['renewal'])\n",
    "gsearch5.grid_scores_, gsearch5.best_params_, gsearch5.best_score_"
   ]
  },
  {
   "cell_type": "code",
   "execution_count": 86,
   "metadata": {},
   "outputs": [
    {
     "data": {
      "text/plain": [
       "([mean: 0.84086, std: 0.00414, params: {'subsample': 0.3, 'colsample_bytree': 0.6},\n",
       "  mean: 0.84083, std: 0.00370, params: {'subsample': 0.4, 'colsample_bytree': 0.6},\n",
       "  mean: 0.84062, std: 0.00397, params: {'subsample': 0.5, 'colsample_bytree': 0.6},\n",
       "  mean: 0.84062, std: 0.00409, params: {'subsample': 0.3, 'colsample_bytree': 0.7},\n",
       "  mean: 0.84064, std: 0.00392, params: {'subsample': 0.4, 'colsample_bytree': 0.7},\n",
       "  mean: 0.84051, std: 0.00427, params: {'subsample': 0.5, 'colsample_bytree': 0.7},\n",
       "  mean: 0.84057, std: 0.00403, params: {'subsample': 0.3, 'colsample_bytree': 0.8},\n",
       "  mean: 0.84039, std: 0.00439, params: {'subsample': 0.4, 'colsample_bytree': 0.8},\n",
       "  mean: 0.84028, std: 0.00431, params: {'subsample': 0.5, 'colsample_bytree': 0.8}],\n",
       " {'colsample_bytree': 0.6, 'subsample': 0.3},\n",
       " 0.8408581388883374)"
      ]
     },
     "execution_count": 86,
     "metadata": {},
     "output_type": "execute_result"
    }
   ],
   "source": [
    "param_test7 = {\n",
    " 'subsample':[0.3,0.4,0.5],\n",
    "    'colsample_bytree' : [0.5,0.6,0.7]\n",
    "}\n",
    "gsearch7 = GridSearchCV(estimator = XGBClassifier( learning_rate =0.01, n_estimators=5000, max_depth=3,\n",
    " min_child_weight=3, gamma=0.0, subsample=0.8, colsample_bytree=0.8,reg_alpha= 1,\n",
    " objective= 'binary:logistic', nthread=4, scale_pos_weight=(1 - weight_for_0),seed=27), \n",
    " param_grid = param_test7, scoring='roc_auc',n_jobs=4,iid=False, cv=5)\n",
    "gsearch7.fit(train_df_treated[continuous_vars],train_df_treated['renewal'])\n",
    "gsearch7.grid_scores_, gsearch7.best_params_, gsearch7.best_score_"
   ]
  },
  {
   "cell_type": "code",
   "execution_count": 81,
   "metadata": {},
   "outputs": [
    {
     "name": "stderr",
     "output_type": "stream",
     "text": [
      "C:\\Users\\prathmesh\\Miniconda3\\envs\\py35tfgpu\\lib\\site-packages\\sklearn\\preprocessing\\label.py:151: DeprecationWarning: The truth value of an empty array is ambiguous. Returning False, but in future this will result in an error. Use `array.size > 0` to check that an array is not empty.\n",
      "  if diff:\n"
     ]
    },
    {
     "name": "stdout",
     "output_type": "stream",
     "text": [
      "\\Report\n",
      "AUC Score (Train): 0.850308\n"
     ]
    },
    {
     "data": {
      "image/png": "[encoded data removed]",
      "text/plain": [
       "<Figure size 432x288 with 1 Axes>"
      ]
     },
     "metadata": {},
     "output_type": "display_data"
    }
   ],
   "source": [
    "xgb2 = XGBClassifier(\n",
    " learning_rate =0.01,\n",
    " n_estimators=5000,\n",
    " max_depth=3,\n",
    " min_child_weight=3,\n",
    " gamma=0.0,\n",
    " subsample=0.8,\n",
    " colsample_bytree=0.8,\n",
    " objective= 'binary:logistic',\n",
    " nthread=4,\n",
    " reg_alpha= 1,\n",
    " scale_pos_weight=(1 - weight_for_0),\n",
    " seed=27)\n",
    "modelfit(xgb2, train_df_treated, continuous_vars)"
   ]
  },
  {
   "cell_type": "markdown",
   "metadata": {},
   "source": [
    "## Model predict"
   ]
  },
  {
   "cell_type": "code",
   "execution_count": 63,
   "metadata": {},
   "outputs": [
    {
     "data": {
      "text/plain": [
       "perc_premium_paid_by_cash_credit    0\n",
       "age_in_days                         0\n",
       "Income                              0\n",
       "Count_3-6_months_late               0\n",
       "Count_6-12_months_late              0\n",
       "Count_more_than_12_months_late      0\n",
       "application_underwriting_score      0\n",
       "no_of_premiums_paid                 0\n",
       "premium                             0\n",
       "id                                  0\n",
       "sourcing_channel                    0\n",
       "residence_area_type                 0\n",
       "dtype: int64"
      ]
     },
     "execution_count": 63,
     "metadata": {},
     "output_type": "execute_result"
    }
   ],
   "source": [
    "test_df.isnull().sum()"
   ]
  },
  {
   "cell_type": "code",
   "execution_count": 41,
   "metadata": {},
   "outputs": [],
   "source": [
    "test_df['sourcing_channel'] = test_df[['sourcing_channel']].apply(LabelEncoder().fit_transform)\n",
    "test_df['residence_area_type'] = test_df[['residence_area_type']].apply(LabelEncoder().fit_transform)"
   ]
  },
  {
   "cell_type": "code",
   "execution_count": 42,
   "metadata": {},
   "outputs": [
    {
     "name": "stdout",
     "output_type": "stream",
     "text": [
      "[MICE] Completing matrix with shape (34224, 9)\n",
      "[MICE] Starting imputation round 1/110, elapsed time 0.003\n",
      "[MICE] Starting imputation round 2/110, elapsed time 0.037\n",
      "[MICE] Starting imputation round 3/110, elapsed time 0.082\n",
      "[MICE] Starting imputation round 4/110, elapsed time 0.123\n",
      "[MICE] Starting imputation round 5/110, elapsed time 0.171\n",
      "[MICE] Starting imputation round 6/110, elapsed time 0.210\n",
      "[MICE] Starting imputation round 7/110, elapsed time 0.246\n",
      "[MICE] Starting imputation round 8/110, elapsed time 0.287\n",
      "[MICE] Starting imputation round 9/110, elapsed time 0.331\n",
      "[MICE] Starting imputation round 10/110, elapsed time 0.372\n",
      "[MICE] Starting imputation round 11/110, elapsed time 0.410\n",
      "[MICE] Starting imputation round 12/110, elapsed time 0.442\n",
      "[MICE] Starting imputation round 13/110, elapsed time 0.482\n",
      "[MICE] Starting imputation round 14/110, elapsed time 0.526\n",
      "[MICE] Starting imputation round 15/110, elapsed time 0.571\n",
      "[MICE] Starting imputation round 16/110, elapsed time 0.615\n",
      "[MICE] Starting imputation round 17/110, elapsed time 0.654\n",
      "[MICE] Starting imputation round 18/110, elapsed time 0.693\n",
      "[MICE] Starting imputation round 19/110, elapsed time 0.736\n",
      "[MICE] Starting imputation round 20/110, elapsed time 0.771\n",
      "[MICE] Starting imputation round 21/110, elapsed time 0.811\n",
      "[MICE] Starting imputation round 22/110, elapsed time 0.853\n",
      "[MICE] Starting imputation round 23/110, elapsed time 0.890\n",
      "[MICE] Starting imputation round 24/110, elapsed time 0.930\n",
      "[MICE] Starting imputation round 25/110, elapsed time 0.971\n",
      "[MICE] Starting imputation round 26/110, elapsed time 1.015\n",
      "[MICE] Starting imputation round 27/110, elapsed time 1.060\n",
      "[MICE] Starting imputation round 28/110, elapsed time 1.101\n",
      "[MICE] Starting imputation round 29/110, elapsed time 1.131\n",
      "[MICE] Starting imputation round 30/110, elapsed time 1.176\n",
      "[MICE] Starting imputation round 31/110, elapsed time 1.217\n",
      "[MICE] Starting imputation round 32/110, elapsed time 1.263\n",
      "[MICE] Starting imputation round 33/110, elapsed time 1.307\n",
      "[MICE] Starting imputation round 34/110, elapsed time 1.342\n",
      "[MICE] Starting imputation round 35/110, elapsed time 1.383\n",
      "[MICE] Starting imputation round 36/110, elapsed time 1.428\n",
      "[MICE] Starting imputation round 37/110, elapsed time 1.472\n",
      "[MICE] Starting imputation round 38/110, elapsed time 1.513\n",
      "[MICE] Starting imputation round 39/110, elapsed time 1.557\n",
      "[MICE] Starting imputation round 40/110, elapsed time 1.601\n",
      "[MICE] Starting imputation round 41/110, elapsed time 1.645\n",
      "[MICE] Starting imputation round 42/110, elapsed time 1.683\n",
      "[MICE] Starting imputation round 43/110, elapsed time 1.721\n",
      "[MICE] Starting imputation round 44/110, elapsed time 1.760\n",
      "[MICE] Starting imputation round 45/110, elapsed time 1.804\n",
      "[MICE] Starting imputation round 46/110, elapsed time 1.847\n",
      "[MICE] Starting imputation round 47/110, elapsed time 1.886\n",
      "[MICE] Starting imputation round 48/110, elapsed time 1.922\n",
      "[MICE] Starting imputation round 49/110, elapsed time 1.963\n",
      "[MICE] Starting imputation round 50/110, elapsed time 2.005\n",
      "[MICE] Starting imputation round 51/110, elapsed time 2.045\n",
      "[MICE] Starting imputation round 52/110, elapsed time 2.075\n",
      "[MICE] Starting imputation round 53/110, elapsed time 2.111\n",
      "[MICE] Starting imputation round 54/110, elapsed time 2.150\n",
      "[MICE] Starting imputation round 55/110, elapsed time 2.195\n",
      "[MICE] Starting imputation round 56/110, elapsed time 2.241\n",
      "[MICE] Starting imputation round 57/110, elapsed time 2.282\n",
      "[MICE] Starting imputation round 58/110, elapsed time 2.327\n",
      "[MICE] Starting imputation round 59/110, elapsed time 2.363\n",
      "[MICE] Starting imputation round 60/110, elapsed time 2.407\n",
      "[MICE] Starting imputation round 61/110, elapsed time 2.447\n",
      "[MICE] Starting imputation round 62/110, elapsed time 2.492\n",
      "[MICE] Starting imputation round 63/110, elapsed time 2.532\n",
      "[MICE] Starting imputation round 64/110, elapsed time 2.571\n",
      "[MICE] Starting imputation round 65/110, elapsed time 2.617\n",
      "[MICE] Starting imputation round 66/110, elapsed time 2.656\n",
      "[MICE] Starting imputation round 67/110, elapsed time 2.702\n",
      "[MICE] Starting imputation round 68/110, elapsed time 2.743\n",
      "[MICE] Starting imputation round 69/110, elapsed time 2.778\n",
      "[MICE] Starting imputation round 70/110, elapsed time 2.819\n",
      "[MICE] Starting imputation round 71/110, elapsed time 2.863\n",
      "[MICE] Starting imputation round 72/110, elapsed time 2.907\n",
      "[MICE] Starting imputation round 73/110, elapsed time 2.950\n",
      "[MICE] Starting imputation round 74/110, elapsed time 2.993\n",
      "[MICE] Starting imputation round 75/110, elapsed time 3.032\n",
      "[MICE] Starting imputation round 76/110, elapsed time 3.080\n",
      "[MICE] Starting imputation round 77/110, elapsed time 3.123\n",
      "[MICE] Starting imputation round 78/110, elapsed time 3.170\n",
      "[MICE] Starting imputation round 79/110, elapsed time 3.211\n",
      "[MICE] Starting imputation round 80/110, elapsed time 3.249\n",
      "[MICE] Starting imputation round 81/110, elapsed time 3.287\n",
      "[MICE] Starting imputation round 82/110, elapsed time 3.335\n",
      "[MICE] Starting imputation round 83/110, elapsed time 3.378\n",
      "[MICE] Starting imputation round 84/110, elapsed time 3.414\n",
      "[MICE] Starting imputation round 85/110, elapsed time 3.449\n",
      "[MICE] Starting imputation round 86/110, elapsed time 3.495\n",
      "[MICE] Starting imputation round 87/110, elapsed time 3.538\n",
      "[MICE] Starting imputation round 88/110, elapsed time 3.582\n",
      "[MICE] Starting imputation round 89/110, elapsed time 3.622\n",
      "[MICE] Starting imputation round 90/110, elapsed time 3.661\n",
      "[MICE] Starting imputation round 91/110, elapsed time 3.702\n",
      "[MICE] Starting imputation round 92/110, elapsed time 3.747\n",
      "[MICE] Starting imputation round 93/110, elapsed time 3.790\n",
      "[MICE] Starting imputation round 94/110, elapsed time 3.831\n",
      "[MICE] Starting imputation round 95/110, elapsed time 3.868\n",
      "[MICE] Starting imputation round 96/110, elapsed time 3.912\n",
      "[MICE] Starting imputation round 97/110, elapsed time 3.956\n",
      "[MICE] Starting imputation round 98/110, elapsed time 4.003\n",
      "[MICE] Starting imputation round 99/110, elapsed time 4.044\n",
      "[MICE] Starting imputation round 100/110, elapsed time 4.082\n",
      "[MICE] Starting imputation round 101/110, elapsed time 4.130\n",
      "[MICE] Starting imputation round 102/110, elapsed time 4.174\n",
      "[MICE] Starting imputation round 103/110, elapsed time 4.221\n",
      "[MICE] Starting imputation round 104/110, elapsed time 4.263\n",
      "[MICE] Starting imputation round 105/110, elapsed time 4.303\n",
      "[MICE] Starting imputation round 106/110, elapsed time 4.343\n",
      "[MICE] Starting imputation round 107/110, elapsed time 4.386\n",
      "[MICE] Starting imputation round 108/110, elapsed time 4.427\n",
      "[MICE] Starting imputation round 109/110, elapsed time 4.460\n",
      "[MICE] Starting imputation round 110/110, elapsed time 4.491\n"
     ]
    }
   ],
   "source": [
    "# df is my data frame with the missings. I keep only floats\n",
    "df_numeric = test_df[continuous_vars].as_matrix()\n",
    "\n",
    "# it returns a np.array which I store as a pandas dataframe\n",
    "imputed_array = MICE().complete(df_numeric)\n",
    "# df_standarized_filled = preprocessing.scale(imputed_array)\n",
    "df_filled = pd.DataFrame(imputed_array)\n",
    "df_filled.columns = test_df[continuous_vars].columns\n",
    "df_filled.index = test_df[continuous_vars].index"
   ]
  },
  {
   "cell_type": "code",
   "execution_count": 43,
   "metadata": {},
   "outputs": [],
   "source": [
    "test_df_treated = df_filled.copy()"
   ]
  },
  {
   "cell_type": "code",
   "execution_count": 44,
   "metadata": {},
   "outputs": [],
   "source": [
    "test_df_treated['id'] = test_df['id']\n",
    "test_df_treated['sourcing_channel'] = test_df['sourcing_channel']\n",
    "test_df_treated['residence_area_type'] = test_df['residence_area_type']"
   ]
  },
  {
   "cell_type": "code",
   "execution_count": 45,
   "metadata": {},
   "outputs": [],
   "source": [
    "test_df = test_df_treated.copy()"
   ]
  },
  {
   "cell_type": "code",
   "execution_count": 46,
   "metadata": {},
   "outputs": [],
   "source": [
    "# test_df"
   ]
  },
  {
   "cell_type": "code",
   "execution_count": 64,
   "metadata": {},
   "outputs": [],
   "source": [
    "predicted_vals = xgb2.predict_proba(test_df[continuous_vars])"
   ]
  },
  {
   "cell_type": "code",
   "execution_count": 65,
   "metadata": {},
   "outputs": [],
   "source": [
    "probs = pd.DataFrame(predicted_vals)"
   ]
  },
  {
   "cell_type": "code",
   "execution_count": 66,
   "metadata": {},
   "outputs": [],
   "source": [
    "renewal_for_policy = pd.DataFrame({'id' : test_df['id'], 'renewal':probs[1]})"
   ]
  },
  {
   "cell_type": "code",
   "execution_count": 67,
   "metadata": {},
   "outputs": [
    {
     "data": {
      "text/html": [
       "<div>\n",
       "<style scoped>\n",
       "    .dataframe tbody tr th:only-of-type {\n",
       "        vertical-align: middle;\n",
       "    }\n",
       "\n",
       "    .dataframe tbody tr th {\n",
       "        vertical-align: top;\n",
       "    }\n",
       "\n",
       "    .dataframe thead th {\n",
       "        text-align: right;\n",
       "    }\n",
       "</style>\n",
       "<table border=\"1\" class=\"dataframe\">\n",
       "  <thead>\n",
       "    <tr style=\"text-align: right;\">\n",
       "      <th></th>\n",
       "      <th>id</th>\n",
       "      <th>renewal</th>\n",
       "    </tr>\n",
       "  </thead>\n",
       "  <tbody>\n",
       "    <tr>\n",
       "      <th>0</th>\n",
       "      <td>649</td>\n",
       "      <td>0.901264</td>\n",
       "    </tr>\n",
       "    <tr>\n",
       "      <th>1</th>\n",
       "      <td>81136</td>\n",
       "      <td>0.796898</td>\n",
       "    </tr>\n",
       "  </tbody>\n",
       "</table>\n",
       "</div>"
      ],
      "text/plain": [
       "      id   renewal\n",
       "0    649  0.901264\n",
       "1  81136  0.796898"
      ]
     },
     "execution_count": 67,
     "metadata": {},
     "output_type": "execute_result"
    }
   ],
   "source": [
    "renewal_for_policy.head(2)"
   ]
  },
  {
   "cell_type": "markdown",
   "metadata": {},
   "source": [
    "## Calculate incentives"
   ]
  },
  {
   "cell_type": "code",
   "execution_count": 68,
   "metadata": {},
   "outputs": [],
   "source": [
    "def calc_agent_efforts(row):\n",
    "    return  20*(1-np.exp(-row/5))"
   ]
  },
  {
   "cell_type": "code",
   "execution_count": 69,
   "metadata": {},
   "outputs": [],
   "source": [
    "def calc_incentives(row):\n",
    "    return 10*(1-np.exp(-row/400))"
   ]
  },
  {
   "cell_type": "code",
   "execution_count": 70,
   "metadata": {},
   "outputs": [],
   "source": [
    "renewal_for_policy['improvement_in_probability'] = renewal_for_policy[['renewal']]"
   ]
  },
  {
   "cell_type": "code",
   "execution_count": 71,
   "metadata": {},
   "outputs": [],
   "source": [
    "renewal_for_policy['agent_efforts'] = renewal_for_policy[['improvement_in_probability']].apply(calc_agent_efforts)"
   ]
  },
  {
   "cell_type": "code",
   "execution_count": 72,
   "metadata": {},
   "outputs": [],
   "source": [
    "renewal_for_policy['incentives'] = renewal_for_policy[['agent_efforts']].apply(calc_incentives)"
   ]
  },
  {
   "cell_type": "code",
   "execution_count": 73,
   "metadata": {},
   "outputs": [
    {
     "data": {
      "text/html": [
       "<div>\n",
       "<style scoped>\n",
       "    .dataframe tbody tr th:only-of-type {\n",
       "        vertical-align: middle;\n",
       "    }\n",
       "\n",
       "    .dataframe tbody tr th {\n",
       "        vertical-align: top;\n",
       "    }\n",
       "\n",
       "    .dataframe thead th {\n",
       "        text-align: right;\n",
       "    }\n",
       "</style>\n",
       "<table border=\"1\" class=\"dataframe\">\n",
       "  <thead>\n",
       "    <tr style=\"text-align: right;\">\n",
       "      <th></th>\n",
       "      <th>id</th>\n",
       "      <th>renewal</th>\n",
       "      <th>improvement_in_probability</th>\n",
       "      <th>agent_efforts</th>\n",
       "      <th>incentives</th>\n",
       "    </tr>\n",
       "  </thead>\n",
       "  <tbody>\n",
       "    <tr>\n",
       "      <th>0</th>\n",
       "      <td>649</td>\n",
       "      <td>0.901264</td>\n",
       "      <td>0.901264</td>\n",
       "      <td>3.298817</td>\n",
       "      <td>0.082131</td>\n",
       "    </tr>\n",
       "    <tr>\n",
       "      <th>1</th>\n",
       "      <td>81136</td>\n",
       "      <td>0.796898</td>\n",
       "      <td>0.796898</td>\n",
       "      <td>2.946548</td>\n",
       "      <td>0.073393</td>\n",
       "    </tr>\n",
       "    <tr>\n",
       "      <th>2</th>\n",
       "      <td>70762</td>\n",
       "      <td>0.336107</td>\n",
       "      <td>0.336107</td>\n",
       "      <td>1.300235</td>\n",
       "      <td>0.032453</td>\n",
       "    </tr>\n",
       "    <tr>\n",
       "      <th>3</th>\n",
       "      <td>53935</td>\n",
       "      <td>0.752118</td>\n",
       "      <td>0.752118</td>\n",
       "      <td>2.793130</td>\n",
       "      <td>0.069585</td>\n",
       "    </tr>\n",
       "    <tr>\n",
       "      <th>4</th>\n",
       "      <td>15476</td>\n",
       "      <td>0.648094</td>\n",
       "      <td>0.648094</td>\n",
       "      <td>2.431396</td>\n",
       "      <td>0.060601</td>\n",
       "    </tr>\n",
       "  </tbody>\n",
       "</table>\n",
       "</div>"
      ],
      "text/plain": [
       "      id   renewal  improvement_in_probability  agent_efforts  incentives\n",
       "0    649  0.901264                    0.901264       3.298817    0.082131\n",
       "1  81136  0.796898                    0.796898       2.946548    0.073393\n",
       "2  70762  0.336107                    0.336107       1.300235    0.032453\n",
       "3  53935  0.752118                    0.752118       2.793130    0.069585\n",
       "4  15476  0.648094                    0.648094       2.431396    0.060601"
      ]
     },
     "execution_count": 73,
     "metadata": {},
     "output_type": "execute_result"
    }
   ],
   "source": [
    "renewal_for_policy.head()"
   ]
  },
  {
   "cell_type": "code",
   "execution_count": 74,
   "metadata": {},
   "outputs": [],
   "source": [
    "renewal_for_policy_final = pd.DataFrame({'id' : test_df['id'], 'renewal':probs[1], 'incentives' : (test_df_orig['premium'] * renewal_for_policy['incentives'])})"
   ]
  },
  {
   "cell_type": "code",
   "execution_count": 75,
   "metadata": {},
   "outputs": [
    {
     "data": {
      "text/html": [
       "<div>\n",
       "<style scoped>\n",
       "    .dataframe tbody tr th:only-of-type {\n",
       "        vertical-align: middle;\n",
       "    }\n",
       "\n",
       "    .dataframe tbody tr th {\n",
       "        vertical-align: top;\n",
       "    }\n",
       "\n",
       "    .dataframe thead th {\n",
       "        text-align: right;\n",
       "    }\n",
       "</style>\n",
       "<table border=\"1\" class=\"dataframe\">\n",
       "  <thead>\n",
       "    <tr style=\"text-align: right;\">\n",
       "      <th></th>\n",
       "      <th>id</th>\n",
       "      <th>incentives</th>\n",
       "      <th>renewal</th>\n",
       "    </tr>\n",
       "  </thead>\n",
       "  <tbody>\n",
       "    <tr>\n",
       "      <th>0</th>\n",
       "      <td>649</td>\n",
       "      <td>271.032393</td>\n",
       "      <td>0.901264</td>\n",
       "    </tr>\n",
       "    <tr>\n",
       "      <th>1</th>\n",
       "      <td>81136</td>\n",
       "      <td>858.697951</td>\n",
       "      <td>0.796898</td>\n",
       "    </tr>\n",
       "    <tr>\n",
       "      <th>2</th>\n",
       "      <td>70762</td>\n",
       "      <td>379.699409</td>\n",
       "      <td>0.336107</td>\n",
       "    </tr>\n",
       "    <tr>\n",
       "      <th>3</th>\n",
       "      <td>53935</td>\n",
       "      <td>375.758171</td>\n",
       "      <td>0.752118</td>\n",
       "    </tr>\n",
       "    <tr>\n",
       "      <th>4</th>\n",
       "      <td>15476</td>\n",
       "      <td>581.766129</td>\n",
       "      <td>0.648094</td>\n",
       "    </tr>\n",
       "  </tbody>\n",
       "</table>\n",
       "</div>"
      ],
      "text/plain": [
       "      id  incentives   renewal\n",
       "0    649  271.032393  0.901264\n",
       "1  81136  858.697951  0.796898\n",
       "2  70762  379.699409  0.336107\n",
       "3  53935  375.758171  0.752118\n",
       "4  15476  581.766129  0.648094"
      ]
     },
     "execution_count": 75,
     "metadata": {},
     "output_type": "execute_result"
    }
   ],
   "source": [
    "renewal_for_policy_final.head()"
   ]
  },
  {
   "cell_type": "code",
   "execution_count": 76,
   "metadata": {},
   "outputs": [],
   "source": [
    "renewal_for_policy_final.to_csv('renewal_of_policy_xgb_tuned_params_more_eta.csv', index=False)"
   ]
  }
 ],
 "metadata": {
  "kernelspec": {
   "display_name": "Python 3",
   "language": "python",
   "name": "python3"
  },
  "language_info": {
   "codemirror_mode": {
    "name": "ipython",
    "version": 3
   },
   "file_extension": ".py",
   "mimetype": "text/x-python",
   "name": "python",
   "nbconvert_exporter": "python",
   "pygments_lexer": "ipython3",
   "version": "3.5.0"
  },
  "widgets": {
   "state": {},
   "version": "1.1.2"
  }
 },
 "nbformat": 4,
 "nbformat_minor": 2
}
